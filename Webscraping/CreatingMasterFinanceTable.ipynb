{
 "cells": [
  {
   "cell_type": "markdown",
   "metadata": {},
   "source": [
    "This file was used to blend our financial data sources"
   ]
  },
  {
   "cell_type": "code",
   "execution_count": 1,
   "metadata": {},
   "outputs": [],
   "source": [
    "import numpy as np\n",
    "import pandas as pd\n",
    "from pandasql import sqldf"
   ]
  },
  {
   "cell_type": "code",
   "execution_count": 2,
   "metadata": {},
   "outputs": [],
   "source": [
    "#Importing into dataframe\n",
    "df_Bom_MovieGross = pd.read_csv(\"../zippedData/bom.movie_gross.csv.gz\", delimiter=',', encoding='utf8')\n",
    "df_TN_Movie_Budgets = pd.read_csv(\"../zippedData/tn.movie_budgets.csv.gz\", delimiter=',')\n",
    "df_TN_Movie_Budgets = pd.read_csv(\"../zippedData/tn.movie_budgets.csv.gz\", delimiter=',')\n",
    "df_Scrp_Financials = pd.read_excel(\"../zippedData/df_Financials_SummaryAndDetail_Imdb_Dom.xlsx\")\n",
    "df_IMDB_Akas_english = pd.read_excel(\"../zippedData/df_IMDB_Akas_english.xlsx\")\n",
    "df_IMDB_InflationAdjuster = pd.read_excel(\"../zippedData/InflationAdjuster.xlsx\")"
   ]
  },
  {
   "cell_type": "code",
   "execution_count": 3,
   "metadata": {},
   "outputs": [],
   "source": [
    "#PREPARE THE FINACIAL DATA:  WE USED 2 SOURCES, 1 FROM FLATIRON DOWNLOAD,\n",
    "#2 FROM SCRAPING IMDB Site :https://www.boxofficemojo.com/\n",
    "#Prepraring to work with Movie Gross Df, cleaning up data and create right datatypes\n",
    "df_Bom_MovieGross.name = \"df_Bom_MovieGross\"\n",
    "df_Bom_MovieGross['foreign_gross'] = pd.to_numeric(df_Bom_MovieGross['foreign_gross'], errors='coerce')\n",
    "df_Bom_MovieGross['year_str_BOM'] = df_Bom_MovieGross['year'].astype(str)\n",
    "df_Bom_MovieGross['year'] = df_Bom_MovieGross['year'].astype(int)\n",
    "df_Bom_MovieGross_values = {'domestic_gross':0, 'foreign_gross': 0}\n",
    "df_Bom_MovieGross.fillna(value=df_Bom_MovieGross_values, inplace=True)\n",
    "df_Bom_MovieGross[\"wwg_calc_BOM\"] = 0 \n",
    "df_Bom_MovieGross['title'] = df_Bom_MovieGross['title'].str.title() #******KEY STEP\n",
    "df_Bom_MovieGross[\"titleyear\"] = df_Bom_MovieGross['title'] + df_Bom_MovieGross['year_str_BOM']\n",
    "df_Bom_MovieGross[\"wwg_calc_BOM\"] = (df_Bom_MovieGross['domestic_gross'] + df_Bom_MovieGross['foreign_gross'])\n",
    "\n",
    "#Renaming to aid in consolidating between the three sources\n",
    "df_Bom_MovieGross.rename(columns={\"foreign_gross\": \"fg_BOM\", \"domestic_gross\": \"dg_BOM\",\"year\": \"year_BOM\",\n",
    "                                             \"title\":\"title_BOM\",\"studio\":\"studio_BOM\" },inplace=True)\n",
    "\n",
    "#Prepraring to work with Movie budgets, cleaning up data and create right datatypes\n",
    "df_TN_Movie_Budgets.name = \"df_TN_Movie_Budgets\"\n",
    "df_TN_Movie_Budgets[df_TN_Movie_Budgets.columns[1:]] = df_TN_Movie_Budgets[df_TN_Movie_Budgets.columns[1:]].replace('[\\$,]', '', regex=True)\n",
    "df_TN_Movie_Budgets['production_budget'] = pd.to_numeric(df_TN_Movie_Budgets['production_budget'],errors='coerce')\n",
    "df_TN_Movie_Budgets['domestic_gross'] = pd.to_numeric(df_TN_Movie_Budgets['domestic_gross'],errors='coerce')\n",
    "df_TN_Movie_Budgets['worldwide_gross'] = pd.to_numeric(df_TN_Movie_Budgets['worldwide_gross'],errors='coerce')\n",
    "\n",
    "df_TN_Movie_Budgets_values = {'domestic_gross': 0, 'year':0 , 'worldwide_gross': 0}\n",
    "df_TN_Movie_Budgets.fillna(value=df_TN_Movie_Budgets_values, inplace=True)\n",
    "df_TN_Movie_Budgets[\"fg_calc\"] = 0\n",
    "\n",
    "df_TN_Movie_Budgets['movie'] = df_TN_Movie_Budgets['movie'].str.title() #******KEY STEP\n",
    "df_TN_Movie_Budgets[\"year\"] = df_TN_Movie_Budgets['release_date'].str[-4:].astype(int)\n",
    "df_TN_Movie_Budgets[\"year_str_TN\"] = df_TN_Movie_Budgets['release_date'].str[-4:]\n",
    "df_TN_Movie_Budgets[\"titleyear\"] = df_TN_Movie_Budgets['movie'] + df_TN_Movie_Budgets['year_str_TN']\n",
    "df_TN_Movie_Budgets[\"fg_calc_TN\"] = (df_TN_Movie_Budgets['worldwide_gross'] - df_TN_Movie_Budgets['domestic_gross'])\n",
    "df_TN_Movie_Budgets = df_TN_Movie_Budgets.drop('id', axis = 1)\n",
    "df_TN_Movie_Budgets.rename(columns={\"domestic_gross\": \"dg_TN\", \"worldwide_gross\": \"wwg_TN\",\"year\": \"year_TN\", \n",
    "                                    \"production_budget\": \"pb_TN\" ,\"movie\":\"title_TN\",\"release_date\":\"rd_TN\" }, inplace=True)\n",
    "\n",
    "#needed to do this steep to collapse data given there are dups in a few movienames and titles - ?bluebeard\n",
    "pysqldf = lambda q: sqldf(q, globals())\n",
    "q3 = \"\"\"SELECT titleyear as titleyear, max(title_TN) as title_TN, max(year_TN) as year_TN, min(year_str_TN) as year_str_TN, \n",
    "min(rd_TN) as rd_TN, Sum(pb_TN) as pb_TN,sum(dg_TN) as dg_TN, sum(wwg_TN) as wwg_TN , sum(fg_calc_TN) as fg_calc_TN\n",
    "        FROM df_TN_Movie_Budgets\n",
    "        GROUP BY titleyear, title_TN\n",
    "        \"\"\"\n",
    "df_TN_Movie_Budgets = pysqldf(q3)\n",
    "\n",
    "# Finanally merger data from flatiron\n",
    "df_fI_Financials = df_TN_Movie_Budgets.merge(df_Bom_MovieGross, \n",
    "     on='titleyear', how='outer', indicator='Combing_FL_Financials', suffixes=('_TN', '_Bom'))\n",
    "\n",
    "# Add tconst Key to FLatironTables then drop \n",
    "df_FI_financials_With_tconst = df_fI_Financials.merge(df_IMDB_Akas_english[['tconst','titleyear']], on='titleyear', how=\"inner\", indicator='Adding tconst', suffixes=('_fi', '_im'))"
   ]
  },
  {
   "cell_type": "code",
   "execution_count": 4,
   "metadata": {},
   "outputs": [],
   "source": [
    "#USEDTO CHECK FOR MERGING ERRORS\n",
    "# df_FI_financials_With_tconst[[\"title_TN\",\"title_BOM\",\"title_FI\",]].sort_values(by=\"title_FI\", ascending=False)\n",
    "# df_FI_financials_With_tconst[[\"year_TN\",\"year_BOM\",\"year_str_FI\",]].sort_values(by=\"year_str_FI\", ascending=False)\n",
    "# df_FI_financials_With_tconst[[\"year_TN\",\"year_BOM\",\"year_FI\",]].sort_values(by=\"year_FI\", ascending=False)\n",
    "# df_Bom_MovieGross[[\"studio\",\"studio_short\",\"Studio_Desc\"]].sort_values(by=\"title_FI\", ascending=False)"
   ]
  },
  {
   "cell_type": "code",
   "execution_count": 5,
   "metadata": {},
   "outputs": [],
   "source": [
    "#Use all data scraped from IMDB as the default for domestic, foreign ww sales as well as budget\n",
    "df_FI_financials_With_tconst.title_TN.fillna(\"0\", inplace=True)\n",
    "df_FI_financials_With_tconst.year_str_TN.fillna(\"0\", inplace=True)\n",
    "df_FI_financials_With_tconst.year_TN.fillna(0, inplace=True)\n",
    "\n",
    "df_FI_financials_With_tconst.title_BOM.fillna(\"0\", inplace=True)\n",
    "df_FI_financials_With_tconst.year_str_BOM.fillna(\"0\", inplace=True)\n",
    "df_FI_financials_With_tconst.year_BOM.fillna(0, inplace=True)\n",
    "\n",
    "df_FI_financials_With_tconst['title_FI'] = df_FI_financials_With_tconst['title_TN']\n",
    "df_FI_financials_With_tconst['year_str_FI'] = df_FI_financials_With_tconst['year_str_TN']\n",
    "df_FI_financials_With_tconst['year_FI'] = df_FI_financials_With_tconst['year_TN']\n",
    "\n",
    "df_FI_financials_With_tconst['title_FI'] = df_FI_financials_With_tconst.title_FI.fillna(\"0\").astype(str)\n",
    "df_FI_financials_With_tconst['year_str_FI'] = df_FI_financials_With_tconst.year_str_FI.fillna(\"0\").astype(str)\n",
    "df_FI_financials_With_tconst['year_FI'] = df_FI_financials_With_tconst.year_FI.fillna(0).astype(int)\n",
    "\n",
    "df_FI_financials_With_tconst['title_FI'] = df_FI_financials_With_tconst.apply(lambda x: x.title_BOM if x.title_FI == \"0\" else x.title_FI, axis=1)\n",
    "df_FI_financials_With_tconst['year_str_FI'] = df_FI_financials_With_tconst.apply(lambda x: x.year_str_BOM if x.year_str_FI == \"0\" else x.year_str_FI, axis=1)\n",
    "df_FI_financials_With_tconst['year_FI'] = df_FI_financials_With_tconst.apply(lambda x: x.year_BOM if x.year_FI == 0 else x.year_FI, axis=1)\n"
   ]
  },
  {
   "cell_type": "code",
   "execution_count": 6,
   "metadata": {},
   "outputs": [],
   "source": [
    "#DROP UNNEEDED FIELDS\n",
    "df_FI_financials_With_tconst.drop([\"year_TN\",\"year_BOM\",\"year_TN\",\"year_BOM\", \"year_str_TN\",\"year_str_BOM\",\"Combing_FL_Financials\"], axis=1, inplace=True)"
   ]
  },
  {
   "cell_type": "code",
   "execution_count": 7,
   "metadata": {},
   "outputs": [],
   "source": [
    "#Merge flatiron financials with scraping finacials IMDB Site :https://www.boxofficemojo.com/\n",
    "#prepraring to work with Movie Gross Df, cleaning up data and create right datatypes\n",
    "df_MasterFinancials = df_Scrp_Financials.merge(df_FI_financials_With_tconst, \n",
    "                                               on='tconst', how='outer', suffixes=('_IM', '_fl'))\n",
    "fieldsToConvert = {'dg_IMDB': 0, 'fg_IMDB':0 , 'ww_IMDB': 0, 'Domestic Opening': 0, 'pb_IMDB':0 , 'pb_TN': 0,\n",
    "                       'dg_TN': 0, 'wwg_TN':0 , 'fg_calc_TN': 0,'dg_BOM': 0, 'fg_BOM':0 , 'wwg_calc_BOM': 0,\n",
    "                      'wg_calc_BOM': 0}\n",
    "df_MasterFinancials.fillna(value=fieldsToConvert, inplace=True)"
   ]
  },
  {
   "cell_type": "code",
   "execution_count": 8,
   "metadata": {},
   "outputs": [],
   "source": [
    "#Clean up dataframe - consolidate, remove unwanted columns, all remove metadata from financials\n",
    "df_MasterFinancials = df_MasterFinancials.reindex(sorted(df_MasterFinancials.columns), axis=1)\n",
    "col_names = ['tconst','Adding tconst', 'Combing_FL_Financials',\n",
    "       'Genres_IMDB', 'MPAA', 'Running Time_IMDB', 'Unnamed: 0', 'Domestic Opening','dg_BOM',\n",
    "       'dg_IMDB', 'dg_TN', 'fg_BOM', 'fg_IMDB', 'fg_calc_TN', 'genres',\n",
    "       'isAdult', 'mergingfinancials', 'originalTitle', 'pb_IMDB', 'pb_TN',\n",
    "       'rd_IMDB', 'rd_TN', 'runtimeMinutes', 'studio_BOM', 'studio_IMDB',\n",
    "        'title_BOM', 'title_IMDB', 'title_TN', 'titleyear_IM',\n",
    "       'titleyear_fl', 'wwg_calc_BOM', 'ww_IMDB', 'wwg_TN',\n",
    "       'year', 'year_BOM', 'year_TN']\n",
    "df_MasterFinancials.reindex(columns=col_names)\n",
    "\n",
    "df_MasterFinancials_Only = df_MasterFinancials[['tconst','Domestic Opening','dg_BOM', 'dg_TN', 'dg_IMDB',\n",
    "                                                'fg_BOM', 'fg_calc_TN','fg_IMDB', 'pb_IMDB', 'pb_TN',\n",
    "                                                'title_BOM', 'title_IMDB', 'title_TN', 'titleyear_IM','titleyear_fl',\n",
    "                                                'wwg_calc_BOM', 'wwg_TN','ww_IMDB','year',\"year_FI\"]]"
   ]
  },
  {
   "cell_type": "code",
   "execution_count": 9,
   "metadata": {},
   "outputs": [
    {
     "name": "stderr",
     "output_type": "stream",
     "text": [
      "/Users/tlipman/opt/anaconda3/envs/learn-env/lib/python3.6/site-packages/ipykernel_launcher.py:2: SettingWithCopyWarning: \n",
      "A value is trying to be set on a copy of a slice from a DataFrame.\n",
      "Try using .loc[row_indexer,col_indexer] = value instead\n",
      "\n",
      "See the caveats in the documentation: http://pandas.pydata.org/pandas-docs/stable/user_guide/indexing.html#returning-a-view-versus-a-copy\n",
      "  \n",
      "/Users/tlipman/opt/anaconda3/envs/learn-env/lib/python3.6/site-packages/ipykernel_launcher.py:3: SettingWithCopyWarning: \n",
      "A value is trying to be set on a copy of a slice from a DataFrame.\n",
      "Try using .loc[row_indexer,col_indexer] = value instead\n",
      "\n",
      "See the caveats in the documentation: http://pandas.pydata.org/pandas-docs/stable/user_guide/indexing.html#returning-a-view-versus-a-copy\n",
      "  This is separate from the ipykernel package so we can avoid doing imports until\n",
      "/Users/tlipman/opt/anaconda3/envs/learn-env/lib/python3.6/site-packages/ipykernel_launcher.py:4: SettingWithCopyWarning: \n",
      "A value is trying to be set on a copy of a slice from a DataFrame.\n",
      "Try using .loc[row_indexer,col_indexer] = value instead\n",
      "\n",
      "See the caveats in the documentation: http://pandas.pydata.org/pandas-docs/stable/user_guide/indexing.html#returning-a-view-versus-a-copy\n",
      "  after removing the cwd from sys.path.\n",
      "/Users/tlipman/opt/anaconda3/envs/learn-env/lib/python3.6/site-packages/ipykernel_launcher.py:5: SettingWithCopyWarning: \n",
      "A value is trying to be set on a copy of a slice from a DataFrame.\n",
      "Try using .loc[row_indexer,col_indexer] = value instead\n",
      "\n",
      "See the caveats in the documentation: http://pandas.pydata.org/pandas-docs/stable/user_guide/indexing.html#returning-a-view-versus-a-copy\n",
      "  \"\"\"\n",
      "/Users/tlipman/opt/anaconda3/envs/learn-env/lib/python3.6/site-packages/ipykernel_launcher.py:6: SettingWithCopyWarning: \n",
      "A value is trying to be set on a copy of a slice from a DataFrame.\n",
      "Try using .loc[row_indexer,col_indexer] = value instead\n",
      "\n",
      "See the caveats in the documentation: http://pandas.pydata.org/pandas-docs/stable/user_guide/indexing.html#returning-a-view-versus-a-copy\n",
      "  \n",
      "/Users/tlipman/opt/anaconda3/envs/learn-env/lib/python3.6/site-packages/ipykernel_launcher.py:9: SettingWithCopyWarning: \n",
      "A value is trying to be set on a copy of a slice from a DataFrame.\n",
      "Try using .loc[row_indexer,col_indexer] = value instead\n",
      "\n",
      "See the caveats in the documentation: http://pandas.pydata.org/pandas-docs/stable/user_guide/indexing.html#returning-a-view-versus-a-copy\n",
      "  if __name__ == '__main__':\n",
      "/Users/tlipman/opt/anaconda3/envs/learn-env/lib/python3.6/site-packages/ipykernel_launcher.py:10: SettingWithCopyWarning: \n",
      "A value is trying to be set on a copy of a slice from a DataFrame.\n",
      "Try using .loc[row_indexer,col_indexer] = value instead\n",
      "\n",
      "See the caveats in the documentation: http://pandas.pydata.org/pandas-docs/stable/user_guide/indexing.html#returning-a-view-versus-a-copy\n",
      "  # Remove the CWD from sys.path while we load stuff.\n",
      "/Users/tlipman/opt/anaconda3/envs/learn-env/lib/python3.6/site-packages/ipykernel_launcher.py:11: SettingWithCopyWarning: \n",
      "A value is trying to be set on a copy of a slice from a DataFrame.\n",
      "Try using .loc[row_indexer,col_indexer] = value instead\n",
      "\n",
      "See the caveats in the documentation: http://pandas.pydata.org/pandas-docs/stable/user_guide/indexing.html#returning-a-view-versus-a-copy\n",
      "  # This is added back by InteractiveShellApp.init_path()\n",
      "/Users/tlipman/opt/anaconda3/envs/learn-env/lib/python3.6/site-packages/ipykernel_launcher.py:13: SettingWithCopyWarning: \n",
      "A value is trying to be set on a copy of a slice from a DataFrame.\n",
      "Try using .loc[row_indexer,col_indexer] = value instead\n",
      "\n",
      "See the caveats in the documentation: http://pandas.pydata.org/pandas-docs/stable/user_guide/indexing.html#returning-a-view-versus-a-copy\n",
      "  del sys.path[0]\n",
      "/Users/tlipman/opt/anaconda3/envs/learn-env/lib/python3.6/site-packages/ipykernel_launcher.py:14: SettingWithCopyWarning: \n",
      "A value is trying to be set on a copy of a slice from a DataFrame.\n",
      "Try using .loc[row_indexer,col_indexer] = value instead\n",
      "\n",
      "See the caveats in the documentation: http://pandas.pydata.org/pandas-docs/stable/user_guide/indexing.html#returning-a-view-versus-a-copy\n",
      "  \n",
      "/Users/tlipman/opt/anaconda3/envs/learn-env/lib/python3.6/site-packages/ipykernel_launcher.py:15: SettingWithCopyWarning: \n",
      "A value is trying to be set on a copy of a slice from a DataFrame.\n",
      "Try using .loc[row_indexer,col_indexer] = value instead\n",
      "\n",
      "See the caveats in the documentation: http://pandas.pydata.org/pandas-docs/stable/user_guide/indexing.html#returning-a-view-versus-a-copy\n",
      "  from ipykernel import kernelapp as app\n",
      "/Users/tlipman/opt/anaconda3/envs/learn-env/lib/python3.6/site-packages/ipykernel_launcher.py:16: SettingWithCopyWarning: \n",
      "A value is trying to be set on a copy of a slice from a DataFrame.\n",
      "Try using .loc[row_indexer,col_indexer] = value instead\n",
      "\n",
      "See the caveats in the documentation: http://pandas.pydata.org/pandas-docs/stable/user_guide/indexing.html#returning-a-view-versus-a-copy\n",
      "  app.launch_new_instance()\n",
      "/Users/tlipman/opt/anaconda3/envs/learn-env/lib/python3.6/site-packages/ipykernel_launcher.py:17: SettingWithCopyWarning: \n",
      "A value is trying to be set on a copy of a slice from a DataFrame.\n",
      "Try using .loc[row_indexer,col_indexer] = value instead\n",
      "\n",
      "See the caveats in the documentation: http://pandas.pydata.org/pandas-docs/stable/user_guide/indexing.html#returning-a-view-versus-a-copy\n",
      "/Users/tlipman/opt/anaconda3/envs/learn-env/lib/python3.6/site-packages/ipykernel_launcher.py:19: SettingWithCopyWarning: \n",
      "A value is trying to be set on a copy of a slice from a DataFrame.\n",
      "Try using .loc[row_indexer,col_indexer] = value instead\n",
      "\n",
      "See the caveats in the documentation: http://pandas.pydata.org/pandas-docs/stable/user_guide/indexing.html#returning-a-view-versus-a-copy\n",
      "/Users/tlipman/opt/anaconda3/envs/learn-env/lib/python3.6/site-packages/ipykernel_launcher.py:20: SettingWithCopyWarning: \n",
      "A value is trying to be set on a copy of a slice from a DataFrame.\n",
      "Try using .loc[row_indexer,col_indexer] = value instead\n",
      "\n",
      "See the caveats in the documentation: http://pandas.pydata.org/pandas-docs/stable/user_guide/indexing.html#returning-a-view-versus-a-copy\n",
      "/Users/tlipman/opt/anaconda3/envs/learn-env/lib/python3.6/site-packages/ipykernel_launcher.py:22: SettingWithCopyWarning: \n",
      "A value is trying to be set on a copy of a slice from a DataFrame.\n",
      "Try using .loc[row_indexer,col_indexer] = value instead\n",
      "\n",
      "See the caveats in the documentation: http://pandas.pydata.org/pandas-docs/stable/user_guide/indexing.html#returning-a-view-versus-a-copy\n",
      "/Users/tlipman/opt/anaconda3/envs/learn-env/lib/python3.6/site-packages/pandas/core/generic.py:6287: SettingWithCopyWarning: \n",
      "A value is trying to be set on a copy of a slice from a DataFrame\n",
      "\n",
      "See the caveats in the documentation: http://pandas.pydata.org/pandas-docs/stable/user_guide/indexing.html#returning-a-view-versus-a-copy\n",
      "  self._update_inplace(new_data)\n"
     ]
    }
   ],
   "source": [
    "#Use all data scraped from IMDB as the default for domestic, foreign ww sales as well as budget\n",
    "df_MasterFinancials_Only['WW_Gross'] = df_MasterFinancials_Only['ww_IMDB'].apply(lambda x: x if x>0 else 0)\n",
    "df_MasterFinancials_Only['Dom_Gross'] = df_MasterFinancials_Only['dg_IMDB'].apply(lambda x: x if x>0 else 0)\n",
    "df_MasterFinancials_Only['Frgn_Gross'] = df_MasterFinancials_Only['fg_IMDB'].apply(lambda x: x if x>0 else 0)\n",
    "df_MasterFinancials_Only['P_Cost'] = df_MasterFinancials_Only['pb_IMDB'].apply(lambda x: x if x>0 else 0)\n",
    "df_MasterFinancials_Only['year'] = df_MasterFinancials_Only['year'].apply(lambda x: x if x>0 else 0)\n",
    "\n",
    "#fill in the blanks from max valus from the flatIron finance tables\n",
    "df_MasterFinancials_Only['dg_Fl_Max'] = df_MasterFinancials_Only[[\"dg_BOM\", \"dg_TN\"]].max(axis=1)\n",
    "df_MasterFinancials_Only['fg_Fl_Max'] = df_MasterFinancials_Only[[\"fg_BOM\", \"fg_calc_TN\"]].max(axis=1)\n",
    "df_MasterFinancials_Only['ww_Fl_Max'] = df_MasterFinancials_Only['dg_Fl_Max']+df_MasterFinancials_Only['fg_Fl_Max']\n",
    "\n",
    "df_MasterFinancials_Only['WW_Gross'] = df_MasterFinancials_Only.apply(lambda x: x.ww_Fl_Max if x.WW_Gross==0 else x.WW_Gross, axis=1)\n",
    "df_MasterFinancials_Only['Dom_Gross'] = df_MasterFinancials_Only.apply(lambda x: x.dg_Fl_Max if x.Dom_Gross==0 else x.Dom_Gross, axis=1)\n",
    "df_MasterFinancials_Only['Frgn_Gross'] = df_MasterFinancials_Only.apply(lambda x: x.fg_Fl_Max if x.Frgn_Gross==0 else x.Frgn_Gross, axis=1)\n",
    "df_MasterFinancials_Only['P_Cost'] = df_MasterFinancials_Only.apply(lambda x: x.pb_TN if x.P_Cost==0 else x.P_Cost, axis=1)\n",
    "df_MasterFinancials_Only['P_Cost']=df_MasterFinancials_Only['P_Cost'].replace(0,df_MasterFinancials_Only.P_Cost.mean())\n",
    "\n",
    "df_MasterFinancials_Only['year'] = df_MasterFinancials_Only['year'].fillna(0)\n",
    "df_MasterFinancials_Only['year'] = df_MasterFinancials_Only.apply(lambda x: x.year_FI if x.year==0 else x.year, axis=1)\n",
    "\n",
    "df_MasterFinancials_Only['titleyear'] = df_MasterFinancials_Only[\"titleyear_IM\"]\n",
    "df_MasterFinancials_Only.titleyear.fillna(df_MasterFinancials_Only[\"titleyear_fl\"],inplace=True)"
   ]
  },
  {
   "cell_type": "code",
   "execution_count": 10,
   "metadata": {},
   "outputs": [],
   "source": [
    "df_MasterFinancials_Only = df_MasterFinancials_Only[['tconst','P_Cost','Dom_Gross','Frgn_Gross', 'WW_Gross', 'Domestic Opening','year']]"
   ]
  },
  {
   "cell_type": "markdown",
   "metadata": {},
   "source": [
    "#### Adjustments for Inflation and Calculate ROI"
   ]
  },
  {
   "cell_type": "code",
   "execution_count": 11,
   "metadata": {},
   "outputs": [],
   "source": [
    "df_MasterFinancials_Only = df_MasterFinancials_Only.merge(df_IMDB_InflationAdjuster, on=\"year\", how=\"left\")"
   ]
  },
  {
   "cell_type": "code",
   "execution_count": 12,
   "metadata": {},
   "outputs": [],
   "source": [
    "df_MasterFinancials_Only[\"adj_P_Cost\"] = df_MasterFinancials_Only[\"P_Cost\"]*df_MasterFinancials_Only[\"Multiplier\"]\n",
    "df_MasterFinancials_Only[\"adj_Frgn_Gross\"] = df_MasterFinancials_Only[\"Frgn_Gross\"]*df_MasterFinancials_Only[\"Multiplier\"]\n",
    "df_MasterFinancials_Only[\"adj_WW_Gross\"] = df_MasterFinancials_Only[\"WW_Gross\"]*df_MasterFinancials_Only[\"Multiplier\"]\n",
    "df_MasterFinancials_Only[\"Profits\"] = df_MasterFinancials_Only[\"WW_Gross\"] - df_MasterFinancials_Only[\"P_Cost\"]\n",
    "df_MasterFinancials_Only[\"adj_Profits\"] = df_MasterFinancials_Only[\"Profits\"]*df_MasterFinancials_Only[\"Multiplier\"]\n",
    "df_MasterFinancials_Only[\"ROI\"] = df_MasterFinancials_Only.apply(lambda row : ((row.WW_Gross-row.P_Cost)/row.P_Cost)\n",
    "                                                                 if row.WW_Gross > 0 else 0, axis=1)"
   ]
  },
  {
   "cell_type": "code",
   "execution_count": null,
   "metadata": {},
   "outputs": [],
   "source": [
    "df_MasterFinancials_Only.to_excel(\"df_Movie_Financials.xlsx\")"
   ]
  },
  {
   "cell_type": "code",
   "execution_count": null,
   "metadata": {},
   "outputs": [],
   "source": [
    "#THIS CODE IS FOR CHECKING THE SYNCHING STEP\n",
    "# df_MasterFinancials_MetaData[[\"title_TN\",\"title_BOM\",\"title_IMDB\",\"title_fin\"]].sort_values(by=\"title_fin\", ascending=False)\n",
    "# df_MasterFinancials_MetaData[[\"genres_fin\",\"genres\",]].sort_values(by=\"genres_fin\", ascending=False)\n",
    "# df_MasterFinancials_MetaData[[\"year_BOM\",\"year_TN\",\"year\"]].sort_values(by=\"year\", ascending=False)\n",
    "# df_MasterFinancials_MetaData[[\"titleyear_fl\",\"titleyear_IM\", \"titleyear_fin\"]].sort_values(by=\"titleyear_fin\", ascending=False)\n",
    "# df_MasterFinancials_MetaData[[\"Running Time_IMDB\",\"runtimeMinutes\", \"RunningTime_fin\"]].sort_values(by=\"Running Time_IMDB\", ascending=False)\n",
    "#df_MasterFinancials_MetaData[[\"rd_IMDB\",\"rd_TN\", \"rd_fin\", \"rd_fin1\", \"rd_fin5\"]].sort_values(by=\"rd_fin5\", ascending=False)\n"
   ]
  }
 ],
 "metadata": {
  "kernelspec": {
   "display_name": "learn-env",
   "language": "python",
   "name": "learn-env"
  },
  "language_info": {
   "codemirror_mode": {
    "name": "ipython",
    "version": 3
   },
   "file_extension": ".py",
   "mimetype": "text/x-python",
   "name": "python",
   "nbconvert_exporter": "python",
   "pygments_lexer": "ipython3",
   "version": "3.6.9"
  }
 },
 "nbformat": 4,
 "nbformat_minor": 4
}
