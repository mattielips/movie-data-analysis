{
 "cells": [
  {
   "cell_type": "code",
   "execution_count": 1,
   "metadata": {},
   "outputs": [],
   "source": [
    "import numpy as np\n",
    "import pandas as pd"
   ]
  },
  {
   "cell_type": "code",
   "execution_count": 2,
   "metadata": {
    "scrolled": true
   },
   "outputs": [
    {
     "name": "stderr",
     "output_type": "stream",
     "text": [
      "C:\\Users\\rgpih\\anaconda3a\\lib\\site-packages\\IPython\\core\\interactiveshell.py:3071: DtypeWarning: Columns (7) have mixed types.Specify dtype option on import or set low_memory=False.\n",
      "  has_raised = await self.run_ast_nodes(code_ast.body, cell_name,\n",
      "C:\\Users\\rgpih\\anaconda3a\\lib\\site-packages\\IPython\\core\\interactiveshell.py:3071: DtypeWarning: Columns (5) have mixed types.Specify dtype option on import or set low_memory=False.\n",
      "  has_raised = await self.run_ast_nodes(code_ast.body, cell_name,\n"
     ]
    }
   ],
   "source": [
    "df_IMDB_Akas = pd.read_csv(\"./Prj_Data/DownLoadedData_Imdb/title.akas (1).tsv.gz\", delimiter='\\t', encoding='ANSI')\n",
    "IM_title_Basics = pd.read_csv(\"./Prj_Data/DownLoadedData_Imdb/title.basics (1).tsv.gz\", delimiter='\\t', encoding='ANSI')\n",
    "df_MetaDataFromFinanceTables = pd.read_excel(\"./Prj_Data/ImdbScrapingData/df_MasterFinancials_MetaData.xlsx\")"
   ]
  },
  {
   "cell_type": "code",
   "execution_count": 3,
   "metadata": {},
   "outputs": [],
   "source": [
    "#This table is used as a filter, filter on english and production type\n",
    "df_IMDB_Akas = df_IMDB_Akas.loc[(df_IMDB_Akas['language']=='en')]\n",
    "df_IMDB_Akas = df_IMDB_Akas.loc[(df_IMDB_Akas['types']=='imdbDisplay')]"
   ]
  },
  {
   "cell_type": "code",
   "execution_count": 4,
   "metadata": {},
   "outputs": [],
   "source": [
    "df_IMDB_Akas = df_IMDB_Akas.drop_duplicates(subset='titleId', keep='first').drop(['types', 'attributes',\"isOriginalTitle\", 'region', \"language\", \"ordering\", \"title\"], axis=1)\n",
    "\n",
    "IM_title_Basics = IM_title_Basics.loc[(IM_title_Basics['isAdult']==0)]\n",
    "IM_title_Basics.drop(['isAdult', 'endYear', 'titleType', 'originalTitle'], axis=1, inplace=True)\n",
    "IM_title_Basics[\"runtimeMinutes\"] = IM_title_Basics.runtimeMinutes.replace(r'\\N',0, regex=False)\n",
    "IM_title_Basics['runtimeMinutes'] = IM_title_Basics['runtimeMinutes'].astype(int)\n",
    "IM_title_Basics = IM_title_Basics.loc[(IM_title_Basics['runtimeMinutes']>60)]\n",
    "IM_title_Basics[\"startYear\"] = IM_title_Basics.startYear.replace(r'\\N',0, regex=False)\n",
    "IM_title_Basics['startYear'] = IM_title_Basics['startYear'].astype(int)\n",
    "IM_title_Basics = IM_title_Basics.loc[(IM_title_Basics['startYear']>=2005) & (IM_title_Basics['startYear']<=2020)]\n",
    "IM_title_Basics['startYear_str'] = IM_title_Basics['startYear'].astype(str)\n",
    "IM_title_Basics['primaryTitle'] = IM_title_Basics['primaryTitle'].str.title()\n",
    "IM_title_Basics['titleyear'] = IM_title_Basics['primaryTitle'] + IM_title_Basics['startYear_str']"
   ]
  },
  {
   "cell_type": "code",
   "execution_count": 5,
   "metadata": {},
   "outputs": [],
   "source": [
    "df_IMDB_Akas_english = IM_title_Basics.merge(df_IMDB_Akas, left_on=\"tconst\",right_on=\"titleId\",indicator='ind_Link', how=\"inner\")"
   ]
  },
  {
   "cell_type": "code",
   "execution_count": 6,
   "metadata": {},
   "outputs": [
    {
     "name": "stdout",
     "output_type": "stream",
     "text": [
      "<class 'pandas.core.frame.DataFrame'>\n",
      "Int64Index: 31060 entries, 0 to 31059\n",
      "Data columns (total 9 columns):\n",
      " #   Column          Non-Null Count  Dtype   \n",
      "---  ------          --------------  -----   \n",
      " 0   tconst          31060 non-null  object  \n",
      " 1   primaryTitle    31060 non-null  object  \n",
      " 2   startYear       31060 non-null  int32   \n",
      " 3   runtimeMinutes  31060 non-null  int32   \n",
      " 4   genres          31060 non-null  object  \n",
      " 5   startYear_str   31060 non-null  object  \n",
      " 6   titleyear       31060 non-null  object  \n",
      " 7   titleId         31060 non-null  object  \n",
      " 8   ind_Link        31060 non-null  category\n",
      "dtypes: category(1), int32(2), object(6)\n",
      "memory usage: 1.9+ MB\n"
     ]
    }
   ],
   "source": [
    "df_IMDB_Akas_english.info()"
   ]
  },
  {
   "cell_type": "code",
   "execution_count": 7,
   "metadata": {},
   "outputs": [],
   "source": [
    "df_IMDB_Akas_english.drop([\"ind_Link\"], axis=1, inplace=True)"
   ]
  },
  {
   "cell_type": "code",
   "execution_count": 8,
   "metadata": {},
   "outputs": [
    {
     "data": {
      "text/html": [
       "<div>\n",
       "<style scoped>\n",
       "    .dataframe tbody tr th:only-of-type {\n",
       "        vertical-align: middle;\n",
       "    }\n",
       "\n",
       "    .dataframe tbody tr th {\n",
       "        vertical-align: top;\n",
       "    }\n",
       "\n",
       "    .dataframe thead th {\n",
       "        text-align: right;\n",
       "    }\n",
       "</style>\n",
       "<table border=\"1\" class=\"dataframe\">\n",
       "  <thead>\n",
       "    <tr style=\"text-align: right;\">\n",
       "      <th></th>\n",
       "      <th>tconst</th>\n",
       "      <th>primaryTitle</th>\n",
       "      <th>startYear</th>\n",
       "      <th>runtimeMinutes</th>\n",
       "      <th>genres</th>\n",
       "      <th>startYear_str</th>\n",
       "      <th>titleyear</th>\n",
       "      <th>titleId</th>\n",
       "    </tr>\n",
       "  </thead>\n",
       "  <tbody>\n",
       "    <tr>\n",
       "      <th>0</th>\n",
       "      <td>tt0069049</td>\n",
       "      <td>The Other Side Of The Wind</td>\n",
       "      <td>2018</td>\n",
       "      <td>122</td>\n",
       "      <td>Drama</td>\n",
       "      <td>2018</td>\n",
       "      <td>The Other Side Of The Wind2018</td>\n",
       "      <td>tt0069049</td>\n",
       "    </tr>\n",
       "    <tr>\n",
       "      <th>1</th>\n",
       "      <td>tt0100275</td>\n",
       "      <td>The Wandering Soap Opera</td>\n",
       "      <td>2017</td>\n",
       "      <td>80</td>\n",
       "      <td>Comedy,Drama,Fantasy</td>\n",
       "      <td>2017</td>\n",
       "      <td>The Wandering Soap Opera2017</td>\n",
       "      <td>tt0100275</td>\n",
       "    </tr>\n",
       "    <tr>\n",
       "      <th>2</th>\n",
       "      <td>tt0118141</td>\n",
       "      <td>What Is It?</td>\n",
       "      <td>2005</td>\n",
       "      <td>72</td>\n",
       "      <td>Drama</td>\n",
       "      <td>2005</td>\n",
       "      <td>What Is It?2005</td>\n",
       "      <td>tt0118141</td>\n",
       "    </tr>\n",
       "    <tr>\n",
       "      <th>3</th>\n",
       "      <td>tt0119970</td>\n",
       "      <td>My Apocalypse</td>\n",
       "      <td>2008</td>\n",
       "      <td>82</td>\n",
       "      <td>Comedy,Drama,Sci-Fi</td>\n",
       "      <td>2008</td>\n",
       "      <td>My Apocalypse2008</td>\n",
       "      <td>tt0119970</td>\n",
       "    </tr>\n",
       "    <tr>\n",
       "      <th>4</th>\n",
       "      <td>tt0120667</td>\n",
       "      <td>Fantastic Four</td>\n",
       "      <td>2005</td>\n",
       "      <td>106</td>\n",
       "      <td>Action,Adventure,Fantasy</td>\n",
       "      <td>2005</td>\n",
       "      <td>Fantastic Four2005</td>\n",
       "      <td>tt0120667</td>\n",
       "    </tr>\n",
       "  </tbody>\n",
       "</table>\n",
       "</div>"
      ],
      "text/plain": [
       "      tconst                primaryTitle  startYear  runtimeMinutes                    genres startYear_str                       titleyear    titleId\n",
       "0  tt0069049  The Other Side Of The Wind       2018             122                     Drama          2018  The Other Side Of The Wind2018  tt0069049\n",
       "1  tt0100275    The Wandering Soap Opera       2017              80      Comedy,Drama,Fantasy          2017    The Wandering Soap Opera2017  tt0100275\n",
       "2  tt0118141                 What Is It?       2005              72                     Drama          2005                 What Is It?2005  tt0118141\n",
       "3  tt0119970               My Apocalypse       2008              82       Comedy,Drama,Sci-Fi          2008               My Apocalypse2008  tt0119970\n",
       "4  tt0120667              Fantastic Four       2005             106  Action,Adventure,Fantasy          2005              Fantastic Four2005  tt0120667"
      ]
     },
     "execution_count": 8,
     "metadata": {},
     "output_type": "execute_result"
    }
   ],
   "source": [
    "df_IMDB_Akas_english.head()"
   ]
  },
  {
   "cell_type": "code",
   "execution_count": 9,
   "metadata": {},
   "outputs": [
    {
     "name": "stdout",
     "output_type": "stream",
     "text": [
      "<class 'pandas.core.frame.DataFrame'>\n",
      "RangeIndex: 5543 entries, 0 to 5542\n",
      "Data columns (total 11 columns):\n",
      " #   Column       Non-Null Count  Dtype         \n",
      "---  ------       --------------  -----         \n",
      " 0   Unnamed: 0   5543 non-null   int64         \n",
      " 1   tconst       5543 non-null   object        \n",
      " 2   studio_BOM   5543 non-null   object        \n",
      " 3   genres       4920 non-null   object        \n",
      " 4   MPAA         3315 non-null   object        \n",
      " 5   title        5543 non-null   object        \n",
      " 6   year         5543 non-null   int64         \n",
      " 7   RunningTime  5543 non-null   int64         \n",
      " 8   rd           5543 non-null   datetime64[ns]\n",
      " 9   titleyear    5543 non-null   object        \n",
      " 10  StudioDesc   4962 non-null   object        \n",
      "dtypes: datetime64[ns](1), int64(3), object(7)\n",
      "memory usage: 476.5+ KB\n"
     ]
    }
   ],
   "source": [
    "df_MetaDataFromFinanceTables.info()"
   ]
  },
  {
   "cell_type": "code",
   "execution_count": 10,
   "metadata": {
    "scrolled": true
   },
   "outputs": [],
   "source": [
    "df_MetaDataFromFinanceTables.drop([\"year\",\"RunningTime\", \"genres\", \"title\",\"titleyear\"], inplace=True, axis=1)"
   ]
  },
  {
   "cell_type": "code",
   "execution_count": 11,
   "metadata": {},
   "outputs": [],
   "source": [
    "df_IMDB_Eng_with_metadata = df_IMDB_Akas_english.merge(df_MetaDataFromFinanceTables, on=\"tconst\",indicator='Merg_MetaData', how=\"left\")"
   ]
  },
  {
   "cell_type": "code",
   "execution_count": 12,
   "metadata": {},
   "outputs": [
    {
     "name": "stdout",
     "output_type": "stream",
     "text": [
      "<class 'pandas.core.frame.DataFrame'>\n",
      "Int64Index: 31060 entries, 0 to 31059\n",
      "Data columns (total 14 columns):\n",
      " #   Column          Non-Null Count  Dtype         \n",
      "---  ------          --------------  -----         \n",
      " 0   tconst          31060 non-null  object        \n",
      " 1   primaryTitle    31060 non-null  object        \n",
      " 2   startYear       31060 non-null  int32         \n",
      " 3   runtimeMinutes  31060 non-null  int32         \n",
      " 4   genres          31060 non-null  object        \n",
      " 5   startYear_str   31060 non-null  object        \n",
      " 6   titleyear       31060 non-null  object        \n",
      " 7   titleId         31060 non-null  object        \n",
      " 8   Unnamed: 0      4560 non-null   float64       \n",
      " 9   studio_BOM      4560 non-null   object        \n",
      " 10  MPAA            2865 non-null   object        \n",
      " 11  rd              4560 non-null   datetime64[ns]\n",
      " 12  StudioDesc      4057 non-null   object        \n",
      " 13  Merg_MetaData   31060 non-null  category      \n",
      "dtypes: category(1), datetime64[ns](1), float64(1), int32(2), object(9)\n",
      "memory usage: 3.1+ MB\n"
     ]
    }
   ],
   "source": [
    "df_IMDB_Eng_with_metadata.info()"
   ]
  },
  {
   "cell_type": "code",
   "execution_count": 13,
   "metadata": {
    "scrolled": false
   },
   "outputs": [],
   "source": [
    "df_IMDB_Eng_with_metadata.drop([\"titleId\",\"Unnamed: 0\",\"Merg_MetaData\" ], axis=1, inplace=True)"
   ]
  },
  {
   "cell_type": "code",
   "execution_count": 14,
   "metadata": {},
   "outputs": [
    {
     "name": "stdout",
     "output_type": "stream",
     "text": [
      "<class 'pandas.core.frame.DataFrame'>\n",
      "Int64Index: 31060 entries, 0 to 31059\n",
      "Data columns (total 11 columns):\n",
      " #   Column          Non-Null Count  Dtype         \n",
      "---  ------          --------------  -----         \n",
      " 0   tconst          31060 non-null  object        \n",
      " 1   primaryTitle    31060 non-null  object        \n",
      " 2   startYear       31060 non-null  int32         \n",
      " 3   runtimeMinutes  31060 non-null  int32         \n",
      " 4   genres          31060 non-null  object        \n",
      " 5   startYear_str   31060 non-null  object        \n",
      " 6   titleyear       31060 non-null  object        \n",
      " 7   studio_BOM      4560 non-null   object        \n",
      " 8   MPAA            2865 non-null   object        \n",
      " 9   rd              4560 non-null   datetime64[ns]\n",
      " 10  StudioDesc      4057 non-null   object        \n",
      "dtypes: datetime64[ns](1), int32(2), object(8)\n",
      "memory usage: 2.6+ MB\n"
     ]
    }
   ],
   "source": [
    "df_IMDB_Eng_with_metadata.info()"
   ]
  },
  {
   "cell_type": "code",
   "execution_count": 15,
   "metadata": {},
   "outputs": [],
   "source": [
    "df_IMDB_Eng_with_metadata.to_excel(\"df_IMDB_MovieCatalog.xlsx\")"
   ]
  },
  {
   "cell_type": "markdown",
   "metadata": {},
   "source": [
    "Data belwo is for quick cutting and copying for testing :)"
   ]
  },
  {
   "cell_type": "code",
   "execution_count": null,
   "metadata": {},
   "outputs": [],
   "source": [
    "# df_IMDB_Akas_english.drop([\"ind_Link\",\"Unnamed: 0\",\"titleyear_fin\", \"titleId\",\"genres_fin\",\"MPAA_fin\",\n",
    "#                           \"title_fin\",\"Merg_MetaData\", \"year_fin\", \"RunningTime_fin\"], axis=1, inplace=True)\n",
    "\n",
    "# df_IMDB_Akas_english.drop([\"ind_Link\",\"Unnamed: 0\",\"titleyear_fin\", \"titleId\",\"genres_fin\",\"MPAA_fin\",\n",
    "#                           \"title_fin\",\"Merg_MetaData\", \"year_fin\", \"RunningTime_fin\"], axis=1, inplace=True)"
   ]
  },
  {
   "cell_type": "code",
   "execution_count": null,
   "metadata": {},
   "outputs": [],
   "source": [
    "testingLink.loc[testingLink['tconst'] == \"tt0499549\"][[\"primaryTitle_x\", \"tconst\"]]\n",
    "# .loc[df_IMDB_Akas['tconst'] == \"tt0499549\"][[\"primaryTitle\", \"tconst\"]]\n",
    "# df_IMDB_Akas_english[df_IMDB_Akas_english.primaryTitle.str.contains('Happy Together', case=False)]"
   ]
  }
 ],
 "metadata": {
  "kernelspec": {
   "display_name": "learn-env",
   "language": "python",
   "name": "learn-env"
  },
  "language_info": {
   "codemirror_mode": {
    "name": "ipython",
    "version": 3
   },
   "file_extension": ".py",
   "mimetype": "text/x-python",
   "name": "python",
   "nbconvert_exporter": "python",
   "pygments_lexer": "ipython3",
   "version": "3.6.9"
  }
 },
 "nbformat": 4,
 "nbformat_minor": 4
}
