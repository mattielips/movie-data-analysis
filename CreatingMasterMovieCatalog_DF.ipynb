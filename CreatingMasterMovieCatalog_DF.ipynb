{
 "cells": [
  {
   "cell_type": "code",
   "execution_count": 4,
   "metadata": {},
   "outputs": [],
   "source": [
    "import numpy as np #linear algebra\n",
    "import pandas as pd #data processing \n",
    "pd.set_option('display.max_rows', None)\n",
    "pd.set_option('display.max_columns', None)  \n",
    "pd.set_option('display.expand_frame_repr', False)\n",
    "pd.set_option('max_colwidth', None)"
   ]
  },
  {
   "cell_type": "code",
   "execution_count": 5,
   "metadata": {},
   "outputs": [
    {
     "name": "stderr",
     "output_type": "stream",
     "text": [
      "C:\\Users\\rgpih\\anaconda3a\\lib\\site-packages\\IPython\\core\\interactiveshell.py:3071: DtypeWarning: Columns (7) have mixed types.Specify dtype option on import or set low_memory=False.\n",
      "  has_raised = await self.run_ast_nodes(code_ast.body, cell_name,\n",
      "C:\\Users\\rgpih\\anaconda3a\\lib\\site-packages\\IPython\\core\\interactiveshell.py:3071: DtypeWarning: Columns (5) have mixed types.Specify dtype option on import or set low_memory=False.\n",
      "  has_raised = await self.run_ast_nodes(code_ast.body, cell_name,\n"
     ]
    }
   ],
   "source": [
    "df_IMDB_Akas = pd.read_csv(\"./data/DownLoadedData_Imdb/title.akas (1).tsv.gz\", delimiter='\\t', encoding='ANSI')\n",
    "IM_title_Basics = pd.read_csv(\"./data/DownLoadedData_Imdb/title.basics (1).tsv.gz\", delimiter='\\t', encoding='ANSI')\n",
    "df_MetaDataFromFinanceTables = pd.read_excel(\"./data/ImdbScrapingData/df_MasterFinancials_MetaData.xlsx\")"
   ]
  },
  {
   "cell_type": "code",
   "execution_count": 6,
   "metadata": {},
   "outputs": [],
   "source": [
    "#This table is used as a filter, filter on english and production type\n",
    "df_IMDB_Akas = df_IMDB_Akas.loc[(df_IMDB_Akas['language']=='en')]\n",
    "df_IMDB_Akas = df_IMDB_Akas.loc[(df_IMDB_Akas['types']=='imdbDisplay')]"
   ]
  },
  {
   "cell_type": "code",
   "execution_count": 7,
   "metadata": {},
   "outputs": [],
   "source": [
    "df_IMDB_Akas = df_IMDB_Akas.drop_duplicates(subset='titleId', keep='first').drop(['types', 'attributes',\"isOriginalTitle\", 'region', \"language\", \"ordering\", \"title\"], axis=1)\n",
    "\n",
    "IM_title_Basics = IM_title_Basics.loc[(IM_title_Basics['isAdult']==0)]\n",
    "IM_title_Basics.drop(['isAdult', 'endYear', 'titleType', 'originalTitle'], axis=1, inplace=True)\n",
    "IM_title_Basics[\"runtimeMinutes\"] = IM_title_Basics.runtimeMinutes.replace(r'\\N',0, regex=False)\n",
    "IM_title_Basics['runtimeMinutes'] = IM_title_Basics['runtimeMinutes'].astype(int)\n",
    "IM_title_Basics = IM_title_Basics.loc[(IM_title_Basics['runtimeMinutes']>60)]\n",
    "IM_title_Basics[\"startYear\"] = IM_title_Basics.startYear.replace(r'\\N',0, regex=False)\n",
    "IM_title_Basics['startYear'] = IM_title_Basics['startYear'].astype(int)\n",
    "IM_title_Basics = IM_title_Basics.loc[(IM_title_Basics['startYear']>=2005) & (IM_title_Basics['startYear']<=2020)]\n",
    "IM_title_Basics['startYear_str'] = IM_title_Basics['startYear'].astype(str)\n",
    "IM_title_Basics['primaryTitle'] = IM_title_Basics['primaryTitle'].str.title()\n",
    "IM_title_Basics['titleyear'] = IM_title_Basics['primaryTitle'] + IM_title_Basics['startYear_str']"
   ]
  },
  {
   "cell_type": "code",
   "execution_count": 8,
   "metadata": {},
   "outputs": [],
   "source": [
    "df_IMDB_Akas_english = IM_title_Basics.merge(df_IMDB_Akas, left_on=\"tconst\",right_on=\"titleId\",indicator='ind_Link', how=\"inner\")"
   ]
  },
  {
   "cell_type": "code",
   "execution_count": 9,
   "metadata": {},
   "outputs": [
    {
     "name": "stdout",
     "output_type": "stream",
     "text": [
      "<class 'pandas.core.frame.DataFrame'>\n",
      "Int64Index: 31060 entries, 0 to 31059\n",
      "Data columns (total 9 columns):\n",
      " #   Column          Non-Null Count  Dtype   \n",
      "---  ------          --------------  -----   \n",
      " 0   tconst          31060 non-null  object  \n",
      " 1   primaryTitle    31060 non-null  object  \n",
      " 2   startYear       31060 non-null  int32   \n",
      " 3   runtimeMinutes  31060 non-null  int32   \n",
      " 4   genres          31060 non-null  object  \n",
      " 5   startYear_str   31060 non-null  object  \n",
      " 6   titleyear       31060 non-null  object  \n",
      " 7   titleId         31060 non-null  object  \n",
      " 8   ind_Link        31060 non-null  category\n",
      "dtypes: category(1), int32(2), object(6)\n",
      "memory usage: 1.9+ MB\n"
     ]
    }
   ],
   "source": [
    "df_IMDB_Akas_english.info()"
   ]
  },
  {
   "cell_type": "code",
   "execution_count": 169,
   "metadata": {},
   "outputs": [],
   "source": [
    "df_IMDB_Akas_english.to_excel(\"df_IMDB_Akas_english.xlsx\")"
   ]
  },
  {
   "cell_type": "markdown",
   "metadata": {},
   "source": [
    "The code below brings in the metadata fields from the finances tables, for example studio, rating,\n"
   ]
  },
  {
   "cell_type": "code",
   "execution_count": null,
   "metadata": {},
   "outputs": [],
   "source": []
  },
  {
   "cell_type": "code",
   "execution_count": 11,
   "metadata": {
    "scrolled": true
   },
   "outputs": [
    {
     "name": "stdout",
     "output_type": "stream",
     "text": [
      "<class 'pandas.core.frame.DataFrame'>\n",
      "RangeIndex: 5540 entries, 0 to 5539\n",
      "Data columns (total 23 columns):\n",
      " #   Column             Non-Null Count  Dtype  \n",
      "---  ------             --------------  -----  \n",
      " 0   Unnamed: 0         5540 non-null   int64  \n",
      " 1   tconst             5540 non-null   object \n",
      " 2   Genres_IMDB        4920 non-null   object \n",
      " 3   MPAA               3315 non-null   object \n",
      " 4   Running Time_IMDB  4915 non-null   object \n",
      " 5   genres             4920 non-null   object \n",
      " 6   originalTitle      4920 non-null   object \n",
      " 7   pb_IMDB            5540 non-null   int64  \n",
      " 8   pb_TN              5540 non-null   int64  \n",
      " 9   rd_IMDB            4920 non-null   object \n",
      " 10  rd_TN              1983 non-null   object \n",
      " 11  runtimeMinutes     4920 non-null   object \n",
      " 12  studio_BOM         1646 non-null   object \n",
      " 13  studio_IMDB        4754 non-null   object \n",
      " 14  title_BOM          1647 non-null   object \n",
      " 15  title_IMDB         4920 non-null   object \n",
      " 16  title_TN           1983 non-null   object \n",
      " 17  titleyear_IM       4920 non-null   object \n",
      " 18  titleyear_fl       2609 non-null   object \n",
      " 19  year               4920 non-null   float64\n",
      " 20  year_BOM           1647 non-null   float64\n",
      " 21  year_TN            1983 non-null   float64\n",
      " 22  titleyear          4920 non-null   object \n",
      "dtypes: float64(3), int64(3), object(17)\n",
      "memory usage: 995.6+ KB\n"
     ]
    }
   ],
   "source": [
    "df_MetaDataFromFinanceTables.info()"
   ]
  },
  {
   "cell_type": "code",
   "execution_count": 10,
   "metadata": {
    "scrolled": false
   },
   "outputs": [
    {
     "name": "stdout",
     "output_type": "stream",
     "text": [
      "<class 'pandas.core.frame.DataFrame'>\n",
      "Int64Index: 31060 entries, 0 to 31059\n",
      "Data columns (total 9 columns):\n",
      " #   Column          Non-Null Count  Dtype   \n",
      "---  ------          --------------  -----   \n",
      " 0   tconst          31060 non-null  object  \n",
      " 1   primaryTitle    31060 non-null  object  \n",
      " 2   startYear       31060 non-null  int32   \n",
      " 3   runtimeMinutes  31060 non-null  int32   \n",
      " 4   genres          31060 non-null  object  \n",
      " 5   startYear_str   31060 non-null  object  \n",
      " 6   titleyear       31060 non-null  object  \n",
      " 7   titleId         31060 non-null  object  \n",
      " 8   ind_Link        31060 non-null  category\n",
      "dtypes: category(1), int32(2), object(6)\n",
      "memory usage: 1.9+ MB\n"
     ]
    }
   ],
   "source": [
    "df_IMDB_Akas_english.info()"
   ]
  },
  {
   "cell_type": "markdown",
   "metadata": {},
   "source": [
    "Data belwo is for quick cutting and copying for testing :)"
   ]
  },
  {
   "cell_type": "code",
   "execution_count": 170,
   "metadata": {},
   "outputs": [
    {
     "data": {
      "text/plain": [
       "30893"
      ]
     },
     "execution_count": 170,
     "metadata": {},
     "output_type": "execute_result"
    }
   ],
   "source": [
    "df_IMDB_Akas_english.titleyear.nunique()"
   ]
  },
  {
   "cell_type": "code",
   "execution_count": 171,
   "metadata": {},
   "outputs": [
    {
     "name": "stdout",
     "output_type": "stream",
     "text": [
      "<class 'pandas.core.frame.DataFrame'>\n",
      "Int64Index: 31060 entries, 0 to 31059\n",
      "Data columns (total 9 columns):\n",
      " #   Column          Non-Null Count  Dtype   \n",
      "---  ------          --------------  -----   \n",
      " 0   tconst          31060 non-null  object  \n",
      " 1   primaryTitle    31060 non-null  object  \n",
      " 2   startYear       31060 non-null  int32   \n",
      " 3   runtimeMinutes  31060 non-null  int32   \n",
      " 4   genres          31060 non-null  object  \n",
      " 5   startYear_str   31060 non-null  object  \n",
      " 6   titleyear       31060 non-null  object  \n",
      " 7   titleId         31060 non-null  object  \n",
      " 8   ind_Link        31060 non-null  category\n",
      "dtypes: category(1), int32(2), object(6)\n",
      "memory usage: 1.9+ MB\n"
     ]
    }
   ],
   "source": [
    "df_IMDB_Akas_english.info()"
   ]
  },
  {
   "cell_type": "code",
   "execution_count": 176,
   "metadata": {},
   "outputs": [],
   "source": [
    "df_Scrp_Financials = pd.read_excel(\"./data/ImdbScrapingData/df_Financials_SummaryAndDetail_Imdb_Dom.xlsx\")\n",
    "testingLink = df_IMDB_Akas_english.merge(df_Scrp_Financials, on=\"tconst\",indicator='ind_Link1', how=\"inner\")"
   ]
  },
  {
   "cell_type": "code",
   "execution_count": 177,
   "metadata": {},
   "outputs": [
    {
     "data": {
      "text/plain": [
       "ind_Link1\n",
       "left_only        0\n",
       "right_only       0\n",
       "both          3937\n",
       "Name: ind_Link1, dtype: int64"
      ]
     },
     "execution_count": 177,
     "metadata": {},
     "output_type": "execute_result"
    }
   ],
   "source": [
    "testingLink.groupby([\"ind_Link1\"])[\"ind_Link1\"].count()"
   ]
  },
  {
   "cell_type": "code",
   "execution_count": 182,
   "metadata": {},
   "outputs": [],
   "source": [
    "#testingLink.info()"
   ]
  },
  {
   "cell_type": "code",
   "execution_count": 181,
   "metadata": {},
   "outputs": [
    {
     "data": {
      "text/html": [
       "<div>\n",
       "<style scoped>\n",
       "    .dataframe tbody tr th:only-of-type {\n",
       "        vertical-align: middle;\n",
       "    }\n",
       "\n",
       "    .dataframe tbody tr th {\n",
       "        vertical-align: top;\n",
       "    }\n",
       "\n",
       "    .dataframe thead th {\n",
       "        text-align: right;\n",
       "    }\n",
       "</style>\n",
       "<table border=\"1\" class=\"dataframe\">\n",
       "  <thead>\n",
       "    <tr style=\"text-align: right;\">\n",
       "      <th></th>\n",
       "      <th>primaryTitle_x</th>\n",
       "      <th>tconst</th>\n",
       "    </tr>\n",
       "  </thead>\n",
       "  <tbody>\n",
       "    <tr>\n",
       "      <th>643</th>\n",
       "      <td>Avatar</td>\n",
       "      <td>tt0499549</td>\n",
       "    </tr>\n",
       "  </tbody>\n",
       "</table>\n",
       "</div>"
      ],
      "text/plain": [
       "    primaryTitle_x     tconst\n",
       "643         Avatar  tt0499549"
      ]
     },
     "execution_count": 181,
     "metadata": {},
     "output_type": "execute_result"
    }
   ],
   "source": [
    "testingLink.loc[testingLink['tconst'] == \"tt0499549\"][[\"primaryTitle_x\", \"tconst\"]]\n",
    "# .loc[df_IMDB_Akas['tconst'] == \"tt0499549\"][[\"primaryTitle\", \"tconst\"]]\n",
    "# df_IMDB_Akas_english[df_IMDB_Akas_english.primaryTitle.str.contains('Happy Together', case=False)]"
   ]
  },
  {
   "cell_type": "code",
   "execution_count": 173,
   "metadata": {},
   "outputs": [
    {
     "data": {
      "text/plain": [
       "29516"
      ]
     },
     "execution_count": 173,
     "metadata": {},
     "output_type": "execute_result"
    }
   ],
   "source": [
    "df_IMDB_Akas_english.primaryTitle.nunique()"
   ]
  },
  {
   "cell_type": "code",
   "execution_count": 174,
   "metadata": {
    "scrolled": true
   },
   "outputs": [
    {
     "data": {
      "text/html": [
       "<div>\n",
       "<style scoped>\n",
       "    .dataframe tbody tr th:only-of-type {\n",
       "        vertical-align: middle;\n",
       "    }\n",
       "\n",
       "    .dataframe tbody tr th {\n",
       "        vertical-align: top;\n",
       "    }\n",
       "\n",
       "    .dataframe thead th {\n",
       "        text-align: right;\n",
       "    }\n",
       "</style>\n",
       "<table border=\"1\" class=\"dataframe\">\n",
       "  <thead>\n",
       "    <tr style=\"text-align: right;\">\n",
       "      <th></th>\n",
       "      <th>primaryTitle</th>\n",
       "      <th>tconst</th>\n",
       "    </tr>\n",
       "  </thead>\n",
       "  <tbody>\n",
       "    <tr>\n",
       "      <th>1527</th>\n",
       "      <td>Avatar</td>\n",
       "      <td>tt0499549</td>\n",
       "    </tr>\n",
       "  </tbody>\n",
       "</table>\n",
       "</div>"
      ],
      "text/plain": [
       "     primaryTitle     tconst\n",
       "1527       Avatar  tt0499549"
      ]
     },
     "execution_count": 174,
     "metadata": {},
     "output_type": "execute_result"
    }
   ],
   "source": [
    "df_IMDB_Akas_english.loc[df_IMDB_Akas_english['tconst'] == \"tt0499549\"][[\"primaryTitle\", \"tconst\"]]"
   ]
  }
 ],
 "metadata": {
  "kernelspec": {
   "display_name": "learn-env",
   "language": "python",
   "name": "learn-env"
  },
  "language_info": {
   "codemirror_mode": {
    "name": "ipython",
    "version": 3
   },
   "file_extension": ".py",
   "mimetype": "text/x-python",
   "name": "python",
   "nbconvert_exporter": "python",
   "pygments_lexer": "ipython3",
   "version": "3.8.3"
  }
 },
 "nbformat": 4,
 "nbformat_minor": 4
}
