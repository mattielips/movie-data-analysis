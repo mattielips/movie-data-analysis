{
 "cells": [
  {
   "cell_type": "code",
   "execution_count": null,
   "metadata": {},
   "outputs": [],
   "source": [
    "import numpy as np #linear algebra\n",
    "import pandas as pd #data processing \n",
    "pd.set_option('display.max_rows', None)\n",
    "pd.set_option('display.max_columns', None)  \n",
    "pd.set_option('display.expand_frame_repr', False)\n",
    "pd.set_option('max_colwidth', None)\n"
   ]
  },
  {
   "cell_type": "code",
   "execution_count": null,
   "metadata": {},
   "outputs": [],
   "source": [
    "df_IMDB_Title_Akas = pd.read_csv(\"./Prj_Data/DownLoadedData_Imdb/imdb_title_akas.tsv\", delimiter='\\t')\n",
    "df_IMDB_Title_Akas.name = \"df_IMDB_Title_Akas\"\n",
    "\n",
    "df_IMDB_Title_Akas = df_IMDB_Title_Akas.loc[(df_IMDB_Title_Akas['titleType']=='movie')]\n",
    "df_IMDB_Title_Akas = df_IMDB_Title_Akas.loc[(df_IMDB_Title_Akas['isAdult']==0)]\n",
    "df_IMDB_Title_Akas = df_IMDB_Title_Akas.loc[~(df_IMDB_Title_Akas['genres']=='\\\\N')]\n",
    "df_IMDB_Title_Akas.drop(['endYear', 'isAdult'], axis=1, inplace = True)\n",
    "\n",
    "df_IMDB_Title_Akas[\"startYear\"] = df_IMDB_Title_Akas.startYear.replace(r'\\N',\"0\", regex=False)\n",
    "df_IMDB_Title_Akas['startYear'] = df_IMDB_Title_Akas['startYear'].astype('int32')\n",
    "\n",
    "\n",
    "df_IMDB_Title_Akas[\"runtimeMinutes\"] = df_IMDB_Title_Akas.runtimeMinutes.replace(r'\\N',\"0\", regex=False)\n",
    "df_IMDB_Title_Akas['runtimeMinutes'] = df_IMDB_Title_Akas['runtimeMinutes'].astype('float64')\n",
    "\n",
    "# df_IMDB_Title_Akas = df_IMDB_Title_Akas[df_IMDB_Title_Akas.primaryTitle.str.isalpha()]\n",
    "df_IMDB_Title_Akas.dropna(subset=['primaryTitle'], how='all', inplace=True)\n",
    "df_IMDB_Title_Akas.fillna({\"startYear\":0,\"runtimeMinutes\":0}, inplace=True)\n",
    "df_IMDB_Title_Akas = df_IMDB_Title_Akas.loc[(df_IMDB_Title_Akas['startYear']>=2005) & (df_IMDB_Title_Akas['startYear']<=2020)]\n",
    "\n",
    "\n",
    "df_IMDB_Title_Akas = df_IMDB_Title_Akas[df_IMDB_Title_Akas['primaryTitle'].str.contains('[A-Za-z0-9:-]', na=False, regex=True)]\n",
    "df_IMDB_Title_Akas = df_IMDB_Title_Akas.loc[~(df_IMDB_Title_Akas['primaryTitle'].str.contains('á|à|â|ã|é|è|ê|í|ï|ó|ô|õ|ö|ú|ç|ñ', case=False))]\n",
    "\n",
    "\n",
    "df_IMDB_Title_Ratings = pd.read_csv(\"./Prj_Data/DownLoadedData_Imdb/Ratings.tsv\", delimiter='\\t')\n",
    "df_Imdb_MoviesWithRatings = df_IMDB_Title_Akas.merge(df_IMDB_Title_Ratings, on='tconst', how='inner', suffixes=('_AK', '_rat'))\n"
   ]
  },
  {
   "cell_type": "code",
   "execution_count": null,
   "metadata": {},
   "outputs": [],
   "source": [
    "df_Imdb_MoviesWithRatings[\"Splitgeneres\"] = df_Imdb_MoviesWithRatings[\"genres\"].str.split(\",\",3)\n",
    "df_Imdb_MoviesWithRatings_Exploded = df_Imdb_MoviesWithRatings.explode(\"Splitgeneres\")"
   ]
  },
  {
   "cell_type": "code",
   "execution_count": null,
   "metadata": {},
   "outputs": [],
   "source": [
    "df_genres = df_Imdb_MoviesWithRatings_Exploded.pivot_table(index=['Splitgeneres'], values=\"averageRating\", aggfunc={\"averageRating\":['count','mean','min','max','std']},dropna=True).reset_index()\n",
    "\n",
    "df_genres = df_genres.sort_values(by=\"count\", ascending=False)\n",
    "\n",
    "df_genres = df_genres.loc[(df_genres['count']>23)]\n",
    "df_genres"
   ]
  },
  {
   "cell_type": "code",
   "execution_count": null,
   "metadata": {},
   "outputs": [],
   "source": [
    "#df_Imdb_MoviesWithRatings_Exploded\n",
    "df_Imdb_MoviesWithRatings_Exploded = df_Imdb_MoviesWithRatings_Exploded.merge(df_genres, on='Splitgeneres', how='left', suffixes=('_exr', '_desc'))\n",
    "df_Imdb_MoviesWithRatings_Exploded.head(100)"
   ]
  },
  {
   "cell_type": "code",
   "execution_count": null,
   "metadata": {},
   "outputs": [],
   "source": [
    "df_Imdb_MoviesWithRatings_Exploded.info()\n",
    "df_Imdb_MoviesWithRatings_Exploded_Above = df_Imdb_MoviesWithRatings_Exploded.loc[(df_Imdb_MoviesWithRatings_Exploded['AboveRating']==True)]\n",
    "df_Imdb_MoviesWithRatings_Exploded_Above.info()"
   ]
  },
  {
   "cell_type": "code",
   "execution_count": null,
   "metadata": {},
   "outputs": [],
   "source": []
  }
 ],
 "metadata": {
  "kernelspec": {
   "display_name": "learn-env",
   "language": "python",
   "name": "learn-env"
  },
  "language_info": {
   "codemirror_mode": {
    "name": "ipython",
    "version": 3
   },
   "file_extension": ".py",
   "mimetype": "text/x-python",
   "name": "python",
   "nbconvert_exporter": "python",
   "pygments_lexer": "ipython3",
   "version": "3.8.3"
  }
 },
 "nbformat": 4,
 "nbformat_minor": 4
}
