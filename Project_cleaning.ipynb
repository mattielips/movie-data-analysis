{
 "cells": [
  {
   "cell_type": "code",
   "execution_count": 35,
   "metadata": {},
   "outputs": [],
   "source": [
    "import pandas as pd\n",
    "import numpy as np\n",
    "import re \n",
    "import requests \n",
    "import matplotlib \n",
    "import seaborn as sns\n",
    "from bs4 import BeautifulSoup \n",
    "from pandasql import sqldf\n",
    "%matplotlib inline\n",
    "import sqlite3\n",
    "from fractions import Fraction"
   ]
  },
  {
   "cell_type": "code",
   "execution_count": 36,
   "metadata": {},
   "outputs": [],
   "source": [
    "#CSV files\n",
    "dfcsv_1 = pd.read_csv('zippedData/bom.movie_gross.csv.gz')\n",
    "dfcsv_2 = pd.read_csv('zippedData/imdb.name.basics.csv.gz')\n",
    "dfcsv_3 = pd.read_csv('zippedData/imdb.title.akas.csv.gz')\n",
    "dfcsv_4 = pd.read_csv('zippedData/imdb.title.basics.csv.gz')\n",
    "dfcsv_5 = pd.read_csv('zippedData/imdb.title.crew.csv.gz')\n",
    "dfcsv_6 = pd.read_csv('zippedData/imdb.title.principals.csv.gz')\n",
    "dfcsv_7 = pd.read_csv('zippedData/imdb.title.ratings.csv.gz')\n",
    "dfcsv_8 = pd.read_csv('zippedData/tmdb.movies.csv.gz')"
   ]
  },
  {
   "cell_type": "code",
   "execution_count": 37,
   "metadata": {},
   "outputs": [],
   "source": [
    "#TSV FILES\n",
    "dftsv_1= pd.read_csv('zippedData/rt.movie_info.tsv.gz', delimiter='\\t',encoding='utf-8')\n",
    "dftsv_2 = pd.read_csv('zippedData/rt.reviews.tsv.gz', delimiter='\\t',encoding='unicode_escape')\n"
   ]
  },
  {
   "cell_type": "code",
   "execution_count": 38,
   "metadata": {},
   "outputs": [],
   "source": [
    "#dfcsv_1 Index(['title', 'studio', 'domestic_gross', 'foreign_gross', 'year'], dtype='object')\n",
    "#dfcsv_2 Index(['nconst', 'primary_name', 'birth_year', 'death_year', 'primary_profession', 'known_for_titles'], dtype='object')\n",
    "#dfcsv_3 Index(['title_id', 'ordering', 'title', 'region', 'language', 'types', 'attributes', 'is_original_title'], dtype='object')\n",
    "#dfcsv_4 Index(['tconst', 'primary_title', 'original_title', 'start_year', 'runtime_minutes', 'genres'], dtype='object')\n",
    "#dfcsv_5 Index(['tconst', 'directors', 'writers'], dtype='object')\n",
    "#dfcsv_6 Index(['tconst', 'ordering', 'nconst', 'category', 'job', 'characters'], dtype='object')\n",
    "#dfcsv_7 Index(['tconst', 'averagerating', 'numvotes'], dtype='object')\n",
    "#dfcsv_1 Index(['id', 'synopsis', 'rating', 'genre', 'director', 'writer', 'theater_date', 'dvd_date', 'currency', 'box_office', 'runtime', 'studio'], dtype='object')\n",
    "#dftsv_2 Index(['id', 'review', 'rating', 'fresh', 'critic', 'top_critic', 'publisher', 'date'], dtype='object')"
   ]
  },
  {
   "cell_type": "code",
   "execution_count": 46,
   "metadata": {},
   "outputs": [],
   "source": [
    "dftsv_1['rating'].rename('parent_rating')\n",
    "\n",
    "#keeping non-numeric columns with few NaN values so we could still use \n",
    "#to groupby or search from, can always drop later subbing for unknown \n",
    "#so we don't get and NaN errors \n",
    "\n",
    "clean1 = dfcsv_1.drop(labels='foreign_gross', axis=1).fillna(dfcsv_1['domestic_gross'].median())\n",
    "clean2 = dfcsv_2.drop(labels='birth_year', axis=1).drop(labels='death_year', axis=1).fillna('unknown')\n",
    "clean3 = dfcsv_3.drop(labels='attributes', axis=1).drop(labels='language', axis=1).drop(labels='types', axis=1).fillna('unknown')\n",
    "clean4 = dfcsv_4.fillna(dfcsv_4['runtime_minutes'].median()).fillna('unknown')\n",
    "clean5 = dfcsv_5.fillna('unknown')\n",
    "clean6 = dfcsv_6.drop(labels='job', axis=1).drop(labels='characters', axis=1)\n",
    "clean7 = dfcsv_7\n",
    "clean8 = dfcsv_8.drop(labels='Unnamed: 0', axis=1).drop(labels='popularity', axis=1)\n",
    "#columns full but useless \n",
    "clean9 = dftsv_2.drop(labels='rating', axis=1).fillna('unknown')\n",
    "#rating probably not worth trying to add, would have to convert a lot to determine mean/med/mode\n",
    "#review subbed for unknown so we could still use to search \n",
    "clean10 = dftsv_1 #Really short but lots of data, join on left & right in sep DF w/clean1 "
   ]
  },
  {
   "cell_type": "code",
   "execution_count": 56,
   "metadata": {},
   "outputs": [
    {
     "name": "stdout",
     "output_type": "stream",
     "text": [
      "Unnamed: 0           0\n",
      "genre_ids            0\n",
      "id                   0\n",
      "original_language    0\n",
      "original_title       0\n",
      "popularity           0\n",
      "release_date         0\n",
      "title                0\n",
      "vote_average         0\n",
      "vote_count           0\n",
      "dtype: int64\n"
     ]
    },
    {
     "data": {
      "text/plain": [
       "count    26517.000000\n",
       "mean       194.224837\n",
       "std        960.961095\n",
       "min          1.000000\n",
       "25%          2.000000\n",
       "50%          5.000000\n",
       "75%         28.000000\n",
       "max      22186.000000\n",
       "Name: vote_count, dtype: float64"
      ]
     },
     "execution_count": 56,
     "metadata": {},
     "output_type": "execute_result"
    }
   ],
   "source": [
    "#c1 = clean1.groupby(['studio', 'title']).mean()\n",
    "#c1\n",
    "#dftsv_2['rating_percent'] = [for rating in dftsv_2(): ]\n",
    "print(dfcsv_8.isna().sum())\n",
    "dfcsv_8['vote_count'].describe()\n",
    "\n",
    "#float(sum(Fraction(s) for s in clean9['rating']))"
   ]
  },
  {
   "cell_type": "code",
   "execution_count": 52,
   "metadata": {},
   "outputs": [
    {
     "name": "stdout",
     "output_type": "stream",
     "text": [
      "Unnamed: 0           0\n",
      "genre_ids            0\n",
      "id                   0\n",
      "original_language    0\n",
      "original_title       0\n",
      "popularity           0\n",
      "release_date         0\n",
      "title                0\n",
      "vote_average         0\n",
      "vote_count           0\n",
      "dtype: int64\n"
     ]
    }
   ],
   "source": [
    "#print(dfcsv_5.median())\n",
    "#print(dfcsv_5.notna().sum())\n",
    "print(dftsv_3.isna().sum())\n"
   ]
  },
  {
   "cell_type": "code",
   "execution_count": 11,
   "metadata": {
    "scrolled": true
   },
   "outputs": [
    {
     "data": {
      "text/plain": [
       "<pandas.core.groupby.generic.DataFrameGroupBy object at 0x000002972B3FC198>"
      ]
     },
     "execution_count": 11,
     "metadata": {},
     "output_type": "execute_result"
    }
   ],
   "source": [
    "cleanup1 = clean1.merge(clean3, on='title').fillna('unknown').groupby(['title'])\n",
    "cleanup1"
   ]
  },
  {
   "cell_type": "code",
   "execution_count": null,
   "metadata": {
    "scrolled": true
   },
   "outputs": [],
   "source": []
  },
  {
   "cell_type": "code",
   "execution_count": null,
   "metadata": {},
   "outputs": [],
   "source": []
  },
  {
   "cell_type": "code",
   "execution_count": null,
   "metadata": {},
   "outputs": [],
   "source": []
  },
  {
   "cell_type": "code",
   "execution_count": null,
   "metadata": {},
   "outputs": [],
   "source": []
  },
  {
   "cell_type": "code",
   "execution_count": 165,
   "metadata": {
    "scrolled": true
   },
   "outputs": [
    {
     "data": {
      "text/plain": [
       "0.75"
      ]
     },
     "execution_count": 165,
     "metadata": {},
     "output_type": "execute_result"
    }
   ],
   "source": []
  }
 ],
 "metadata": {
  "kernelspec": {
   "display_name": "Python 3",
   "language": "python",
   "name": "python3"
  },
  "language_info": {
   "codemirror_mode": {
    "name": "ipython",
    "version": 3
   },
   "file_extension": ".py",
   "mimetype": "text/x-python",
   "name": "python",
   "nbconvert_exporter": "python",
   "pygments_lexer": "ipython3",
   "version": "3.6.9"
  }
 },
 "nbformat": 4,
 "nbformat_minor": 4
}
