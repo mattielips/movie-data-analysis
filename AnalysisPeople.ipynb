{
 "cells": [
  {
   "cell_type": "code",
   "execution_count": 1,
   "metadata": {},
   "outputs": [],
   "source": [
    "import numpy as np #linear algebra\n",
    "import pandas as pd #data processing \n",
    "pd.set_option('display.max_rows', None)\n",
    "pd.set_option('display.max_columns', None)  \n",
    "pd.set_option('display.expand_frame_repr', False)\n",
    "pd.set_option('max_colwidth', None)\n",
    "\n",
    "# Importing into dataframe\n",
    "\n",
    "df_IMDB_MovieCatalog = pd.read_excel(\"df_IMDB_MovieCatalog.xlsx\")\n",
    "df_Movie_Financials = pd.read_excel(\"df_Movie_Financials.xlsx\")\n",
    "df_KnownFor = pd.read_excel ('./Prj_Data/ImdbScrapingData/TheNumbers/output/df_starsplayers_knownForMovies.xlsx', sheet_name='Export')\n",
    "df_Stars = pd.read_excel ('./Prj_Data/ImdbScrapingData/TheNumbers/output/df_starsplayers.xlsx', sheet_name='Export')"
   ]
  },
  {
   "cell_type": "code",
   "execution_count": null,
   "metadata": {},
   "outputs": [],
   "source": [
    "df_IMDB_MovieCatalog.info()"
   ]
  },
  {
   "cell_type": "code",
   "execution_count": null,
   "metadata": {},
   "outputs": [],
   "source": [
    "df_Mv = df_IMDB_MovieCatalog[[\"tconst\", \"primaryTitle\", 'titleyear']]\n",
    "df_fin = df_Movie_Financials[['tconst', 'P_Cost', 'Dom_Gross', 'Frgn_Gross', 'WW_Gross',\n",
    "       'Domestic Opening']]"
   ]
  },
  {
   "cell_type": "code",
   "execution_count": null,
   "metadata": {},
   "outputs": [],
   "source": [
    "df_Mv_Fin = df_IMDB_MovieCatalog.merge(df_fin, on=\"tconst\", how=\"inner\")"
   ]
  },
  {
   "cell_type": "code",
   "execution_count": null,
   "metadata": {},
   "outputs": [],
   "source": [
    "df_Mv_Fin.columns"
   ]
  },
  {
   "cell_type": "code",
   "execution_count": null,
   "metadata": {
    "scrolled": true
   },
   "outputs": [],
   "source": [
    "df_Mv_Fin_s = df_Mv_Fin[['tconst', 'primaryTitle','startYear_str', 'titleyear','P_Cost', \n",
    "                       'Dom_Gross', 'Frgn_Gross', 'WW_Gross','Domestic Opening']]"
   ]
  },
  {
   "cell_type": "code",
   "execution_count": null,
   "metadata": {},
   "outputs": [],
   "source": [
    "df_KnownFor_s = df_KnownFor[[ 'Title', 'Actor',\n",
    "       'Role', 'DomesticBoxOffice', 'Contribution','nameyear',\"tconst\"]]"
   ]
  },
  {
   "cell_type": "code",
   "execution_count": null,
   "metadata": {
    "scrolled": true
   },
   "outputs": [],
   "source": [
    "# df_KnownFor.sort_values(by=['DomesticBoxOffice','Title'], ascending=False)"
   ]
  },
  {
   "cell_type": "code",
   "execution_count": null,
   "metadata": {},
   "outputs": [],
   "source": [
    "df_Stars = df_Stars[['Rank', 'Domestic Box Office', 'Movies','nameyear']]"
   ]
  },
  {
   "cell_type": "code",
   "execution_count": null,
   "metadata": {},
   "outputs": [],
   "source": [
    "df_KnownFor_withRank = df_Stars.merge(df_KnownFor_s, on=\"nameyear\", how=\"right\")"
   ]
  },
  {
   "cell_type": "code",
   "execution_count": null,
   "metadata": {
    "scrolled": false
   },
   "outputs": [],
   "source": [
    "df_KnownFor_withRank.sort_values(by=\"DomesticBoxOffice\", ascending=False).head(5)"
   ]
  },
  {
   "cell_type": "code",
   "execution_count": null,
   "metadata": {},
   "outputs": [],
   "source": [
    "df_All = df_Mv_Fin.merge(df_KnownFor_withRank, on=\"tconst\", how=\"inner\")"
   ]
  },
  {
   "cell_type": "code",
   "execution_count": null,
   "metadata": {},
   "outputs": [],
   "source": [
    "df_All.columns"
   ]
  },
  {
   "cell_type": "code",
   "execution_count": null,
   "metadata": {
    "scrolled": false
   },
   "outputs": [],
   "source": [
    "df_All[['primaryTitle',\n",
    "       'genres', 'Dom_Gross','P_Cost', 'Domestic Opening', 'Contribution','Actor','Rank', 'Movies','Role','Domestic Box Office', ]].sort_values(by=[\"Dom_Gross\", \"Rank\"], ascending = (False, True)).head(5)"
   ]
  },
  {
   "cell_type": "code",
   "execution_count": null,
   "metadata": {},
   "outputs": [],
   "source": []
  },
  {
   "cell_type": "code",
   "execution_count": null,
   "metadata": {},
   "outputs": [],
   "source": []
  },
  {
   "cell_type": "code",
   "execution_count": null,
   "metadata": {},
   "outputs": [],
   "source": []
  },
  {
   "cell_type": "code",
   "execution_count": null,
   "metadata": {},
   "outputs": [],
   "source": [
    "#_______________________Creating StarPlayTableNodups in nameyear using primary"
   ]
  },
  {
   "cell_type": "code",
   "execution_count": null,
   "metadata": {},
   "outputs": [],
   "source": [
    "df_IMDB_MovieCatalog.info()"
   ]
  },
  {
   "cell_type": "code",
   "execution_count": null,
   "metadata": {},
   "outputs": [],
   "source": [
    "df_KnownFor.info()"
   ]
  },
  {
   "cell_type": "code",
   "execution_count": null,
   "metadata": {},
   "outputs": [],
   "source": [
    "df_KnownFor[\"ReleaseYear\"].head()"
   ]
  },
  {
   "cell_type": "code",
   "execution_count": null,
   "metadata": {},
   "outputs": [],
   "source": [
    "df_KnownFor[\"Title\"] = df_KnownFor[\"Title\"].fillna(\"0\")\n",
    "df_KnownFor[\"ReleaseYear\"] = df_KnownFor[\"ReleaseYear\"].fillna(0)\n",
    "df_KnownFor[\"title_linktoIMDB\"] = df_KnownFor[\"Title\"].str.title()\n",
    "# df_KnownFor[\"titleyear_titlelinktoIMDB\"] =  \n",
    "df_KnownFor[\"titleyear_titlelinktoIMDB\"] = df_KnownFor[\"title_linktoIMDB\"] + df_KnownFor[\"ReleaseYear\"].apply(lambda x: str(x).strip())"
   ]
  },
  {
   "cell_type": "code",
   "execution_count": null,
   "metadata": {
    "scrolled": true
   },
   "outputs": [],
   "source": [
    "df_KnownFor[[\"title_linktoIMDB\",\"titleyear_titlelinktoIMDB\"]][df_KnownFor[\"title_linktoIMDB\"]==\"12 Years A Slave\"]"
   ]
  },
  {
   "cell_type": "code",
   "execution_count": null,
   "metadata": {},
   "outputs": [],
   "source": []
  },
  {
   "cell_type": "code",
   "execution_count": null,
   "metadata": {
    "scrolled": false
   },
   "outputs": [],
   "source": [
    "df_KnownFor.info()"
   ]
  },
  {
   "cell_type": "code",
   "execution_count": null,
   "metadata": {
    "scrolled": true
   },
   "outputs": [],
   "source": [
    "df_KnownForMerged = df_KnownFor.merge(df_IMDB_MovieCatalog, left_on=\"titleyear_titlelinktoIMDB\" , right_on=\"titleyear\", how=\"left\")"
   ]
  },
  {
   "cell_type": "code",
   "execution_count": null,
   "metadata": {},
   "outputs": [],
   "source": [
    "df_KnownForMerged[[\"title_linktoIMDB\",\"titleyear_titlelinktoIMDB\"]][df_KnownForMerged[\"title_linktoIMDB\"]==\"12 Years A Slave\"]"
   ]
  },
  {
   "cell_type": "code",
   "execution_count": null,
   "metadata": {},
   "outputs": [],
   "source": [
    "df_KnownFor.sort_values(by=\"DomesticBoxOffice\", ascending=False).head(1000)"
   ]
  },
  {
   "cell_type": "code",
   "execution_count": null,
   "metadata": {},
   "outputs": [],
   "source": [
    "df_KnownForMerged.columns"
   ]
  },
  {
   "cell_type": "code",
   "execution_count": null,
   "metadata": {},
   "outputs": [],
   "source": [
    "df_KnownForMerged = df_KnownForMerged[[\"Title\",\"tconst\"]][df_KnownForMerged[\"tconst\"].isnull()]\n",
    "df_KnownForMerged = df_KnownForMerged.drop_duplicates()"
   ]
  },
  {
   "cell_type": "code",
   "execution_count": null,
   "metadata": {},
   "outputs": [],
   "source": [
    "df_KnownFornull.info()"
   ]
  },
  {
   "cell_type": "code",
   "execution_count": null,
   "metadata": {},
   "outputs": [],
   "source": [
    "df_KnownFornull.to_excel(\"df_KnownFornull.xlsx\")"
   ]
  },
  {
   "cell_type": "code",
   "execution_count": null,
   "metadata": {},
   "outputs": [],
   "source": [
    ".groupby([\"titleyear\", \"title_linktoIMDB\" ,\"ReleaseYear\"])"
   ]
  },
  {
   "cell_type": "code",
   "execution_count": null,
   "metadata": {},
   "outputs": [],
   "source": [
    "df_KnownFor.to_excel(\"df_KnownFor_missingtconst.xlsx\")"
   ]
  },
  {
   "cell_type": "code",
   "execution_count": null,
   "metadata": {},
   "outputs": [],
   "source": [
    "# df_Title_Basics['primaryTitle'].fillna(\"0\", inplace=True)\n",
    "# df_Title_Basics[df_Title_Basics['primaryTitle'].str.contains('Lord of the Rings')]"
   ]
  },
  {
   "cell_type": "code",
   "execution_count": null,
   "metadata": {},
   "outputs": [],
   "source": [
    "# df_Title_Episods[df_Title_Episods[\"tconst\"]==\"tt0077869\"]\n",
    "# df_Title_Episods[df_Title_Episods['primaryTitle'].str.contains('Lord of the Rings')]"
   ]
  },
  {
   "cell_type": "code",
   "execution_count": null,
   "metadata": {},
   "outputs": [],
   "source": []
  }
 ],
 "metadata": {
  "kernelspec": {
   "display_name": "learn-env",
   "language": "python",
   "name": "learn-env"
  },
  "language_info": {
   "codemirror_mode": {
    "name": "ipython",
    "version": 3
   },
   "file_extension": ".py",
   "mimetype": "text/x-python",
   "name": "python",
   "nbconvert_exporter": "python",
   "pygments_lexer": "ipython3",
   "version": "3.8.3"
  }
 },
 "nbformat": 4,
 "nbformat_minor": 4
}
