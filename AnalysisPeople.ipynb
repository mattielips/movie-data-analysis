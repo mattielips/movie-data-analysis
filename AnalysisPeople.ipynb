{
 "cells": [
  {
   "cell_type": "code",
   "execution_count": 4,
   "metadata": {},
   "outputs": [],
   "source": [
    "import numpy as np #linear algebra\n",
    "import pandas as pd #data processing \n",
    "pd.set_option('display.max_rows', None)\n",
    "pd.set_option('display.max_columns', None)  \n",
    "pd.set_option('display.expand_frame_repr', False)\n",
    "pd.set_option('max_colwidth', None)\n",
    "\n",
    "# Importing into dataframe\n",
    "df_Title_Basics = pd.read_csv(\"./Prj_Data/DownLoadedData_Imdb/title.basics (1).tsv.gz\", delimiter='\\t', encoding='ANSI')\n",
    "df_Name_Basics = pd.read_csv(\"./Prj_Data/DownLoadedData_Imdb/name.basics (1).tsv.gz\", delimiter='\\t', encoding='ANSI')\n",
    "df_Title_Crew = pd.read_csv(\"./Prj_Data/DownLoadedData_Imdb/title.crew (1).tsv.gz\", delimiter='\\t', encoding='ANSI')\n",
    "df_Title_Episods = pd.read_csv(\"./Prj_Data/DownLoadedData_Imdb/title.episode (1).tsv.gz\", delimiter='\\t', encoding='ANSI')\n",
    "df_Title_Princ = pd.read_csv(\"./Prj_Data/DownLoadedData_Imdb/title.principals (1).tsv.gz\", delimiter='\\t', encoding='ANSI')\n",
    "df_Title_Ratings = pd.read_csv(\"./Prj_Data/DownLoadedData_Imdb/title.ratings (2).tsv.gz\", delimiter='\\t', encoding='ANSI')\n",
    "df_Generes_With_tconst = pd.read_excel(\"df_Generes_With_tconst.xlsx\")\n",
    "df_IMDB_MovieCatalog = pd.read_excel(\"df_IMDB_MovieCatalog.xlsx\")\n",
    "df_Movie_Financials = pd.read_excel(\"df_Movie_Financials.xlsx\")\n",
    "\n",
    "\n",
    "\n",
    "\n",
    "\n",
    "#df_IMDB_Akas_english = pd.read_excel(\"./Prj_Data/DownLoadedData_Imdb/df_IMDB_Akas_english.xlsx\")"
   ]
  },
  {
   "cell_type": "code",
   "execution_count": null,
   "metadata": {},
   "outputs": [],
   "source": []
  }
 ],
 "metadata": {
  "kernelspec": {
   "display_name": "learn-env",
   "language": "python",
   "name": "learn-env"
  },
  "language_info": {
   "codemirror_mode": {
    "name": "ipython",
    "version": 3
   },
   "file_extension": ".py",
   "mimetype": "text/x-python",
   "name": "python",
   "nbconvert_exporter": "python",
   "pygments_lexer": "ipython3",
   "version": "3.8.3"
  }
 },
 "nbformat": 4,
 "nbformat_minor": 4
}
