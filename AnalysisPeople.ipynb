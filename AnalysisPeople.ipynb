{
 "cells": [
  {
   "cell_type": "code",
   "execution_count": 41,
   "metadata": {},
   "outputs": [],
   "source": [
    "import numpy as np #linear algebra\n",
    "import pandas as pd #data processing \n",
    "pd.set_option('display.max_rows', None)\n",
    "pd.set_option('display.max_columns', None)  \n",
    "pd.set_option('display.expand_frame_repr', False)\n",
    "pd.set_option('max_colwidth', None)\n",
    "\n",
    "# Importing into dataframe\n",
    "\n",
    "df_IMDB_MovieCatalog = pd.read_excel(\"df_IMDB_MovieCatalog.xlsx\")\n",
    "df_Movie_Financials = pd.read_excel(\"df_Movie_Financials.xlsx\")\n",
    "df_KnownFor = pd.read_excel ('./Prj_Data/ImdbScrapingData/TheNumbers/output/df_starsplayers_knownForMovies.xlsx', sheet_name='Export')\n",
    "df_Stars = pd.read_excel ('./Prj_Data/ImdbScrapingData/TheNumbers/output/df_starsplayers.xlsx', sheet_name='Export')"
   ]
  },
  {
   "cell_type": "code",
   "execution_count": 42,
   "metadata": {},
   "outputs": [
    {
     "name": "stdout",
     "output_type": "stream",
     "text": [
      "<class 'pandas.core.frame.DataFrame'>\n",
      "RangeIndex: 31060 entries, 0 to 31059\n",
      "Data columns (total 12 columns):\n",
      " #   Column          Non-Null Count  Dtype         \n",
      "---  ------          --------------  -----         \n",
      " 0   Unnamed: 0      31060 non-null  int64         \n",
      " 1   tconst          31060 non-null  object        \n",
      " 2   primaryTitle    31060 non-null  object        \n",
      " 3   startYear       31060 non-null  int64         \n",
      " 4   runtimeMinutes  31060 non-null  int64         \n",
      " 5   genres          31060 non-null  object        \n",
      " 6   startYear_str   31060 non-null  int64         \n",
      " 7   titleyear       31060 non-null  object        \n",
      " 8   studio_BOM      4560 non-null   object        \n",
      " 9   MPAA            2865 non-null   object        \n",
      " 10  rd              4560 non-null   datetime64[ns]\n",
      " 11  StudioDesc      4057 non-null   object        \n",
      "dtypes: datetime64[ns](1), int64(4), object(7)\n",
      "memory usage: 2.8+ MB\n"
     ]
    }
   ],
   "source": [
    "df_IMDB_MovieCatalog.info()"
   ]
  },
  {
   "cell_type": "code",
   "execution_count": 43,
   "metadata": {},
   "outputs": [],
   "source": [
    "df_Mv = df_IMDB_MovieCatalog[[\"tconst\", \"primaryTitle\", 'titleyear']]\n",
    "df_fin = df_Movie_Financials[['tconst', 'P_Cost', 'Dom_Gross', 'Frgn_Gross', 'WW_Gross',\n",
    "       'Domestic Opening']]"
   ]
  },
  {
   "cell_type": "code",
   "execution_count": 44,
   "metadata": {},
   "outputs": [],
   "source": [
    "df_Mv_Fin = df_IMDB_MovieCatalog.merge(df_fin, on=\"tconst\", how=\"inner\")"
   ]
  },
  {
   "cell_type": "code",
   "execution_count": 45,
   "metadata": {},
   "outputs": [
    {
     "data": {
      "text/plain": [
       "Index(['Unnamed: 0', 'tconst', 'primaryTitle', 'startYear', 'runtimeMinutes',\n",
       "       'genres', 'startYear_str', 'titleyear', 'studio_BOM', 'MPAA', 'rd',\n",
       "       'StudioDesc', 'P_Cost', 'Dom_Gross', 'Frgn_Gross', 'WW_Gross',\n",
       "       'Domestic Opening'],\n",
       "      dtype='object')"
      ]
     },
     "execution_count": 45,
     "metadata": {},
     "output_type": "execute_result"
    }
   ],
   "source": [
    "df_Mv_Fin.columns"
   ]
  },
  {
   "cell_type": "code",
   "execution_count": 47,
   "metadata": {
    "scrolled": true
   },
   "outputs": [],
   "source": [
    "df_Mv_Fin_s = df_Mv_Fin[['tconst', 'primaryTitle','startYear_str', 'titleyear','P_Cost', \n",
    "                       'Dom_Gross', 'Frgn_Gross', 'WW_Gross','Domestic Opening']]"
   ]
  },
  {
   "cell_type": "code",
   "execution_count": 48,
   "metadata": {},
   "outputs": [],
   "source": [
    "df_KnownFor_s = df_KnownFor[[ 'Title', 'Actor',\n",
    "       'Role', 'DomesticBoxOffice', 'Contribution','nameyear',\"tconst\"]]"
   ]
  },
  {
   "cell_type": "code",
   "execution_count": 12,
   "metadata": {
    "scrolled": true
   },
   "outputs": [],
   "source": [
    "# df_KnownFor.sort_values(by=['DomesticBoxOffice','Title'], ascending=False)"
   ]
  },
  {
   "cell_type": "code",
   "execution_count": 49,
   "metadata": {},
   "outputs": [],
   "source": [
    "df_Stars = df_Stars[['Rank', 'Domestic Box Office', 'Movies','nameyear']]"
   ]
  },
  {
   "cell_type": "code",
   "execution_count": 52,
   "metadata": {},
   "outputs": [],
   "source": [
    "df_KnownFor_withRank = df_Stars.merge(df_KnownFor_s, on=\"nameyear\", how=\"right\")"
   ]
  },
  {
   "cell_type": "code",
   "execution_count": 53,
   "metadata": {
    "scrolled": false
   },
   "outputs": [
    {
     "data": {
      "text/html": [
       "<div>\n",
       "<style scoped>\n",
       "    .dataframe tbody tr th:only-of-type {\n",
       "        vertical-align: middle;\n",
       "    }\n",
       "\n",
       "    .dataframe tbody tr th {\n",
       "        vertical-align: top;\n",
       "    }\n",
       "\n",
       "    .dataframe thead th {\n",
       "        text-align: right;\n",
       "    }\n",
       "</style>\n",
       "<table border=\"1\" class=\"dataframe\">\n",
       "  <thead>\n",
       "    <tr style=\"text-align: right;\">\n",
       "      <th></th>\n",
       "      <th>Rank</th>\n",
       "      <th>Domestic Box Office</th>\n",
       "      <th>Movies</th>\n",
       "      <th>nameyear</th>\n",
       "      <th>Title</th>\n",
       "      <th>Actor</th>\n",
       "      <th>Role</th>\n",
       "      <th>DomesticBoxOffice</th>\n",
       "      <th>Contribution</th>\n",
       "      <th>tconst</th>\n",
       "    </tr>\n",
       "  </thead>\n",
       "  <tbody>\n",
       "    <tr>\n",
       "      <th>6047</th>\n",
       "      <td>271</td>\n",
       "      <td>699982160</td>\n",
       "      <td>6</td>\n",
       "      <td>Domhnall Gleeson1983</td>\n",
       "      <td>Star Wars: Episode Vii - The Force Awakens</td>\n",
       "      <td>Domhnall Gleeson</td>\n",
       "      <td>General Hux</td>\n",
       "      <td>936662225</td>\n",
       "      <td>Actor</td>\n",
       "      <td>tt2488496</td>\n",
       "    </tr>\n",
       "    <tr>\n",
       "      <th>3679</th>\n",
       "      <td>126</td>\n",
       "      <td>1368465430</td>\n",
       "      <td>8</td>\n",
       "      <td>Andy Serkis1964</td>\n",
       "      <td>Star Wars: Episode Vii - The Force Awakens</td>\n",
       "      <td>Andy Serkis</td>\n",
       "      <td>Supreme Leader Snoke</td>\n",
       "      <td>936662225</td>\n",
       "      <td>Actor</td>\n",
       "      <td>tt2488496</td>\n",
       "    </tr>\n",
       "    <tr>\n",
       "      <th>22412</th>\n",
       "      <td>21</td>\n",
       "      <td>1585898377</td>\n",
       "      <td>6</td>\n",
       "      <td>Michael Arndt1973</td>\n",
       "      <td>Star Wars: Episode Vii - The Force Awakens</td>\n",
       "      <td>Michael Arndt</td>\n",
       "      <td>ScreenwriterAssociate Producer</td>\n",
       "      <td>936662225</td>\n",
       "      <td>Writer</td>\n",
       "      <td>tt2488496</td>\n",
       "    </tr>\n",
       "    <tr>\n",
       "      <th>13916</th>\n",
       "      <td>11</td>\n",
       "      <td>2050695080</td>\n",
       "      <td>6</td>\n",
       "      <td>George Lucas1944</td>\n",
       "      <td>Star Wars: Episode Vii - The Force Awakens</td>\n",
       "      <td>George Lucas</td>\n",
       "      <td>Character Creator</td>\n",
       "      <td>936662225</td>\n",
       "      <td>Writer</td>\n",
       "      <td>tt2488496</td>\n",
       "    </tr>\n",
       "    <tr>\n",
       "      <th>13351</th>\n",
       "      <td>5</td>\n",
       "      <td>2198878974</td>\n",
       "      <td>6</td>\n",
       "      <td>J.J. Abrams1966</td>\n",
       "      <td>Star Wars: Episode Vii - The Force Awakens</td>\n",
       "      <td>J.J. Abrams</td>\n",
       "      <td>DirectorScreenwriterProducer</td>\n",
       "      <td>936662225</td>\n",
       "      <td>Director</td>\n",
       "      <td>tt2488496</td>\n",
       "    </tr>\n",
       "  </tbody>\n",
       "</table>\n",
       "</div>"
      ],
      "text/plain": [
       "       Rank  Domestic Box Office  Movies              nameyear                                       Title             Actor                            Role  DomesticBoxOffice Contribution     tconst\n",
       "6047    271            699982160       6  Domhnall Gleeson1983  Star Wars: Episode Vii - The Force Awakens  Domhnall Gleeson                     General Hux          936662225        Actor  tt2488496\n",
       "3679    126           1368465430       8       Andy Serkis1964  Star Wars: Episode Vii - The Force Awakens       Andy Serkis            Supreme Leader Snoke          936662225        Actor  tt2488496\n",
       "22412    21           1585898377       6     Michael Arndt1973  Star Wars: Episode Vii - The Force Awakens     Michael Arndt  ScreenwriterAssociate Producer          936662225       Writer  tt2488496\n",
       "13916    11           2050695080       6      George Lucas1944  Star Wars: Episode Vii - The Force Awakens      George Lucas               Character Creator          936662225       Writer  tt2488496\n",
       "13351     5           2198878974       6       J.J. Abrams1966  Star Wars: Episode Vii - The Force Awakens       J.J. Abrams    DirectorScreenwriterProducer          936662225     Director  tt2488496"
      ]
     },
     "execution_count": 53,
     "metadata": {},
     "output_type": "execute_result"
    }
   ],
   "source": [
    "df_KnownFor_withRank.sort_values(by=\"DomesticBoxOffice\", ascending=False).head(5)"
   ]
  },
  {
   "cell_type": "code",
   "execution_count": 55,
   "metadata": {},
   "outputs": [],
   "source": [
    "df_All = df_Mv_Fin.merge(df_KnownFor_withRank, on=\"tconst\", how=\"inner\")"
   ]
  },
  {
   "cell_type": "code",
   "execution_count": 59,
   "metadata": {},
   "outputs": [
    {
     "data": {
      "text/plain": [
       "Index(['Unnamed: 0', 'tconst', 'primaryTitle', 'startYear', 'runtimeMinutes',\n",
       "       'genres', 'startYear_str', 'titleyear', 'studio_BOM', 'MPAA', 'rd',\n",
       "       'StudioDesc', 'P_Cost', 'Dom_Gross', 'Frgn_Gross', 'WW_Gross',\n",
       "       'Domestic Opening', 'Rank', 'Domestic Box Office', 'Movies', 'nameyear',\n",
       "       'Title', 'Actor', 'Role', 'DomesticBoxOffice', 'Contribution'],\n",
       "      dtype='object')"
      ]
     },
     "execution_count": 59,
     "metadata": {},
     "output_type": "execute_result"
    }
   ],
   "source": [
    "df_All.columns"
   ]
  },
  {
   "cell_type": "code",
   "execution_count": 67,
   "metadata": {
    "scrolled": false
   },
   "outputs": [
    {
     "data": {
      "text/html": [
       "<div>\n",
       "<style scoped>\n",
       "    .dataframe tbody tr th:only-of-type {\n",
       "        vertical-align: middle;\n",
       "    }\n",
       "\n",
       "    .dataframe tbody tr th {\n",
       "        vertical-align: top;\n",
       "    }\n",
       "\n",
       "    .dataframe thead th {\n",
       "        text-align: right;\n",
       "    }\n",
       "</style>\n",
       "<table border=\"1\" class=\"dataframe\">\n",
       "  <thead>\n",
       "    <tr style=\"text-align: right;\">\n",
       "      <th></th>\n",
       "      <th>primaryTitle</th>\n",
       "      <th>genres</th>\n",
       "      <th>Dom_Gross</th>\n",
       "      <th>P_Cost</th>\n",
       "      <th>Domestic Opening</th>\n",
       "      <th>Contribution</th>\n",
       "      <th>Actor</th>\n",
       "      <th>Rank</th>\n",
       "      <th>Movies</th>\n",
       "      <th>Role</th>\n",
       "      <th>Domestic Box Office</th>\n",
       "    </tr>\n",
       "  </thead>\n",
       "  <tbody>\n",
       "    <tr>\n",
       "      <th>13141</th>\n",
       "      <td>Star Wars: Episode Vii - The Force Awakens</td>\n",
       "      <td>Action,Adventure,Sci-Fi</td>\n",
       "      <td>936662225</td>\n",
       "      <td>245000000.0</td>\n",
       "      <td>247966675</td>\n",
       "      <td>Producer</td>\n",
       "      <td>Kathleen Kennedy</td>\n",
       "      <td>2</td>\n",
       "      <td>35</td>\n",
       "      <td>Producer</td>\n",
       "      <td>5999104450</td>\n",
       "    </tr>\n",
       "    <tr>\n",
       "      <th>13124</th>\n",
       "      <td>Star Wars: Episode Vii - The Force Awakens</td>\n",
       "      <td>Action,Adventure,Sci-Fi</td>\n",
       "      <td>936662225</td>\n",
       "      <td>245000000.0</td>\n",
       "      <td>247966675</td>\n",
       "      <td>Director</td>\n",
       "      <td>J.J. Abrams</td>\n",
       "      <td>5</td>\n",
       "      <td>6</td>\n",
       "      <td>DirectorScreenwriterProducer</td>\n",
       "      <td>2198878974</td>\n",
       "    </tr>\n",
       "    <tr>\n",
       "      <th>13127</th>\n",
       "      <td>Star Wars: Episode Vii - The Force Awakens</td>\n",
       "      <td>Action,Adventure,Sci-Fi</td>\n",
       "      <td>936662225</td>\n",
       "      <td>245000000.0</td>\n",
       "      <td>247966675</td>\n",
       "      <td>Producer</td>\n",
       "      <td>J.J. Abrams</td>\n",
       "      <td>5</td>\n",
       "      <td>6</td>\n",
       "      <td>DirectorScreenwriterProducer</td>\n",
       "      <td>2198878974</td>\n",
       "    </tr>\n",
       "    <tr>\n",
       "      <th>13130</th>\n",
       "      <td>Star Wars: Episode Vii - The Force Awakens</td>\n",
       "      <td>Action,Adventure,Sci-Fi</td>\n",
       "      <td>936662225</td>\n",
       "      <td>245000000.0</td>\n",
       "      <td>247966675</td>\n",
       "      <td>Writer</td>\n",
       "      <td>J.J. Abrams</td>\n",
       "      <td>5</td>\n",
       "      <td>6</td>\n",
       "      <td>DirectorScreenwriterProducer</td>\n",
       "      <td>2198878974</td>\n",
       "    </tr>\n",
       "    <tr>\n",
       "      <th>13108</th>\n",
       "      <td>Star Wars: Episode Vii - The Force Awakens</td>\n",
       "      <td>Action,Adventure,Sci-Fi</td>\n",
       "      <td>936662225</td>\n",
       "      <td>245000000.0</td>\n",
       "      <td>247966675</td>\n",
       "      <td>Actor</td>\n",
       "      <td>Harrison Ford</td>\n",
       "      <td>6</td>\n",
       "      <td>41</td>\n",
       "      <td>Han Solo</td>\n",
       "      <td>4050693757</td>\n",
       "    </tr>\n",
       "  </tbody>\n",
       "</table>\n",
       "</div>"
      ],
      "text/plain": [
       "                                     primaryTitle                   genres  Dom_Gross       P_Cost  Domestic Opening Contribution             Actor  Rank  Movies                          Role  Domestic Box Office\n",
       "13141  Star Wars: Episode Vii - The Force Awakens  Action,Adventure,Sci-Fi  936662225  245000000.0         247966675     Producer  Kathleen Kennedy     2      35                      Producer           5999104450\n",
       "13124  Star Wars: Episode Vii - The Force Awakens  Action,Adventure,Sci-Fi  936662225  245000000.0         247966675     Director       J.J. Abrams     5       6  DirectorScreenwriterProducer           2198878974\n",
       "13127  Star Wars: Episode Vii - The Force Awakens  Action,Adventure,Sci-Fi  936662225  245000000.0         247966675     Producer       J.J. Abrams     5       6  DirectorScreenwriterProducer           2198878974\n",
       "13130  Star Wars: Episode Vii - The Force Awakens  Action,Adventure,Sci-Fi  936662225  245000000.0         247966675       Writer       J.J. Abrams     5       6  DirectorScreenwriterProducer           2198878974\n",
       "13108  Star Wars: Episode Vii - The Force Awakens  Action,Adventure,Sci-Fi  936662225  245000000.0         247966675        Actor     Harrison Ford     6      41                      Han Solo           4050693757"
      ]
     },
     "execution_count": 67,
     "metadata": {},
     "output_type": "execute_result"
    }
   ],
   "source": [
    "df_All[['primaryTitle',\n",
    "       'genres', 'Dom_Gross','P_Cost', 'Domestic Opening', 'Contribution','Actor','Rank', 'Movies','Role','Domestic Box Office', ]].sort_values(by=[\"Dom_Gross\", \"Rank\"], ascending = (False, True)).head(5)"
   ]
  },
  {
   "cell_type": "code",
   "execution_count": 17,
   "metadata": {},
   "outputs": [],
   "source": [
    "# df_Title_Basics['primaryTitle'].fillna(\"0\", inplace=True)\n",
    "# df_Title_Basics[df_Title_Basics['primaryTitle'].str.contains('Lord of the Rings')]"
   ]
  },
  {
   "cell_type": "code",
   "execution_count": 16,
   "metadata": {},
   "outputs": [],
   "source": [
    "# df_Title_Episods[df_Title_Episods[\"tconst\"]==\"tt0077869\"]\n",
    "# df_Title_Episods[df_Title_Episods['primaryTitle'].str.contains('Lord of the Rings')]"
   ]
  },
  {
   "cell_type": "code",
   "execution_count": null,
   "metadata": {},
   "outputs": [],
   "source": []
  }
 ],
 "metadata": {
  "kernelspec": {
   "display_name": "learn-env",
   "language": "python",
   "name": "learn-env"
  },
  "language_info": {
   "codemirror_mode": {
    "name": "ipython",
    "version": 3
   },
   "file_extension": ".py",
   "mimetype": "text/x-python",
   "name": "python",
   "nbconvert_exporter": "python",
   "pygments_lexer": "ipython3",
   "version": "3.8.3"
  }
 },
 "nbformat": 4,
 "nbformat_minor": 4
}
