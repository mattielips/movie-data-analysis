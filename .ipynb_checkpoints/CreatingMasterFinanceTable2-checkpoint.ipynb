{
 "cells": [
  {
   "cell_type": "code",
   "execution_count": 3,
   "metadata": {},
   "outputs": [],
   "source": [
    "import numpy as np #linear algebra\n",
    "import pandas as pd #data processing \n",
    "pd.set_option('display.max_rows', None)\n",
    "pd.set_option('display.max_columns', None)  \n",
    "pd.set_option('display.expand_frame_repr', False)\n",
    "pd.set_option('max_colwidth', None)\n",
    "\n",
    "# Importing into dataframe\n",
    "df_Bom_MovieGross = pd.read_csv(\"./Prj_Data/DownLoadedData_FlatIron/bom.movie_gross.csv.gz\", delimiter=',', encoding='ANSI')\n",
    "df_TN_Movie_Budgets = pd.read_csv(\"./Prj_Data/DownLoadedData_FlatIron/tn.movie_budgets.csv.gz\", delimiter=',')\n",
    "df_TN_Movie_Budgets = pd.read_csv(\"./Prj_Data/DownLoadedData_FlatIron/tn.movie_budgets.csv.gz\", delimiter=',')\n",
    "df_Scrp_Financials = pd.read_excel(\"./Prj_Data/ImdbScrapingData/df_Financials_SummaryAndDetail_Imdb_Dom.xlsx\")\n",
    "df_IMDB_Akas_english = pd.read_excel(\"./Prj_Data/DownLoadedData_Imdb/df_IMDB_Akas_english.xlsx\")\n"
   ]
  },
  {
   "cell_type": "code",
   "execution_count": 4,
   "metadata": {},
   "outputs": [],
   "source": [
    "#PREPARE THE FINACIAL DATA:  WE USED SOURCES,2 FROM FLATIRON DOWNLOAD, 1 FROM SCRAPING IMDB Site :https://www.boxofficemojo.com/\n",
    "#****************************************************************************************\n",
    "#prepraring to work with Movie Gross Df, cleaning up data and create right datatypes\n",
    "df_Bom_MovieGross.name = \"df_Bom_MovieGross\"\n",
    "df_Bom_MovieGross['foreign_gross'] = pd.to_numeric(df_Bom_MovieGross['foreign_gross'],errors='coerce')\n",
    "df_Bom_MovieGross['year_str_BOM'] = df_Bom_MovieGross['year'].astype(str)\n",
    "df_Bom_MovieGross['year'] = df_Bom_MovieGross['year'].astype(int)\n",
    "df_Bom_MovieGross_values = {'domestic_gross':0, 'foreign_gross': 0}\n",
    "df_Bom_MovieGross.fillna(value=df_Bom_MovieGross_values, inplace=True)\n",
    "df_Bom_MovieGross[\"wwg_calc_BOM\"] = 0 \n",
    "df_Bom_MovieGross['title'] = df_Bom_MovieGross['title'].str.title() #******KEY STEP\n",
    "df_Bom_MovieGross[\"titleyear\"] = df_Bom_MovieGross['title'] + df_Bom_MovieGross['year_str_BOM']\n",
    "df_Bom_MovieGross[\"wwg_calc_BOM\"] = (df_Bom_MovieGross['domestic_gross'] + df_Bom_MovieGross['foreign_gross'])\n",
    "\n",
    "#Renaming to aid in consolidating between the three sources\n",
    "df_Bom_MovieGross.rename(columns={\"foreign_gross\": \"fg_BOM\", \"domestic_gross\": \"dg_BOM\",\"year\": \"year_BOM\",\n",
    "                                             \"title\":\"title_BOM\",\"studio\":\"studio_BOM\" },inplace=True)\n",
    "#-------------------------------------------------------------\n",
    "\n",
    "#prepraring to work with Movie budgets, cleaning up data and create right datatypes\n",
    "df_TN_Movie_Budgets.name = \"df_TN_Movie_Budgets\"\n",
    "df_TN_Movie_Budgets[df_TN_Movie_Budgets.columns[1:]] = df_TN_Movie_Budgets[df_TN_Movie_Budgets.columns[1:]].replace('[\\$,]', '', regex=True)\n",
    "df_TN_Movie_Budgets['production_budget'] = pd.to_numeric(df_TN_Movie_Budgets['production_budget'],errors='coerce')\n",
    "df_TN_Movie_Budgets['domestic_gross'] = pd.to_numeric(df_TN_Movie_Budgets['domestic_gross'],errors='coerce')\n",
    "df_TN_Movie_Budgets['worldwide_gross'] = pd.to_numeric(df_TN_Movie_Budgets['worldwide_gross'],errors='coerce')\n",
    "\n",
    "df_TN_Movie_Budgets_values = {'domestic_gross': 0, 'year':0 , 'worldwide_gross': 0}\n",
    "df_TN_Movie_Budgets.fillna(value=df_TN_Movie_Budgets_values, inplace=True)\n",
    "df_TN_Movie_Budgets[\"fg_calc\"] = 0\n",
    "\n",
    "df_TN_Movie_Budgets['movie'] = df_TN_Movie_Budgets['movie'].str.title() #******KEY STEP\n",
    "df_TN_Movie_Budgets[\"year\"] = df_TN_Movie_Budgets['release_date'].str[-4:].astype(int)\n",
    "df_TN_Movie_Budgets[\"year_str_TN\"] = df_TN_Movie_Budgets['release_date'].str[-4:]\n",
    "df_TN_Movie_Budgets[\"titleyear\"] = df_TN_Movie_Budgets['movie'] + df_TN_Movie_Budgets['year_str_TN']\n",
    "df_TN_Movie_Budgets[\"fg_calc_TN\"] = (df_TN_Movie_Budgets['worldwide_gross'] - df_TN_Movie_Budgets['domestic_gross'])\n",
    "df_TN_Movie_Budgets = df_TN_Movie_Budgets.drop('id', axis = 1)\n",
    "df_TN_Movie_Budgets.rename(columns={\"domestic_gross\": \"dg_TN\", \"worldwide_gross\": \"wwg_TN\",\"year\": \"year_TN\", \n",
    "                                    \"production_budget\": \"pb_TN\" ,\"movie\":\"title_TN\",\"release_date\":\"rd_TN\" }, inplace=True)\n",
    "\n",
    "#needed to do this steep to collapse data given there are dups in a few movienames and titles - ?bluebeard\n",
    "from pandasql import sqldf\n",
    "pysqldf = lambda q: sqldf(q, globals())\n",
    "q3 = \"\"\"SELECT titleyear as titleyear, max(title_TN) as title_TN, max(year_TN) as year_TN, min(year_str_TN) as year_str_TN, \n",
    "min(rd_TN) as rd_TN, Sum(pb_TN) as pb_TN,sum(dg_TN) as dg_TN, sum(wwg_TN) as wwg_TN , sum(fg_calc_TN) as fg_calc_TN\n",
    "        FROM df_TN_Movie_Budgets\n",
    "        GROUP BY titleyear, title_TN\n",
    "        \"\"\"\n",
    "df_TN_Movie_Budgets = pysqldf(q3)\n",
    "#-------------------------------------------------------------\n",
    "\n",
    "# Finanally merger data from flatiron\n",
    "df_fI_Financials = df_TN_Movie_Budgets.merge(df_Bom_MovieGross, \n",
    "     on='titleyear', how='outer', indicator='Combing_FL_Financials', suffixes=('_TN', '_Bom'))\n",
    "\n",
    "# Add tconst Key to FLatIronTables then drop \n",
    "df_FI_financials_With_tconst = df_fI_Financials.merge(df_IMDB_Akas_english[['tconst','titleyear']], on='titleyear', how=\"inner\", indicator='Adding tconst', suffixes=('_fi', '_im'))\n"
   ]
  },
  {
   "cell_type": "code",
   "execution_count": 4,
   "metadata": {},
   "outputs": [],
   "source": [
    "# df_FI_financials_With_tconst.info()"
   ]
  },
  {
   "cell_type": "code",
   "execution_count": 5,
   "metadata": {
    "scrolled": true
   },
   "outputs": [],
   "source": [
    "# df_FI_financials_With_tconst.nunique()"
   ]
  },
  {
   "cell_type": "code",
   "execution_count": 6,
   "metadata": {},
   "outputs": [],
   "source": [
    "#USEDTO CHECK FOR MERGING ERRORS\n",
    "# # df_FI_financials_With_tconst[[\"title_TN\",\"title_BOM\",\"title_FI\",]].sort_values(by=\"title_FI\", ascending=False)\n",
    "# df_FI_financials_With_tconst[[\"year_TN\",\"year_BOM\",\"year_str_FI\",]].sort_values(by=\"year_str_FI\", ascending=False)\n",
    "# df_FI_financials_With_tconst[[\"year_TN\",\"year_BOM\",\"year_FI\",]].sort_values(by=\"year_FI\", ascending=False)\n",
    "# # df_Bom_MovieGross[[\"studio\",\"studio_short\",\"Studio_Desc\"]].sort_values(by=\"title_FI\", ascending=False)"
   ]
  },
  {
   "cell_type": "code",
   "execution_count": 5,
   "metadata": {},
   "outputs": [],
   "source": [
    "#Use all data scraped from IMDB as the default for domestic, foreign ww sales as well as budget\n",
    "df_FI_financials_With_tconst.title_TN.fillna(\"0\", inplace=True)\n",
    "df_FI_financials_With_tconst.year_str_TN.fillna(\"0\", inplace=True)\n",
    "df_FI_financials_With_tconst.year_TN.fillna(0, inplace=True)\n",
    "\n",
    "df_FI_financials_With_tconst.title_BOM.fillna(\"0\", inplace=True)\n",
    "df_FI_financials_With_tconst.year_str_BOM.fillna(\"0\", inplace=True)\n",
    "df_FI_financials_With_tconst.year_BOM.fillna(0, inplace=True)\n",
    "\n",
    "df_FI_financials_With_tconst['title_FI'] = df_FI_financials_With_tconst['title_TN']\n",
    "df_FI_financials_With_tconst['year_str_FI'] = df_FI_financials_With_tconst['year_str_TN']\n",
    "df_FI_financials_With_tconst['year_FI'] = df_FI_financials_With_tconst['year_TN']\n",
    "\n",
    "df_FI_financials_With_tconst['title_FI'] = df_FI_financials_With_tconst.title_FI.fillna(\"0\").astype(str)\n",
    "df_FI_financials_With_tconst['year_str_FI'] = df_FI_financials_With_tconst.year_str_FI.fillna(\"0\").astype(str)\n",
    "df_FI_financials_With_tconst['year_FI'] = df_FI_financials_With_tconst.year_FI.fillna(0).astype(int)\n",
    "\n",
    "df_FI_financials_With_tconst['title_FI'] = df_FI_financials_With_tconst.apply(lambda x: x.title_BOM if x.title_FI == \"0\" else x.title_FI, axis=1)\n",
    "df_FI_financials_With_tconst['year_str_FI'] = df_FI_financials_With_tconst.apply(lambda x: x.year_str_BOM if x.year_str_FI == \"0\" else x.year_str_FI, axis=1)\n",
    "df_FI_financials_With_tconst['year_FI'] = df_FI_financials_With_tconst.apply(lambda x: x.year_BOM if x.year_FI == 0 else x.year_FI, axis=1)\n"
   ]
  },
  {
   "cell_type": "code",
   "execution_count": 4,
   "metadata": {
    "collapsed": true
   },
   "outputs": [
    {
     "name": "stdout",
     "output_type": "stream",
     "text": [
      "<class 'pandas.core.frame.DataFrame'>\n",
      "Int64Index: 2609 entries, 0 to 2608\n",
      "Data columns (total 22 columns):\n",
      " #   Column                 Non-Null Count  Dtype   \n",
      "---  ------                 --------------  -----   \n",
      " 0   titleyear              2609 non-null   object  \n",
      " 1   title_TN               2609 non-null   object  \n",
      " 2   year_TN                2609 non-null   float64 \n",
      " 3   year_str_TN            2609 non-null   object  \n",
      " 4   rd_TN                  1983 non-null   object  \n",
      " 5   pb_TN                  1983 non-null   float64 \n",
      " 6   dg_TN                  1983 non-null   float64 \n",
      " 7   wwg_TN                 1983 non-null   float64 \n",
      " 8   fg_calc_TN             1983 non-null   float64 \n",
      " 9   title_BOM              2609 non-null   object  \n",
      " 10  studio_BOM             1646 non-null   object  \n",
      " 11  dg_BOM                 1647 non-null   float64 \n",
      " 12  fg_BOM                 1647 non-null   float64 \n",
      " 13  year_BOM               2609 non-null   float64 \n",
      " 14  year_str_BOM           2609 non-null   object  \n",
      " 15  wwg_calc_BOM           1647 non-null   float64 \n",
      " 16  Combing_FL_Financials  2609 non-null   category\n",
      " 17  tconst                 2609 non-null   object  \n",
      " 18  Adding tconst          2609 non-null   category\n",
      " 19  title_FI               2609 non-null   object  \n",
      " 20  year_str_FI            2609 non-null   object  \n",
      " 21  year_FI                2609 non-null   float64 \n",
      "dtypes: category(2), float64(10), object(10)\n",
      "memory usage: 433.3+ KB\n"
     ]
    }
   ],
   "source": [
    "# df_FI_financials_With_tconst.info()"
   ]
  },
  {
   "cell_type": "code",
   "execution_count": 6,
   "metadata": {},
   "outputs": [],
   "source": [
    "#DROP UNNEEDED FIELDS\n",
    "df_FI_financials_With_tconst.drop([\"year_TN\",\"year_BOM\",\"year_TN\",\"year_BOM\", \"year_str_TN\",\"year_str_BOM\",\"Combing_FL_Financials\"], axis=1, inplace=True)"
   ]
  },
  {
   "cell_type": "code",
   "execution_count": 11,
   "metadata": {},
   "outputs": [],
   "source": [
    "#df_Scrp_Financials.info()"
   ]
  },
  {
   "cell_type": "code",
   "execution_count": 7,
   "metadata": {},
   "outputs": [],
   "source": [
    "#Merg flatiron financials with scraping finacials IMDB Site :https://www.boxofficemojo.com/\n",
    "#****************************************************************************************\n",
    "#prepraring to work with Movie Gross Df, cleaning up data and create right datatypes\n",
    "df_MasterFinancials = df_Scrp_Financials.merge(df_FI_financials_With_tconst, \n",
    "                                               on='tconst', how='outer', suffixes=('_IM', '_fl'))\n",
    "fieldsToConvert = {'dg_IMDB': 0, 'fg_IMDB':0 , 'ww_IMDB': 0, 'Domestic Opening': 0, 'pb_IMDB':0 , 'pb_TN': 0,\n",
    "                       'dg_TN': 0, 'wwg_TN':0 , 'fg_calc_TN': 0,'dg_BOM': 0, 'fg_BOM':0 , 'wwg_calc_BOM': 0,\n",
    "                      'wg_calc_BOM': 0}\n",
    "df_MasterFinancials.fillna(value=fieldsToConvert, inplace=True)"
   ]
  },
  {
   "cell_type": "code",
   "execution_count": 16,
   "metadata": {},
   "outputs": [],
   "source": [
    "# df_MasterFinancials.info()"
   ]
  },
  {
   "cell_type": "code",
   "execution_count": 8,
   "metadata": {},
   "outputs": [],
   "source": [
    "#Clean up dataframe - consolidate, remove unwanted columns, all remove metadata from financials\n",
    "df_MasterFinancials = df_MasterFinancials.reindex(sorted(df_MasterFinancials.columns), axis=1)\n",
    "col_names = ['tconst','Adding tconst', 'Combing_FL_Financials',\n",
    "       'Genres_IMDB', 'MPAA', 'Running Time_IMDB', 'Unnamed: 0', 'Domestic Opening','dg_BOM',\n",
    "       'dg_IMDB', 'dg_TN', 'fg_BOM', 'fg_IMDB', 'fg_calc_TN', 'genres',\n",
    "       'isAdult', 'mergingfinancials', 'originalTitle', 'pb_IMDB', 'pb_TN',\n",
    "       'rd_IMDB', 'rd_TN', 'runtimeMinutes', 'studio_BOM', 'studio_IMDB',\n",
    "        'title_BOM', 'title_IMDB', 'title_TN', 'titleyear_IM',\n",
    "       'titleyear_fl', 'wwg_calc_BOM', 'ww_IMDB', 'wwg_TN',\n",
    "       'year', 'year_BOM', 'year_TN']\n",
    "df_MasterFinancials.reindex(columns=col_names)\n",
    "\n",
    "\n",
    "# df_MasterFinancials.drop([\"Adding tconst\", 'Unnamed: 0', 'isAdult', 'mergingfinancials'], axis=1,inplace = True )\n",
    "\n",
    "df_MasterFinancials_Only = df_MasterFinancials[['tconst','Domestic Opening','dg_BOM', 'dg_TN', 'dg_IMDB',\n",
    "                                                'fg_BOM', 'fg_calc_TN','fg_IMDB', 'pb_IMDB', 'pb_TN',\n",
    "                                                'title_BOM', 'title_IMDB', 'title_TN', 'titleyear_IM','titleyear_fl',\n",
    "                                                'wwg_calc_BOM', 'wwg_TN','ww_IMDB','year']]\n"
   ]
  },
  {
   "cell_type": "code",
   "execution_count": 9,
   "metadata": {
    "collapsed": true
   },
   "outputs": [
    {
     "name": "stderr",
     "output_type": "stream",
     "text": [
      "<ipython-input-9-b5a166c4d6bc>:2: SettingWithCopyWarning: \n",
      "A value is trying to be set on a copy of a slice from a DataFrame.\n",
      "Try using .loc[row_indexer,col_indexer] = value instead\n",
      "\n",
      "See the caveats in the documentation: https://pandas.pydata.org/pandas-docs/stable/user_guide/indexing.html#returning-a-view-versus-a-copy\n",
      "  df_MasterFinancials_Only['WW_Gross'] = df_MasterFinancials_Only['ww_IMDB'].apply(lambda x: x if x>0 else 0)\n",
      "<ipython-input-9-b5a166c4d6bc>:3: SettingWithCopyWarning: \n",
      "A value is trying to be set on a copy of a slice from a DataFrame.\n",
      "Try using .loc[row_indexer,col_indexer] = value instead\n",
      "\n",
      "See the caveats in the documentation: https://pandas.pydata.org/pandas-docs/stable/user_guide/indexing.html#returning-a-view-versus-a-copy\n",
      "  df_MasterFinancials_Only['Dom_Gross'] = df_MasterFinancials_Only['dg_IMDB'].apply(lambda x: x if x>0 else 0)\n",
      "<ipython-input-9-b5a166c4d6bc>:4: SettingWithCopyWarning: \n",
      "A value is trying to be set on a copy of a slice from a DataFrame.\n",
      "Try using .loc[row_indexer,col_indexer] = value instead\n",
      "\n",
      "See the caveats in the documentation: https://pandas.pydata.org/pandas-docs/stable/user_guide/indexing.html#returning-a-view-versus-a-copy\n",
      "  df_MasterFinancials_Only['Frgn_Gross'] = df_MasterFinancials_Only['fg_IMDB'].apply(lambda x: x if x>0 else 0)\n",
      "<ipython-input-9-b5a166c4d6bc>:5: SettingWithCopyWarning: \n",
      "A value is trying to be set on a copy of a slice from a DataFrame.\n",
      "Try using .loc[row_indexer,col_indexer] = value instead\n",
      "\n",
      "See the caveats in the documentation: https://pandas.pydata.org/pandas-docs/stable/user_guide/indexing.html#returning-a-view-versus-a-copy\n",
      "  df_MasterFinancials_Only['P_Cost'] = df_MasterFinancials_Only['pb_IMDB'].apply(lambda x: x if x>0 else 0)\n",
      "<ipython-input-9-b5a166c4d6bc>:8: SettingWithCopyWarning: \n",
      "A value is trying to be set on a copy of a slice from a DataFrame.\n",
      "Try using .loc[row_indexer,col_indexer] = value instead\n",
      "\n",
      "See the caveats in the documentation: https://pandas.pydata.org/pandas-docs/stable/user_guide/indexing.html#returning-a-view-versus-a-copy\n",
      "  df_MasterFinancials_Only['dg_Fl_Max'] = df_MasterFinancials_Only[[\"dg_BOM\", \"dg_TN\"]].max(axis=1)\n",
      "<ipython-input-9-b5a166c4d6bc>:9: SettingWithCopyWarning: \n",
      "A value is trying to be set on a copy of a slice from a DataFrame.\n",
      "Try using .loc[row_indexer,col_indexer] = value instead\n",
      "\n",
      "See the caveats in the documentation: https://pandas.pydata.org/pandas-docs/stable/user_guide/indexing.html#returning-a-view-versus-a-copy\n",
      "  df_MasterFinancials_Only['fg_Fl_Max'] = df_MasterFinancials_Only[[\"fg_BOM\", \"fg_calc_TN\"]].max(axis=1)\n",
      "<ipython-input-9-b5a166c4d6bc>:10: SettingWithCopyWarning: \n",
      "A value is trying to be set on a copy of a slice from a DataFrame.\n",
      "Try using .loc[row_indexer,col_indexer] = value instead\n",
      "\n",
      "See the caveats in the documentation: https://pandas.pydata.org/pandas-docs/stable/user_guide/indexing.html#returning-a-view-versus-a-copy\n",
      "  df_MasterFinancials_Only['ww_Fl_Max'] = df_MasterFinancials_Only['dg_Fl_Max']+df_MasterFinancials_Only['fg_Fl_Max']\n",
      "<ipython-input-9-b5a166c4d6bc>:12: SettingWithCopyWarning: \n",
      "A value is trying to be set on a copy of a slice from a DataFrame.\n",
      "Try using .loc[row_indexer,col_indexer] = value instead\n",
      "\n",
      "See the caveats in the documentation: https://pandas.pydata.org/pandas-docs/stable/user_guide/indexing.html#returning-a-view-versus-a-copy\n",
      "  df_MasterFinancials_Only['WW_Gross'] = df_MasterFinancials_Only.apply(lambda x: x.ww_Fl_Max if x.WW_Gross==0 else x.WW_Gross, axis=1)\n",
      "<ipython-input-9-b5a166c4d6bc>:13: SettingWithCopyWarning: \n",
      "A value is trying to be set on a copy of a slice from a DataFrame.\n",
      "Try using .loc[row_indexer,col_indexer] = value instead\n",
      "\n",
      "See the caveats in the documentation: https://pandas.pydata.org/pandas-docs/stable/user_guide/indexing.html#returning-a-view-versus-a-copy\n",
      "  df_MasterFinancials_Only['Dom_Gross'] = df_MasterFinancials_Only.apply(lambda x: x.dg_Fl_Max if x.Dom_Gross==0 else x.Dom_Gross, axis=1)\n",
      "<ipython-input-9-b5a166c4d6bc>:14: SettingWithCopyWarning: \n",
      "A value is trying to be set on a copy of a slice from a DataFrame.\n",
      "Try using .loc[row_indexer,col_indexer] = value instead\n",
      "\n",
      "See the caveats in the documentation: https://pandas.pydata.org/pandas-docs/stable/user_guide/indexing.html#returning-a-view-versus-a-copy\n",
      "  df_MasterFinancials_Only['Frgn_Gross'] = df_MasterFinancials_Only.apply(lambda x: x.fg_Fl_Max if x.Frgn_Gross==0 else x.Frgn_Gross, axis=1)\n",
      "<ipython-input-9-b5a166c4d6bc>:15: SettingWithCopyWarning: \n",
      "A value is trying to be set on a copy of a slice from a DataFrame.\n",
      "Try using .loc[row_indexer,col_indexer] = value instead\n",
      "\n",
      "See the caveats in the documentation: https://pandas.pydata.org/pandas-docs/stable/user_guide/indexing.html#returning-a-view-versus-a-copy\n",
      "  df_MasterFinancials_Only['P_Cost'] = df_MasterFinancials_Only.apply(lambda x: x.pb_TN if x.P_Cost==0 else x.P_Cost, axis=1)\n",
      "<ipython-input-9-b5a166c4d6bc>:16: SettingWithCopyWarning: \n",
      "A value is trying to be set on a copy of a slice from a DataFrame.\n",
      "Try using .loc[row_indexer,col_indexer] = value instead\n",
      "\n",
      "See the caveats in the documentation: https://pandas.pydata.org/pandas-docs/stable/user_guide/indexing.html#returning-a-view-versus-a-copy\n",
      "  df_MasterFinancials_Only['P_Cost']=df_MasterFinancials_Only['P_Cost'].replace(0,df_MasterFinancials_Only.P_Cost.mean())\n",
      "<ipython-input-9-b5a166c4d6bc>:18: SettingWithCopyWarning: \n",
      "A value is trying to be set on a copy of a slice from a DataFrame.\n",
      "Try using .loc[row_indexer,col_indexer] = value instead\n",
      "\n",
      "See the caveats in the documentation: https://pandas.pydata.org/pandas-docs/stable/user_guide/indexing.html#returning-a-view-versus-a-copy\n",
      "  df_MasterFinancials_Only['titleyear'] = df_MasterFinancials_Only[\"titleyear_IM\"]\n",
      "C:\\Users\\rgpih\\anaconda3a\\lib\\site-packages\\pandas\\core\\generic.py:6245: SettingWithCopyWarning: \n",
      "A value is trying to be set on a copy of a slice from a DataFrame\n",
      "\n",
      "See the caveats in the documentation: https://pandas.pydata.org/pandas-docs/stable/user_guide/indexing.html#returning-a-view-versus-a-copy\n",
      "  self._update_inplace(new_data)\n"
     ]
    },
    {
     "ename": "NameError",
     "evalue": "name 'df_MasterFinancials_MetaData' is not defined",
     "output_type": "error",
     "traceback": [
      "\u001b[1;31m---------------------------------------------------------------------------\u001b[0m",
      "\u001b[1;31mNameError\u001b[0m                                 Traceback (most recent call last)",
      "\u001b[1;32m<ipython-input-9-b5a166c4d6bc>\u001b[0m in \u001b[0;36m<module>\u001b[1;34m\u001b[0m\n\u001b[0;32m     19\u001b[0m \u001b[0mdf_MasterFinancials_Only\u001b[0m\u001b[1;33m.\u001b[0m\u001b[0mtitleyear\u001b[0m\u001b[1;33m.\u001b[0m\u001b[0mfillna\u001b[0m\u001b[1;33m(\u001b[0m\u001b[0mdf_MasterFinancials_Only\u001b[0m\u001b[1;33m[\u001b[0m\u001b[1;34m\"titleyear_fl\"\u001b[0m\u001b[1;33m]\u001b[0m\u001b[1;33m,\u001b[0m\u001b[0minplace\u001b[0m\u001b[1;33m=\u001b[0m\u001b[1;32mTrue\u001b[0m\u001b[1;33m)\u001b[0m\u001b[1;33m\u001b[0m\u001b[1;33m\u001b[0m\u001b[0m\n\u001b[0;32m     20\u001b[0m \u001b[1;33m\u001b[0m\u001b[0m\n\u001b[1;32m---> 21\u001b[1;33m \u001b[0mdf_MasterFinancials_MetaData\u001b[0m\u001b[1;33m[\u001b[0m\u001b[1;34m'titleyear'\u001b[0m\u001b[1;33m]\u001b[0m \u001b[1;33m=\u001b[0m \u001b[0mdf_MasterFinancials_Only\u001b[0m\u001b[1;33m[\u001b[0m\u001b[1;34m\"titleyear_IM\"\u001b[0m\u001b[1;33m]\u001b[0m\u001b[1;33m\u001b[0m\u001b[1;33m\u001b[0m\u001b[0m\n\u001b[0m\u001b[0;32m     22\u001b[0m \u001b[0mdf_MasterFinancials_MetaData\u001b[0m\u001b[1;33m.\u001b[0m\u001b[0mtitleyear\u001b[0m\u001b[1;33m.\u001b[0m\u001b[0mfillna\u001b[0m\u001b[1;33m(\u001b[0m\u001b[0mdf_MasterFinancials_Only\u001b[0m\u001b[1;33m[\u001b[0m\u001b[1;34m\"titleyear_fl\"\u001b[0m\u001b[1;33m]\u001b[0m\u001b[1;33m,\u001b[0m\u001b[0minplace\u001b[0m\u001b[1;33m=\u001b[0m\u001b[1;32mTrue\u001b[0m\u001b[1;33m)\u001b[0m\u001b[1;33m\u001b[0m\u001b[1;33m\u001b[0m\u001b[0m\n\u001b[0;32m     23\u001b[0m \u001b[1;33m\u001b[0m\u001b[0m\n",
      "\u001b[1;31mNameError\u001b[0m: name 'df_MasterFinancials_MetaData' is not defined"
     ]
    }
   ],
   "source": [
    "#Use all data scraped from IMDB as the default for domestic, foreign ww sales as well as budget\n",
    "df_MasterFinancials_Only['WW_Gross'] = df_MasterFinancials_Only['ww_IMDB'].apply(lambda x: x if x>0 else 0)\n",
    "df_MasterFinancials_Only['Dom_Gross'] = df_MasterFinancials_Only['dg_IMDB'].apply(lambda x: x if x>0 else 0)\n",
    "df_MasterFinancials_Only['Frgn_Gross'] = df_MasterFinancials_Only['fg_IMDB'].apply(lambda x: x if x>0 else 0)\n",
    "df_MasterFinancials_Only['P_Cost'] = df_MasterFinancials_Only['pb_IMDB'].apply(lambda x: x if x>0 else 0)\n",
    "\n",
    "#fill in the blanks from max valus from the flatIron finance tables\n",
    "df_MasterFinancials_Only['dg_Fl_Max'] = df_MasterFinancials_Only[[\"dg_BOM\", \"dg_TN\"]].max(axis=1)\n",
    "df_MasterFinancials_Only['fg_Fl_Max'] = df_MasterFinancials_Only[[\"fg_BOM\", \"fg_calc_TN\"]].max(axis=1)\n",
    "df_MasterFinancials_Only['ww_Fl_Max'] = df_MasterFinancials_Only['dg_Fl_Max']+df_MasterFinancials_Only['fg_Fl_Max']\n",
    "\n",
    "df_MasterFinancials_Only['WW_Gross'] = df_MasterFinancials_Only.apply(lambda x: x.ww_Fl_Max if x.WW_Gross==0 else x.WW_Gross, axis=1)\n",
    "df_MasterFinancials_Only['Dom_Gross'] = df_MasterFinancials_Only.apply(lambda x: x.dg_Fl_Max if x.Dom_Gross==0 else x.Dom_Gross, axis=1)\n",
    "df_MasterFinancials_Only['Frgn_Gross'] = df_MasterFinancials_Only.apply(lambda x: x.fg_Fl_Max if x.Frgn_Gross==0 else x.Frgn_Gross, axis=1)\n",
    "df_MasterFinancials_Only['P_Cost'] = df_MasterFinancials_Only.apply(lambda x: x.pb_TN if x.P_Cost==0 else x.P_Cost, axis=1)\n",
    "df_MasterFinancials_Only['P_Cost']=df_MasterFinancials_Only['P_Cost'].replace(0,df_MasterFinancials_Only.P_Cost.mean())\n",
    "\n",
    "df_MasterFinancials_Only['titleyear'] = df_MasterFinancials_Only[\"titleyear_IM\"]\n",
    "df_MasterFinancials_Only.titleyear.fillna(df_MasterFinancials_Only[\"titleyear_fl\"],inplace=True)\n",
    "\n",
    "df_MasterFinancials_MetaData['titleyear'] = df_MasterFinancials_Only[\"titleyear_IM\"]\n",
    "df_MasterFinancials_MetaData.titleyear.fillna(df_MasterFinancials_Only[\"titleyear_fl\"],inplace=True)\n",
    "\n"
   ]
  },
  {
   "cell_type": "code",
   "execution_count": 23,
   "metadata": {},
   "outputs": [],
   "source": [
    "# f_MasterFinancials_Only.info()"
   ]
  },
  {
   "cell_type": "code",
   "execution_count": 10,
   "metadata": {},
   "outputs": [],
   "source": [
    "df_MasterFinancials_Only = df_MasterFinancials_Only[['tconst','P_Cost','Dom_Gross','Frgn_Gross', 'WW_Gross', 'Domestic Opening']]"
   ]
  },
  {
   "cell_type": "code",
   "execution_count": 11,
   "metadata": {},
   "outputs": [
    {
     "name": "stdout",
     "output_type": "stream",
     "text": [
      "<class 'pandas.core.frame.DataFrame'>\n",
      "Int64Index: 5540 entries, 0 to 5539\n",
      "Data columns (total 6 columns):\n",
      " #   Column            Non-Null Count  Dtype  \n",
      "---  ------            --------------  -----  \n",
      " 0   tconst            5540 non-null   object \n",
      " 1   P_Cost            5540 non-null   float64\n",
      " 2   Dom_Gross         5540 non-null   float64\n",
      " 3   Frgn_Gross        5540 non-null   float64\n",
      " 4   WW_Gross          5540 non-null   float64\n",
      " 5   Domestic Opening  5540 non-null   float64\n",
      "dtypes: float64(5), object(1)\n",
      "memory usage: 303.0+ KB\n"
     ]
    }
   ],
   "source": [
    "df_MasterFinancials_Only.info()"
   ]
  },
  {
   "cell_type": "code",
   "execution_count": 12,
   "metadata": {},
   "outputs": [],
   "source": [
    "df_MasterFinancials_Only.to_excel(\"MovieFinancials.xlsx\")"
   ]
  },
  {
   "cell_type": "code",
   "execution_count": null,
   "metadata": {},
   "outputs": [],
   "source": []
  },
  {
   "cell_type": "code",
   "execution_count": null,
   "metadata": {},
   "outputs": [],
   "source": [
    "#THIS CODE IS FOR CHECKING THE SYNCHING STEP\n",
    "# df_MasterFinancials_MetaData[[\"title_TN\",\"title_BOM\",\"title_IMDB\",\"title_fin\"]].sort_values(by=\"title_fin\", ascending=False)\n",
    "# df_MasterFinancials_MetaData[[\"genres_fin\",\"genres\",]].sort_values(by=\"genres_fin\", ascending=False)\n",
    "# df_MasterFinancials_MetaData[[\"year_BOM\",\"year_TN\",\"year\"]].sort_values(by=\"year\", ascending=False)\n",
    "# df_MasterFinancials_MetaData[[\"titleyear_fl\",\"titleyear_IM\", \"titleyear_fin\"]].sort_values(by=\"titleyear_fin\", ascending=False)\n",
    "# df_MasterFinancials_MetaData[[\"Running Time_IMDB\",\"runtimeMinutes\", \"RunningTime_fin\"]].sort_values(by=\"Running Time_IMDB\", ascending=False)\n",
    "#df_MasterFinancials_MetaData[[\"rd_IMDB\",\"rd_TN\", \"rd_fin\", \"rd_fin1\", \"rd_fin5\"]].sort_values(by=\"rd_fin5\", ascending=False)\n"
   ]
  }
 ],
 "metadata": {
  "kernelspec": {
   "display_name": "learn-env",
   "language": "python",
   "name": "learn-env"
  },
  "language_info": {
   "codemirror_mode": {
    "name": "ipython",
    "version": 3
   },
   "file_extension": ".py",
   "mimetype": "text/x-python",
   "name": "python",
   "nbconvert_exporter": "python",
   "pygments_lexer": "ipython3",
   "version": "3.8.3"
  }
 },
 "nbformat": 4,
 "nbformat_minor": 4
}
