{
 "cells": [
  {
   "cell_type": "code",
   "execution_count": 2,
   "metadata": {},
   "outputs": [],
   "source": [
    "from bs4 import BeautifulSoup\n",
    "import requests \n",
    "import re  \n",
    "import pandas as pd"
   ]
  },
  {
   "cell_type": "code",
   "execution_count": null,
   "metadata": {},
   "outputs": [],
   "source": [
    "transpage = 'http://www.nightvalepresents.com/transcripts/'\n",
    "response = requests.get(transpage, timeout=.5)\n",
    "firstsoup = BeautifulSoup(response.text, 'html.parser')\n",
    "urls = firstsoup.find_all(class_='summary-content')\n",
    "\n",
    "titles = []\n",
    "i = 0 \n",
    "for url in urls: \n",
    "    titles.append(urls[i].find('a').attrs['href'])\n",
    "    i += 1\n",
    "    \n",
    "Titles2 = []\n",
    "c = 0 \n",
    "\n",
    "for url in urls: \n",
    "    Titles2.append(urls[c].find('a', class_=\"summary-title-link\").attrs['href'])\n",
    "    c += 1\n",
    "    \n",
    "print(urls)"
   ]
  },
  {
   "cell_type": "code",
   "execution_count": 196,
   "metadata": {},
   "outputs": [
    {
     "data": {
      "text/plain": [
       "30"
      ]
     },
     "execution_count": 196,
     "metadata": {},
     "output_type": "execute_result"
    }
   ],
   "source": [
    "nvps = 'http://www.nightvalepresents.com'\n",
    "responses = requests.get(nvps + titles[0])\n",
    "secondsoup = BeautifulSoup(responses.text, 'html.parser')\n",
    "body = secondsoup.find('')\n",
    "\n",
    "#x = titles[0].split(\"/\")[-1]\n",
    "\n",
    "x = []\n",
    "y = []\n",
    "j = 0 \n",
    "b =0\n",
    "for title in Titles2: \n",
    "    x.append(Titles2[j].split('welcome to night vale transcripts?category=')[-1])\n",
    "    j += 1\n",
    "\n",
    "for string in x:\n",
    "    y.append(x[b].replace('-', ' ').replace('+', ' ').replace('%', '').replace('2F', ' ')[44:].replace('/', ' ').title().strip()) \n",
    "    b += 1\n",
    "\n",
    "def remove(list): \n",
    "    pattern = '[0-9]'\n",
    "    list = [re.sub(pattern, '', i) for i in list] \n",
    "    return list\n",
    "  \n",
    "z = remove(y)\n",
    "len(z)"
   ]
  },
  {
   "cell_type": "code",
   "execution_count": 195,
   "metadata": {},
   "outputs": [
    {
     "name": "stdout",
     "output_type": "stream",
     "text": [
      "{' Radio Jupiter': 1, ' The Hundred Year Play': 1, ' Return Of The Obelisk': 1, ' Go To The Mirror': 1, ' To The Family And Friends': 1, ' The Whittler': 1, ' Secret Blotter': 1, ' Echo': 1, ' Delta': 1, ' Charlie': 1, ' The Faceless Old Woman Live': 1, ' Bravo': 1, ' Alpha': 1, ' The Space Race': 1, '  The Weather': 1, ' Cat Show': 1, '  The Battle For Time': 1, ' The Promise Of Time': 1, '  The Trouble With Time': 1, ' The Heist Part ': 1, ' The Great Golden Hand': 1, ' The Waterfall': 1, ' The Birthday Of Lee Marvin': 1, ' The General': 1, ' The Broadcaster': 1, ' The Protester': 1, ' The Veterans': 1}\n"
     ]
    }
   ],
   "source": [
    "WTNVvis = {x: 1**len(z) for x in z}\n",
    "\n",
    "\n",
    "print(WTNVvis)"
   ]
  },
  {
   "cell_type": "code",
   "execution_count": null,
   "metadata": {},
   "outputs": [],
   "source": []
  }
 ],
 "metadata": {
  "kernelspec": {
   "display_name": "Python 3",
   "language": "python",
   "name": "python3"
  },
  "language_info": {
   "codemirror_mode": {
    "name": "ipython",
    "version": 3
   },
   "file_extension": ".py",
   "mimetype": "text/x-python",
   "name": "python",
   "nbconvert_exporter": "python",
   "pygments_lexer": "ipython3",
   "version": "3.6.9"
  }
 },
 "nbformat": 4,
 "nbformat_minor": 4
}
