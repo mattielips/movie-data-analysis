{
 "cells": [
  {
   "cell_type": "code",
   "execution_count": 1,
   "metadata": {},
   "outputs": [],
   "source": [
    "import pandas as pd\n",
    "import numpy as np\n",
    "import re \n",
    "import requests \n",
    "import matplotlib \n",
    "import seaborn as sns\n",
    "from bs4 import BeautifulSoup \n",
    "from pandasql import sqldf\n",
    "%matplotlib inline\n",
    "import sqlite3"
   ]
  },
  {
   "cell_type": "code",
   "execution_count": 2,
   "metadata": {},
   "outputs": [],
   "source": [
    "# FUNCTIONS CREATED \n",
    "\n",
    "# FUNCTION TO GET COLUMN NAMES \n",
    "def getcol(dfname):\n",
    "    print(str(dfname.columns.values.tolist()))"
   ]
  },
  {
   "cell_type": "code",
   "execution_count": 3,
   "metadata": {},
   "outputs": [],
   "source": [
    "#CSV files, named dataframe, type & corresponding index to help differentiate without making long unique names\n",
    "# file names optimized for shift tabing  \n",
    "dfcsv_1 = pd.read_csv('zippedData/bom.movie_gross.csv.gz')\n",
    "dfcsv_2 = pd.read_csv('zippedData/imdb.name.basics.csv.gz')\n",
    "dfcsv_3 = pd.read_csv('zippedData/imdb.title.akas.csv.gz')\n",
    "dfcsv_4 = pd.read_csv('zippedData/imdb.title.basics.csv.gz')\n",
    "dfcsv_5 = pd.read_csv('zippedData/imdb.title.crew.csv.gz')\n",
    "dfcsv_6 = pd.read_csv('zippedData/imdb.title.principals.csv.gz')\n",
    "dfcsv_7 = pd.read_csv('zippedData/imdb.title.ratings.csv.gz')\n",
    "dfcsv_8 = pd.read_csv('zippedData/tmdb.movies.csv.gz')"
   ]
  },
  {
   "cell_type": "code",
   "execution_count": 4,
   "metadata": {},
   "outputs": [],
   "source": [
    "#TSV FILES, named dataframe, file type & corresponding index to help differentiate without making long unique names\n",
    "dftsv_1= pd.read_csv('zippedData/rt.movie_info.tsv.gz', delimiter='\\t',encoding='utf-8')\n",
    "dftsv_2 = pd.read_csv('zippedData/rt.reviews.tsv.gz', delimiter='\\t',encoding='unicode_escape')"
   ]
  },
  {
   "cell_type": "code",
   "execution_count": 5,
   "metadata": {},
   "outputs": [],
   "source": [
    "#WEBSCRAPED DATA, named dataframe, file type & corresponding index to help differentiate without making long unique names\n",
    "dfxls_1 = pd.read_excel('zippedData/df_IMDB_Akas_english.xlsx')\n",
    "dfxls_2 = pd.read_excel('zippedData/df_MasterFinancials.xlsx')\n",
    "dfxls_3 = pd.read_excel('zippedData/Golden_Globes.xlsx')"
   ]
  },
  {
   "cell_type": "code",
   "execution_count": 6,
   "metadata": {},
   "outputs": [],
   "source": [
    "#KAGGLE DATA, named dataframe, where collected, file type & corresponding index to help differentiate without making long names\n",
    "# low_memory = False reccomended by error message, still not totally sure what it does \n",
    "dfkagcsv_1 = pd.read_csv('zippedData/credits.csv', low_memory=False )\n",
    "dfkagcsv_2 = pd.read_csv('zippedData/keywords.csv', low_memory=False)\n",
    "dfkagcsv_3 = pd.read_csv('zippedData/links.csv', low_memory=False)\n",
    "dfkagcsv_4 = pd.read_csv('zippedData/links_small.csv', low_memory=False)\n",
    "dfkagcsv_5 = pd.read_csv('zippedData/movies_metadata.csv', low_memory=False)\n",
    "dfkagcsv_6 = pd.read_csv('zippedData/ratings.csv', low_memory=False)\n",
    "dfkagcsv_7 = pd.read_csv('zippedData/ratings_small.csv', low_memory=False)"
   ]
  },
  {
   "cell_type": "code",
   "execution_count": 7,
   "metadata": {},
   "outputs": [],
   "source": [
    "#RUSS MASTER DATA, named dataframe, master, file type & corresponding index to help differentiate without making long names\n",
    "dfmxls_1 = pd.read_excel('zippedData/df_Generes_With_tconst.xlsx')\n",
    "dfmxls_2 = pd.read_excel('zippedData/df_IMDB_MovieCatalog.xlsx')\n",
    "dfmxls_3 = pd.read_excel('zippedData/df_Movie_Financials.xlsx')"
   ]
  },
  {
   "cell_type": "code",
   "execution_count": 8,
   "metadata": {},
   "outputs": [
    {
     "ename": "NameError",
     "evalue": "name 'clean1' is not defined",
     "output_type": "error",
     "traceback": [
      "\u001b[1;31m---------------------------------------------------------------------------\u001b[0m",
      "\u001b[1;31mNameError\u001b[0m                                 Traceback (most recent call last)",
      "\u001b[1;32m<ipython-input-8-ef6e8911dce3>\u001b[0m in \u001b[0;36m<module>\u001b[1;34m\u001b[0m\n\u001b[1;32m----> 1\u001b[1;33m \u001b[0mchecking_titles\u001b[0m \u001b[1;33m=\u001b[0m \u001b[0mclean1\u001b[0m\u001b[1;33m.\u001b[0m\u001b[0mmerge\u001b[0m\u001b[1;33m(\u001b[0m\u001b[0mclean3\u001b[0m\u001b[1;33m,\u001b[0m \u001b[0mhow\u001b[0m\u001b[1;33m=\u001b[0m\u001b[1;34m'inner'\u001b[0m\u001b[1;33m,\u001b[0m \u001b[0mon\u001b[0m\u001b[1;33m=\u001b[0m\u001b[1;34m'title'\u001b[0m\u001b[1;33m,\u001b[0m \u001b[0mindicator\u001b[0m\u001b[1;33m=\u001b[0m\u001b[1;34m'title2'\u001b[0m\u001b[1;33m)\u001b[0m\u001b[1;33m.\u001b[0m\u001b[0mmerge\u001b[0m\u001b[1;33m(\u001b[0m\u001b[0mclean8\u001b[0m\u001b[1;33m,\u001b[0m \u001b[0mhow\u001b[0m\u001b[1;33m=\u001b[0m\u001b[1;34m'inner'\u001b[0m\u001b[1;33m,\u001b[0m \u001b[0mon\u001b[0m\u001b[1;33m=\u001b[0m\u001b[1;34m'title'\u001b[0m\u001b[1;33m,\u001b[0m \u001b[0mindicator\u001b[0m\u001b[1;33m=\u001b[0m\u001b[1;34m'title3'\u001b[0m\u001b[1;33m)\u001b[0m\u001b[1;33m\u001b[0m\u001b[1;33m\u001b[0m\u001b[0m\n\u001b[0m\u001b[0;32m      2\u001b[0m \u001b[1;31m# USING INDICATOR TO SEE IF VALUES MATCH ON BOTH SIDES, GOT ONE RESULT 'BOTH' FOR BOTH\u001b[0m\u001b[1;33m\u001b[0m\u001b[1;33m\u001b[0m\u001b[1;33m\u001b[0m\u001b[0m\n\u001b[0;32m      3\u001b[0m \u001b[1;31m#checking_titles['title3'].describe()\u001b[0m\u001b[1;33m\u001b[0m\u001b[1;33m\u001b[0m\u001b[1;33m\u001b[0m\u001b[0m\n\u001b[0;32m      4\u001b[0m \u001b[1;33m\u001b[0m\u001b[0m\n\u001b[0;32m      5\u001b[0m \u001b[1;31m#checking_titles['title2'].describe()\u001b[0m\u001b[1;33m\u001b[0m\u001b[1;33m\u001b[0m\u001b[1;33m\u001b[0m\u001b[0m\n",
      "\u001b[1;31mNameError\u001b[0m: name 'clean1' is not defined"
     ]
    }
   ],
   "source": [
    "checking_titles = clean1.merge(clean3, how='inner', on='title', indicator='title2').merge(clean8, how='inner', on='title', indicator='title3')\n",
    "# USING INDICATOR TO SEE IF VALUES MATCH ON BOTH SIDES, GOT ONE RESULT 'BOTH' FOR BOTH\n",
    "#checking_titles['title3'].describe()\n",
    "\n",
    "#checking_titles['title2'].describe()\n",
    "\n",
    "#ALL 8 STARTING CSV 'TITLE' COLUMNS MATCH UP "
   ]
  },
  {
   "cell_type": "code",
   "execution_count": null,
   "metadata": {},
   "outputs": [],
   "source": [
    "#    CLEANED COLUMNS FROM ORIGINAL 10 FILES PROVIDED, ALL OF THE FLATIRON MATERIALS \n",
    "#clean1 'title', 'studio', 'foreign_gross', 'year'     INCONSISTENT DENOMINATIONS FOR FOREIGN GROSS, USE WEBSCRAPED DATA \n",
    "#clean2 'nconst', 'primary_name', 'primary_profession', 'known_for_titles'\n",
    "#clean3 'title_id', 'ordering', 'title', 'region', 'is_original_title'\n",
    "#clean4 'tconst', 'primary_title', 'original_title', 'start_year', 'runtime_minutes', 'genres'\n",
    "#clean5 'tconst', 'directors', 'writers'\n",
    "#clean6 'tconst', 'ordering', 'nconst', 'category'\n",
    "#clean7 'tconst', 'averagerating', 'numvotes'\n",
    "#clean8 'genre_ids', 'id', 'original_language', 'original_title', 'release_date', 'title', 'vote_average', 'vote_count'\n",
    "\n",
    "#   THESE FOLLOWING 'ID' DO NOT CORRESPOND TO ANY OTHER ID EXCEPT EACHOTHER \n",
    "#clean9 'id', 'synopsis', 'genre', 'director', 'writer', 'theater_date', 'dvd_date', 'currency', 'box_office', 'runtime', 'studio'\n",
    "#clean10 'id', 'review', 'rating', 'fresh', 'critic', 'top_critic', 'publisher', 'date'"
   ]
  },
  {
   "cell_type": "code",
   "execution_count": null,
   "metadata": {},
   "outputs": [],
   "source": [
    "#    STARTING COLUMNS \n",
    "#dfcsv_1 'title', 'studio', 'domestic_gross', 'foreign_gross', 'year'\n",
    "#dfcsv_2 'nconst', 'primary_name', 'birth_year', 'death_year', 'primary_profession', 'known_for_titles'\n",
    "#dfcsv_3 'title_id', 'ordering', 'title', 'region', 'language', 'types', 'attributes', 'is_original_title'\n",
    "#dfcsv_4 'tconst', 'primary_title', 'original_title', 'start_year', 'runtime_minutes', 'genres'\n",
    "#dfcsv_5 'tconst', 'directors', 'writers'\n",
    "#dfcsv_6 'tconst', 'ordering', 'nconst', 'category', 'job', 'characters'\n",
    "#dfcsv_7 'tconst', 'averagerating', 'numvotes'\n",
    "#dfcsv_8 'Unnamed: 0', 'genre_ids', 'id', 'original_language', 'original_title', 'popularity', 'release_date', \n",
    "#        'title', 'vote_average', 'vote_count'"
   ]
  },
  {
   "cell_type": "code",
   "execution_count": null,
   "metadata": {},
   "outputs": [],
   "source": [
    "# XLS COLUMNS FIRST 2 ARE FROM RUSSELL, THIRD MADE BY FENNEC \n",
    "#dfxls_1  'Unnamed: 0', 'tconst', 'primaryTitle', 'startYear', 'runtimeMinutes',\n",
    "#         'genres', 'startYear_str', 'titleyear', 'titleId', 'ind_Link'\n",
    "#dfxls_2 'Unnamed: 0', 'Unnamed: 0_IM',  'tconst', 'Domestic', 'International', 'Worldwide', 'Domestic Opening', 'Budget',\n",
    "#        'Earliest Release Date', 'MPAA', 'Running Time', 'Domestic Distributor', 'Genres', 'primaryTitle_IM', 'originalTitle',\n",
    "#        'isAdult', 'startYear_IM',  'runtimeMinutes_IM', 'genres_IM', 'titleyear_IM', 'Unnamed: 0_fl', 'primaryTitle_fl',\n",
    "#        'startYear_fl', 'runtimeMinutes_fl', 'genres_fl', 'startYear_str', 'titleyear_fl', 'titleId', 'ind_Link', 'TN_movie',\n",
    "#        'TN_year', 'TN_release_date', 'TN_production_budget', 'TN_domestic_gross', 'TN_worldwide_gross', 'TN_foreign_gross_calc',\n",
    "#        'title', 'studio', 'domestic_gross', 'foreign_gross', 'year', 'worldwide_gross_calc', 'indicator_column',\n",
    "#        'MergingFinances',  'mergingfinancials'\n",
    "\n",
    "#dfxls_3 'Year', 'Drama', 'Musical/Comedy', 'Drama Actor', 'Drama Actor Movie ', 'Musical/Comedy Actor', \n",
    "#        'Musical/Comedy Actor Movie ', 'Drama Actress', 'Drama Actress Movie ', 'Musical/Comedy Actress',\n",
    "#        'Musical/Comedy Actress Movie',  'Director', 'Director Movie '"
   ]
  },
  {
   "cell_type": "code",
   "execution_count": null,
   "metadata": {},
   "outputs": [],
   "source": [
    "#   KAGGLE COLUMNS \n",
    "# kagglecsv1 'cast', 'crew', 'id'\n",
    "# kagglecsv2 'id', 'keywords'\n",
    "# kagglecsv3 'movieId', 'imdbId', 'tmdbId'\n",
    "# kagglecsv4 'movieId', 'imdbId', 'tmdbId'\n",
    "# kagglecsv5 'adult', 'belongs_to_collection', 'budget', 'genres', 'homepage', 'id', 'imdb_id', 'original_language', \n",
    "#            'original_title', 'overview', 'popularity', 'poster_path', 'production_companies', 'production_countries', \n",
    "#            'release_date', 'revenue', 'runtime', 'spoken_languages', 'status', 'tagline', 'title', 'video', 'vote_average', \n",
    "#            'vote_count'\n",
    "# kagglecsv6 'userId', 'movieId', 'rating', 'timestamp'\n",
    "# kagglecsv7'userId', 'movieId', 'rating', 'timestamp'"
   ]
  },
  {
   "cell_type": "code",
   "execution_count": null,
   "metadata": {},
   "outputs": [],
   "source": [
    "#    TSV COLUMNS FROM FLATIRON \n",
    "#dftsv_1 'id', 'synopsis', 'rating', 'genre', 'director', 'writer', 'theater_date', 'dvd_date', 'currency', \n",
    "#        'box_office', 'runtime', 'studio'\n",
    "#dftsv_2 'id', 'review', 'rating', 'fresh', 'critic', 'top_critic', 'publisher', 'date'"
   ]
  },
  {
   "cell_type": "code",
   "execution_count": null,
   "metadata": {
    "scrolled": true
   },
   "outputs": [],
   "source": [
    "#    MASTER COLUMNS \n",
    "# dfmxls_1 'Unnamed: 0', 'tconst', 'titleType', 'primaryTitle', 'originalTitle', 'startYear', 'runtimeMinutes',\n",
    "#           'genres', 'averageRating', 'numVotes', 'Splitgeneres'\n",
    "# dfmxls_2 'Unnamed: 0', 'tconst', 'primaryTitle', 'startYear', 'runtimeMinutes', 'genres', 'startYear_str', \n",
    "#          'titleyear', 'studio_BOM', 'MPAA', 'rd', 'StudioDesc'\n",
    "# dfmxls_3 'Unnamed: 0', 'tconst', 'P_Cost', 'Dom_Gross', 'Frgn_Gross', 'WW_Gross', 'Domestic Opening'\n",
    "\n",
    "#studio_BOM seems usless, appears to be a bool value for a question not asked\n",
    "# StudioDesc is studio names"
   ]
  },
  {
   "cell_type": "code",
   "execution_count": null,
   "metadata": {},
   "outputs": [],
   "source": [
    "# NEW DATAFRAMES CREATED \n",
    "# Actorframe, data on actors from rotten tomatos, titles duplicate when they have multiple actors \n",
    "# Studioframe, data we have on studio production associated with movies, \n",
    "# data_on_numbers, no title duplicates newsest data in the flatiron provided data sorted by domestic gross"
   ]
  },
  {
   "cell_type": "code",
   "execution_count": null,
   "metadata": {},
   "outputs": [],
   "source": [
    "dftsv_1['rating'].rename('parent_rating', inplace=True) #name slightly misleading \n",
    "\n",
    "#keeping non-numeric columns with few NaN values so we could still use \n",
    "#to groupby or search from, can always drop later subbing for unknown \n",
    "#so we don't get and NaN errors \n",
    "\n",
    "clean1 = dfcsv_1.fillna(dfcsv_1['domestic_gross'].mean())\n",
    "clean2 = dfcsv_2.drop(labels='birth_year', axis=1).drop(labels='death_year', axis=1).fillna('unknown')\n",
    "clean3 = dfcsv_3.drop(labels='attributes', axis=1).drop(labels='language', axis=1).drop(labels='types', axis=1).fillna('unknown')\n",
    "clean4 = dfcsv_4.fillna(dfcsv_4['runtime_minutes'].median()).fillna('unknown')\n",
    "clean5 = dfcsv_5.fillna('unknown')\n",
    "clean6 = dfcsv_6.drop(labels='job', axis=1).drop(labels='characters', axis=1)\n",
    "clean7 = dfcsv_7\n",
    "#numvotes range wildly making votes less accurate if not sorted to be in certain thresholds \n",
    "clean8 = dfcsv_8.drop(labels='Unnamed: 0', axis=1).drop(labels='popularity', axis=1)\n",
    "#columns full but useless \n",
    "clean9 = dftsv_2.drop(labels='rating', axis=1).fillna('unknown')\n",
    "#rating probably not worth trying to add, would have to convert a lot to determine mean/med/mode\n",
    "#review subbed for unknown so we could still use to search \n",
    "clean10 = dftsv_1 #Really short but lots of data, join on left & right in sep DF w/clean1 "
   ]
  },
  {
   "cell_type": "code",
   "execution_count": null,
   "metadata": {
    "scrolled": true
   },
   "outputs": [],
   "source": [
    "c1 = clean1.groupby(['studio', 'title']).mean()\n",
    "c3 = clean3.groupby(['title_id', 'title', 'region']).mean()\n",
    "#some meaningful groupings\n",
    "clean1['studio']"
   ]
  },
  {
   "cell_type": "code",
   "execution_count": null,
   "metadata": {},
   "outputs": [],
   "source": [
    "the_df_to_merge_them_all['studio'].describe()"
   ]
  },
  {
   "cell_type": "code",
   "execution_count": null,
   "metadata": {
    "scrolled": true
   },
   "outputs": [],
   "source": [
    "#playing around to find the largest dataframe that could help connect everything, think sql is going to be a better move \n",
    "the_df_to_merge_them_all = clean1.merge(clean3, how='outer', on='title').merge(clean8,  how='outer', on='title').merge(clean4,  how='outer', on='original_title').merge(clean5, how='outer', on='tconst').merge(clean6, how='outer', on='tconst').merge(clean7, how='outer', on='tconst').merge(clean2, how='outer', on='nconst').merge(clean7, how='outer', on='tconst')\n",
    "the_df_to_merge_them_all.sort_values(by='title_id', ascending=False)\n",
    "mini_all = the_df_to_merge_them_all[['title', 'studio', 'year', 'original_language','original_title', 'release_date', 'vote_average', 'vote_count', 'runtime_minutes', 'genres', 'directors', 'writers', 'id', 'tconst']].copy()\n",
    "\n",
    "getcol(mini_all)"
   ]
  },
  {
   "cell_type": "code",
   "execution_count": null,
   "metadata": {},
   "outputs": [],
   "source": [
    "#dfxls_2(studio) tconst  \n",
    "#clean 1 (studio) title, but on a frame we know it matches with \n",
    "#clean8 (title), \n",
    "\n",
    "#clean1 via title > clean 8 via \n",
    "#mini_all.join(dfxls_2, on='tconst')\n",
    "\n",
    "findin_studios = mini_all.merge(dfxls_2, on='tconst', how='outer')[['studio_y', 'studio_x', 'original_title', 'tconst']].copy()\n",
    "Studioframe = findin_studios.drop_duplicates(subset=['tconst']).merge(dfmxls_2, on='tconst', how='outer')[['studio_y', 'studio_x', 'StudioDesc' , 'original_title', 'genres', 'runtimeMinutes','tconst']].copy()\n",
    "Studioframe['Studio'] = Studioframe['StudioDesc'].str.cat(Studioframe['studio_x'] ,sep=\", \")\n",
    "Studioframe['Studio'] = Studioframe['Studio'].str.cat(Studioframe['studio_y'] ,sep=\", \")"
   ]
  },
  {
   "cell_type": "code",
   "execution_count": null,
   "metadata": {},
   "outputs": [],
   "source": [
    "Juststudios = Studioframe.dropna(axis=0, subset=['original_title', 'Studio']).copy()\n",
    "Juststudios"
   ]
  },
  {
   "cell_type": "code",
   "execution_count": null,
   "metadata": {
    "scrolled": false
   },
   "outputs": [],
   "source": [
    "grouped_data = the_df_to_merge_them_all.groupby(['studio','original_title','domestic_gross', 'year', 'title_id', 'id', 'directors'])\n",
    "#grouping some sets of data that make sense together \n",
    "grouped_data.head(5)"
   ]
  },
  {
   "cell_type": "code",
   "execution_count": null,
   "metadata": {
    "scrolled": true
   },
   "outputs": [],
   "source": [
    "#    DATA ON ACTORS FROM ROTTEN TOMATOES\n",
    "\n",
    "actors = clean8.merge(clean1, how='inner', on='title').merge(clean4, how='inner', on='original_title').merge(clean6, how='inner', on='tconst').merge(clean2, how='inner', on='nconst')\n",
    "actors.insert(1, 'actors_name', actors.pop('primary_name'))\n",
    "actors.groupby(['actors_name', 'vote_average']).head()\n",
    "Actorframe = actors[['actors_name', 'primary_title', 'release_date','vote_average', 'vote_count', 'category', 'genres' ]].copy()\n",
    "Actorframe.sort_values(by='vote_count', ascending=False).head(50)\n",
    "Actorframe.loc[actors['primary_title'] == 'Inception']\n"
   ]
  },
  {
   "cell_type": "code",
   "execution_count": null,
   "metadata": {},
   "outputs": [],
   "source": [
    "#    NEWEST DATA BASED ON HIGHEST DOMESTIC GROSS SORTED BY TITLE \n",
    "\n",
    "cleaning_combining_df = the_df_to_merge_them_all.sort_values(by='tconst').drop_duplicates(subset='tconst').sort_values(by='domestic_gross', ascending=False).drop_duplicates(subset='domestic_gross', keep='first')\n",
    "cleaning_combining_df_1 = cleaning_combining_df.drop(labels='region', axis=1).drop(labels='title_id', axis=1).drop(labels='directors', axis=1).drop(labels='writers', axis=1)\n",
    "#duplicates dropped by most recent domestic gross \n",
    "cleaning_combining_df_2 = cleaning_combining_df_1.merge(dfmxls_2, on='id')\n",
    "#I'd do them both in one line if they didn't already look monsterous \n",
    "without_useless = cleaning_combining_df_1.drop(labels='ordering_x', axis=1).drop(labels='id', axis=1).drop(labels='ordering_y', axis=1).drop(labels='averagerating_x', axis=1).drop(labels='numvotes_x', axis=1).sort_values(by='title')\n",
    "without_useless.insert(0, 'original_title', without_useless.pop('original_title'))\n",
    "data_on_numbers = without_useless.sort_values(by='domestic_gross', ascending=False)\n",
    "FINumbersframe = data_on_numbers[[ 'original_language', 'tconst', 'nconst', 'original_title', 'primary_title', 'studio', 'runtime_minutes', 'year', 'vote_average', 'vote_count',  'genres']].copy()\n",
    "#TOP 10 MOVIES WE'VE GOT PLENTY OF DATA ON \n",
    "FINumbersframe.sort_values(by='vote_average', ascending=False).dropna()\n"
   ]
  },
  {
   "cell_type": "code",
   "execution_count": null,
   "metadata": {
    "scrolled": true
   },
   "outputs": [],
   "source": [
    "data_on_numbers.loc[data_on_numbers['year'] == 2018]\n",
    "#MOVIES IN 2018 SORTED BY NUMBER\n",
    "the_df_to_merge_them_all['runtime_minutes'].mean()\n",
    "#THE BEST RUNTIME BETWEEN GENRES\n",
    "\n",
    "#MAYBE TRY AND FIND OUT BEST RUNTIME FOR A SPECIFIC GENRES?"
   ]
  },
  {
   "cell_type": "code",
   "execution_count": null,
   "metadata": {},
   "outputs": [],
   "source": [
    "#     NOTE: THIS DATAFRAME HAS ALREADY BEEN SORTED \n",
    "dict_min_year = {2018: data_on_numbers.loc[data_on_numbers['year'] == 2018]['runtime_minutes'].head(10).mean(),\n",
    "                 2017: data_on_numbers.loc[data_on_numbers['year'] == 2017]['runtime_minutes'].head(10).mean(),\n",
    "                 2016: data_on_numbers.loc[data_on_numbers['year'] == 2016]['runtime_minutes'].head(10).mean(),\n",
    "                 2015: data_on_numbers.loc[data_on_numbers['year'] == 2015]['runtime_minutes'].head(10).mean(),\n",
    "                 2014: data_on_numbers.loc[data_on_numbers['year'] == 2014]['runtime_minutes'].head(10).mean(),\n",
    "                 2013: data_on_numbers.loc[data_on_numbers['year'] == 2013]['runtime_minutes'].head(10).mean(),\n",
    "                 2012: data_on_numbers.loc[data_on_numbers['year'] == 2012]['runtime_minutes'].head(10).mean(),\n",
    "                 2011: data_on_numbers.loc[data_on_numbers['year'] == 2011]['runtime_minutes'].head(10).mean(),\n",
    "                 2010: data_on_numbers.loc[data_on_numbers['year'] == 2010]['runtime_minutes'].head(10).mean()}\n",
    "\n",
    "to_plot = pd.DataFrame.from_dict(dict_min_year, orient='index')\n",
    "to_plot.plot(title='How runtimes for the top 10 films has changed in the last 8 years ')"
   ]
  },
  {
   "cell_type": "code",
   "execution_count": null,
   "metadata": {
    "scrolled": true
   },
   "outputs": [],
   "source": []
  },
  {
   "cell_type": "code",
   "execution_count": null,
   "metadata": {},
   "outputs": [],
   "source": [
    "#FIXING RUNTIME COLUMNS \n",
    "\n",
    "dfxls_2['Running Time'].fillna('0 hr 0 min', inplace=True)\n",
    "\n",
    "for i in range(len(dfxls_2['Running Time'])):\n",
    "    newtime = 0 \n",
    "    oldtime = dfxls_2['Running Time'][i].split()\n",
    "    for k in range(0, len(oldtime), 2):\n",
    "        if oldtime[k+1] == 'hr':\n",
    "            newtime += int(oldtime[k])*60\n",
    "        else: \n",
    "            newtime += int(oldtime[k])\n",
    "    dfxls_2['Running Time'][i] = newtime"
   ]
  },
  {
   "cell_type": "code",
   "execution_count": null,
   "metadata": {},
   "outputs": [],
   "source": [
    "dfxls_2.loc[dfxls_2['Running Time'] == 288]\n",
    "# LONGEST MOVIE"
   ]
  },
  {
   "cell_type": "code",
   "execution_count": null,
   "metadata": {},
   "outputs": [],
   "source": [
    "# TRYING TO MAKE A FUNCTION TO FIX HOUR/MIN COLUMNS \n",
    "\n",
    "#def stringtimetoint(dataframe_and_column):\n",
    "    # column must contain variables in 'int', 'hour', 'int', 'min' format\n",
    " #   dataframe_and_column.fillna('0 hr 0 min', inplace=True)\n",
    "    \n",
    "  #  for i in range(len(dataframe_and_column)):\n",
    "   #     newtime = 0 \n",
    "   #     oldtime = dataframe_and_column[i].split()\n",
    "   #     for k in range(0, len(oldtime), 2):\n",
    "   #         if oldtime[k+1] == 'hr':\n",
    "   #             newtime += int(oldtime[k])*60\n",
    "   #         else: \n",
    "   #             newtime += int(oldtime[k])\n",
    "   #         dataframe_and_column[i] = newtime\n",
    "    \n",
    "#stringtimetoint(dfxls_2['Running Time'])"
   ]
  },
  {
   "cell_type": "markdown",
   "metadata": {},
   "source": [
    "questions:\n",
    "best studio & director for a horror or action movie in october?\n",
    "\n",
    "do ratings correspond in any way to box office sucess? if so, which top 5 should we s should you send your film to (critic with highest reviws highest num votes?)\n",
    "\n",
    "sucess of video game/comic book movies in recent years, microsoft now owns fallout (could be comperable to mad max) and skyrim? we can almost certainly find data to support a skyrim movie\n",
    "\n",
    "budget relation to box office gross? what variables might change that & what might be best?\n",
    "\n"
   ]
  },
  {
   "cell_type": "code",
   "execution_count": null,
   "metadata": {},
   "outputs": [],
   "source": [
    "dfxls_3['Drama Actress'].str.contains('Meryl Streep').value_counts()"
   ]
  },
  {
   "cell_type": "code",
   "execution_count": null,
   "metadata": {},
   "outputs": [],
   "source": [
    "rotten = clean9.merge(clean10, how='inner', on='id')\n",
    "rotten.groupby(rotten['synopsis']).mean()"
   ]
  },
  {
   "cell_type": "code",
   "execution_count": null,
   "metadata": {},
   "outputs": [],
   "source": []
  }
 ],
 "metadata": {
  "kernelspec": {
   "display_name": "Python 3",
   "language": "python",
   "name": "python3"
  },
  "language_info": {
   "codemirror_mode": {
    "name": "ipython",
    "version": 3
   },
   "file_extension": ".py",
   "mimetype": "text/x-python",
   "name": "python",
   "nbconvert_exporter": "python",
   "pygments_lexer": "ipython3",
   "version": "3.6.9"
  }
 },
 "nbformat": 4,
 "nbformat_minor": 4
}
