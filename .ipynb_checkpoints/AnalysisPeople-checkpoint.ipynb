{
 "cells": [
  {
   "cell_type": "code",
   "execution_count": null,
   "metadata": {},
   "outputs": [],
   "source": [
    "import numpy as np #linear algebra\n",
    "import pandas as pd #data processing \n",
    "pd.set_option('display.max_rows', None)\n",
    "pd.set_option('display.max_columns', None)  \n",
    "pd.set_option('display.expand_frame_repr', False)\n",
    "pd.set_option('max_colwidth', None)\n",
    "\n",
    "# Importing into dataframe\n",
    "# df_Title_Basics = pd.read_csv(\"./Prj_Data/DownLoadedData_Imdb/title.basics (1).tsv.gz\", delimiter='\\t', encoding='ANSI')\n",
    "df_Name_Basics = pd.read_csv(\"./Prj_Data/DownLoadedData_Imdb/name.basics (1).tsv.gz\", delimiter='\\t', encoding='ANSI')\n",
    "df_Title_Crew = pd.read_csv(\"./Prj_Data/DownLoadedData_Imdb/title.crew (1).tsv.gz\", delimiter='\\t', encoding='ANSI')\n",
    "# df_Title_Episods = pd.read_csv(\"./Prj_Data/DownLoadedData_Imdb/title.episode (1).tsv.gz\", delimiter='\\t', encoding='ANSI')\n",
    "df_Title_Princ = pd.read_csv(\"./Prj_Data/DownLoadedData_Imdb/title.principals (1).tsv.gz\", delimiter='\\t', encoding='ANSI')\n",
    "df_Title_Ratings = pd.read_csv(\"./Prj_Data/DownLoadedData_Imdb/title.ratings (2).tsv.gz\", delimiter='\\t', encoding='ANSI')\n",
    "\n",
    "# df_Generes_With_tconst = pd.read_excel(\"df_Generes_With_tconst.xlsx\")\n",
    "df_IMDB_MovieCatalog = pd.read_excel(\"df_IMDB_MovieCatalog.xlsx\")\n",
    "# df_Movie_Financials = pd.read_excel(\"df_Movie_Financials.xlsx\")\n",
    "# df_starsAct = pd.read_excel ('StarEarnings.xlsx', sheet_name='LeadActors')\n",
    "# df_starswrter = pd.read_excel ('StarEarnings.xlsx', sheet_name='ScreenWriter')\n",
    "# df_starsDir = pd.read_excel ('StarEarnings.xlsx', sheet_name='Director')\n",
    "# df_starsProd = pd.read_excel ('StarEarnings.xlsx', sheet_name='Producers')\n",
    "\n",
    "\n",
    "\n",
    "#df_IMDB_Akas_english = pd.read_excel(\"./Prj_Data/DownLoadedData_Imdb/df_IMDB_Akas_english.xlsx\")"
   ]
  },
  {
   "cell_type": "code",
   "execution_count": 13,
   "metadata": {},
   "outputs": [],
   "source": [
    "df_IMDB_MovieCatalog = pd.read_excel(\"df_IMDB_MovieCatalog.xlsx\")"
   ]
  },
  {
   "cell_type": "code",
   "execution_count": 14,
   "metadata": {},
   "outputs": [
    {
     "data": {
      "text/html": [
       "<div>\n",
       "<style scoped>\n",
       "    .dataframe tbody tr th:only-of-type {\n",
       "        vertical-align: middle;\n",
       "    }\n",
       "\n",
       "    .dataframe tbody tr th {\n",
       "        vertical-align: top;\n",
       "    }\n",
       "\n",
       "    .dataframe thead th {\n",
       "        text-align: right;\n",
       "    }\n",
       "</style>\n",
       "<table border=\"1\" class=\"dataframe\">\n",
       "  <thead>\n",
       "    <tr style=\"text-align: right;\">\n",
       "      <th></th>\n",
       "      <th>Unnamed: 0</th>\n",
       "      <th>tconst</th>\n",
       "      <th>primaryTitle</th>\n",
       "      <th>startYear</th>\n",
       "      <th>runtimeMinutes</th>\n",
       "      <th>genres</th>\n",
       "      <th>startYear_str</th>\n",
       "      <th>titleyear</th>\n",
       "      <th>studio_BOM</th>\n",
       "      <th>MPAA</th>\n",
       "      <th>rd</th>\n",
       "      <th>StudioDesc</th>\n",
       "    </tr>\n",
       "  </thead>\n",
       "  <tbody>\n",
       "    <tr>\n",
       "      <th>0</th>\n",
       "      <td>0</td>\n",
       "      <td>tt0069049</td>\n",
       "      <td>The Other Side Of The Wind</td>\n",
       "      <td>2018</td>\n",
       "      <td>122</td>\n",
       "      <td>Drama</td>\n",
       "      <td>2018</td>\n",
       "      <td>The Other Side Of The Wind2018</td>\n",
       "      <td>NaN</td>\n",
       "      <td>NaN</td>\n",
       "      <td>NaT</td>\n",
       "      <td>NaN</td>\n",
       "    </tr>\n",
       "    <tr>\n",
       "      <th>1</th>\n",
       "      <td>1</td>\n",
       "      <td>tt0100275</td>\n",
       "      <td>The Wandering Soap Opera</td>\n",
       "      <td>2017</td>\n",
       "      <td>80</td>\n",
       "      <td>Comedy,Drama,Fantasy</td>\n",
       "      <td>2017</td>\n",
       "      <td>The Wandering Soap Opera2017</td>\n",
       "      <td>NaN</td>\n",
       "      <td>NaN</td>\n",
       "      <td>NaT</td>\n",
       "      <td>NaN</td>\n",
       "    </tr>\n",
       "    <tr>\n",
       "      <th>2</th>\n",
       "      <td>2</td>\n",
       "      <td>tt0118141</td>\n",
       "      <td>What Is It?</td>\n",
       "      <td>2005</td>\n",
       "      <td>72</td>\n",
       "      <td>Drama</td>\n",
       "      <td>2005</td>\n",
       "      <td>What Is It?2005</td>\n",
       "      <td>NaN</td>\n",
       "      <td>NaN</td>\n",
       "      <td>NaT</td>\n",
       "      <td>NaN</td>\n",
       "    </tr>\n",
       "    <tr>\n",
       "      <th>3</th>\n",
       "      <td>3</td>\n",
       "      <td>tt0119970</td>\n",
       "      <td>My Apocalypse</td>\n",
       "      <td>2008</td>\n",
       "      <td>82</td>\n",
       "      <td>Comedy,Drama,Sci-Fi</td>\n",
       "      <td>2008</td>\n",
       "      <td>My Apocalypse2008</td>\n",
       "      <td>NaN</td>\n",
       "      <td>NaN</td>\n",
       "      <td>NaT</td>\n",
       "      <td>NaN</td>\n",
       "    </tr>\n",
       "    <tr>\n",
       "      <th>4</th>\n",
       "      <td>4</td>\n",
       "      <td>tt0120667</td>\n",
       "      <td>Fantastic Four</td>\n",
       "      <td>2005</td>\n",
       "      <td>106</td>\n",
       "      <td>Action,Adventure,Fantasy</td>\n",
       "      <td>2005</td>\n",
       "      <td>Fantastic Four2005</td>\n",
       "      <td>0</td>\n",
       "      <td>PG-13</td>\n",
       "      <td>2005-07-06</td>\n",
       "      <td>Twentieth Century Fox</td>\n",
       "    </tr>\n",
       "  </tbody>\n",
       "</table>\n",
       "</div>"
      ],
      "text/plain": [
       "   Unnamed: 0     tconst                primaryTitle  startYear  runtimeMinutes                    genres  startYear_str                       titleyear studio_BOM   MPAA         rd             StudioDesc\n",
       "0           0  tt0069049  The Other Side Of The Wind       2018             122                     Drama           2018  The Other Side Of The Wind2018        NaN    NaN        NaT                    NaN\n",
       "1           1  tt0100275    The Wandering Soap Opera       2017              80      Comedy,Drama,Fantasy           2017    The Wandering Soap Opera2017        NaN    NaN        NaT                    NaN\n",
       "2           2  tt0118141                 What Is It?       2005              72                     Drama           2005                 What Is It?2005        NaN    NaN        NaT                    NaN\n",
       "3           3  tt0119970               My Apocalypse       2008              82       Comedy,Drama,Sci-Fi           2008               My Apocalypse2008        NaN    NaN        NaT                    NaN\n",
       "4           4  tt0120667              Fantastic Four       2005             106  Action,Adventure,Fantasy           2005              Fantastic Four2005          0  PG-13 2005-07-06  Twentieth Century Fox"
      ]
     },
     "execution_count": 14,
     "metadata": {},
     "output_type": "execute_result"
    }
   ],
   "source": [
    "df_IMDB_MovieCatalog.head()"
   ]
  },
  {
   "cell_type": "code",
   "execution_count": 2,
   "metadata": {
    "scrolled": true
   },
   "outputs": [
    {
     "data": {
      "text/html": [
       "<div>\n",
       "<style scoped>\n",
       "    .dataframe tbody tr th:only-of-type {\n",
       "        vertical-align: middle;\n",
       "    }\n",
       "\n",
       "    .dataframe tbody tr th {\n",
       "        vertical-align: top;\n",
       "    }\n",
       "\n",
       "    .dataframe thead th {\n",
       "        text-align: right;\n",
       "    }\n",
       "</style>\n",
       "<table border=\"1\" class=\"dataframe\">\n",
       "  <thead>\n",
       "    <tr style=\"text-align: right;\">\n",
       "      <th></th>\n",
       "      <th>tconst</th>\n",
       "      <th>titleType</th>\n",
       "      <th>primaryTitle</th>\n",
       "      <th>originalTitle</th>\n",
       "      <th>isAdult</th>\n",
       "      <th>startYear</th>\n",
       "      <th>endYear</th>\n",
       "      <th>runtimeMinutes</th>\n",
       "      <th>genres</th>\n",
       "    </tr>\n",
       "  </thead>\n",
       "  <tbody>\n",
       "    <tr>\n",
       "      <th>0</th>\n",
       "      <td>tt0000001</td>\n",
       "      <td>short</td>\n",
       "      <td>Carmencita</td>\n",
       "      <td>Carmencita</td>\n",
       "      <td>0</td>\n",
       "      <td>1894</td>\n",
       "      <td>\\N</td>\n",
       "      <td>1</td>\n",
       "      <td>Documentary,Short</td>\n",
       "    </tr>\n",
       "    <tr>\n",
       "      <th>1</th>\n",
       "      <td>tt0000002</td>\n",
       "      <td>short</td>\n",
       "      <td>Le clown et ses chiens</td>\n",
       "      <td>Le clown et ses chiens</td>\n",
       "      <td>0</td>\n",
       "      <td>1892</td>\n",
       "      <td>\\N</td>\n",
       "      <td>5</td>\n",
       "      <td>Animation,Short</td>\n",
       "    </tr>\n",
       "    <tr>\n",
       "      <th>2</th>\n",
       "      <td>tt0000003</td>\n",
       "      <td>short</td>\n",
       "      <td>Pauvre Pierrot</td>\n",
       "      <td>Pauvre Pierrot</td>\n",
       "      <td>0</td>\n",
       "      <td>1892</td>\n",
       "      <td>\\N</td>\n",
       "      <td>4</td>\n",
       "      <td>Animation,Comedy,Romance</td>\n",
       "    </tr>\n",
       "    <tr>\n",
       "      <th>3</th>\n",
       "      <td>tt0000004</td>\n",
       "      <td>short</td>\n",
       "      <td>Un bon bock</td>\n",
       "      <td>Un bon bock</td>\n",
       "      <td>0</td>\n",
       "      <td>1892</td>\n",
       "      <td>\\N</td>\n",
       "      <td>12</td>\n",
       "      <td>Animation,Short</td>\n",
       "    </tr>\n",
       "    <tr>\n",
       "      <th>4</th>\n",
       "      <td>tt0000005</td>\n",
       "      <td>short</td>\n",
       "      <td>Blacksmith Scene</td>\n",
       "      <td>Blacksmith Scene</td>\n",
       "      <td>0</td>\n",
       "      <td>1893</td>\n",
       "      <td>\\N</td>\n",
       "      <td>1</td>\n",
       "      <td>Comedy,Short</td>\n",
       "    </tr>\n",
       "  </tbody>\n",
       "</table>\n",
       "</div>"
      ],
      "text/plain": [
       "      tconst titleType            primaryTitle           originalTitle  isAdult startYear endYear runtimeMinutes                    genres\n",
       "0  tt0000001     short              Carmencita              Carmencita        0      1894      \\N              1         Documentary,Short\n",
       "1  tt0000002     short  Le clown et ses chiens  Le clown et ses chiens        0      1892      \\N              5           Animation,Short\n",
       "2  tt0000003     short          Pauvre Pierrot          Pauvre Pierrot        0      1892      \\N              4  Animation,Comedy,Romance\n",
       "3  tt0000004     short             Un bon bock             Un bon bock        0      1892      \\N             12           Animation,Short\n",
       "4  tt0000005     short        Blacksmith Scene        Blacksmith Scene        0      1893      \\N              1              Comedy,Short"
      ]
     },
     "execution_count": 2,
     "metadata": {},
     "output_type": "execute_result"
    }
   ],
   "source": [
    "df_Title_Basics.head()"
   ]
  },
  {
   "cell_type": "code",
   "execution_count": 3,
   "metadata": {},
   "outputs": [
    {
     "name": "stdout",
     "output_type": "stream",
     "text": [
      "<class 'pandas.core.frame.DataFrame'>\n",
      "RangeIndex: 7200066 entries, 0 to 7200065\n",
      "Data columns (total 9 columns):\n",
      " #   Column          Dtype \n",
      "---  ------          ----- \n",
      " 0   tconst          object\n",
      " 1   titleType       object\n",
      " 2   primaryTitle    object\n",
      " 3   originalTitle   object\n",
      " 4   isAdult         int64 \n",
      " 5   startYear       object\n",
      " 6   endYear         object\n",
      " 7   runtimeMinutes  object\n",
      " 8   genres          object\n",
      "dtypes: int64(1), object(8)\n",
      "memory usage: 494.4+ MB\n"
     ]
    }
   ],
   "source": [
    "df_Title_Basics.info()"
   ]
  },
  {
   "cell_type": "code",
   "execution_count": 5,
   "metadata": {},
   "outputs": [
    {
     "data": {
      "text/html": [
       "<div>\n",
       "<style scoped>\n",
       "    .dataframe tbody tr th:only-of-type {\n",
       "        vertical-align: middle;\n",
       "    }\n",
       "\n",
       "    .dataframe tbody tr th {\n",
       "        vertical-align: top;\n",
       "    }\n",
       "\n",
       "    .dataframe thead th {\n",
       "        text-align: right;\n",
       "    }\n",
       "</style>\n",
       "<table border=\"1\" class=\"dataframe\">\n",
       "  <thead>\n",
       "    <tr style=\"text-align: right;\">\n",
       "      <th></th>\n",
       "      <th>nconst</th>\n",
       "      <th>primaryName</th>\n",
       "      <th>birthYear</th>\n",
       "      <th>deathYear</th>\n",
       "      <th>primaryProfession</th>\n",
       "      <th>knownForTitles</th>\n",
       "    </tr>\n",
       "  </thead>\n",
       "  <tbody>\n",
       "    <tr>\n",
       "      <th>0</th>\n",
       "      <td>nm0000001</td>\n",
       "      <td>Fred Astaire</td>\n",
       "      <td>1899</td>\n",
       "      <td>1987</td>\n",
       "      <td>soundtrack,actor,miscellaneous</td>\n",
       "      <td>tt0050419,tt0053137,tt0031983,tt0072308</td>\n",
       "    </tr>\n",
       "    <tr>\n",
       "      <th>1</th>\n",
       "      <td>nm0000002</td>\n",
       "      <td>Lauren Bacall</td>\n",
       "      <td>1924</td>\n",
       "      <td>2014</td>\n",
       "      <td>actress,soundtrack</td>\n",
       "      <td>tt0038355,tt0071877,tt0037382,tt0117057</td>\n",
       "    </tr>\n",
       "    <tr>\n",
       "      <th>2</th>\n",
       "      <td>nm0000003</td>\n",
       "      <td>Brigitte Bardot</td>\n",
       "      <td>1934</td>\n",
       "      <td>\\N</td>\n",
       "      <td>actress,soundtrack,music_department</td>\n",
       "      <td>tt0054452,tt0059956,tt0057345,tt0049189</td>\n",
       "    </tr>\n",
       "    <tr>\n",
       "      <th>3</th>\n",
       "      <td>nm0000004</td>\n",
       "      <td>John Belushi</td>\n",
       "      <td>1949</td>\n",
       "      <td>1982</td>\n",
       "      <td>actor,soundtrack,writer</td>\n",
       "      <td>tt0077975,tt0072562,tt0080455,tt0078723</td>\n",
       "    </tr>\n",
       "    <tr>\n",
       "      <th>4</th>\n",
       "      <td>nm0000005</td>\n",
       "      <td>Ingmar Bergman</td>\n",
       "      <td>1918</td>\n",
       "      <td>2007</td>\n",
       "      <td>writer,director,actor</td>\n",
       "      <td>tt0083922,tt0050976,tt0050986,tt0060827</td>\n",
       "    </tr>\n",
       "  </tbody>\n",
       "</table>\n",
       "</div>"
      ],
      "text/plain": [
       "      nconst      primaryName birthYear deathYear                    primaryProfession                           knownForTitles\n",
       "0  nm0000001     Fred Astaire      1899      1987       soundtrack,actor,miscellaneous  tt0050419,tt0053137,tt0031983,tt0072308\n",
       "1  nm0000002    Lauren Bacall      1924      2014                   actress,soundtrack  tt0038355,tt0071877,tt0037382,tt0117057\n",
       "2  nm0000003  Brigitte Bardot      1934        \\N  actress,soundtrack,music_department  tt0054452,tt0059956,tt0057345,tt0049189\n",
       "3  nm0000004     John Belushi      1949      1982              actor,soundtrack,writer  tt0077975,tt0072562,tt0080455,tt0078723\n",
       "4  nm0000005   Ingmar Bergman      1918      2007                writer,director,actor  tt0083922,tt0050976,tt0050986,tt0060827"
      ]
     },
     "execution_count": 5,
     "metadata": {},
     "output_type": "execute_result"
    }
   ],
   "source": [
    "df_Name_Basics.head()"
   ]
  },
  {
   "cell_type": "code",
   "execution_count": 6,
   "metadata": {},
   "outputs": [
    {
     "name": "stdout",
     "output_type": "stream",
     "text": [
      "<class 'pandas.core.frame.DataFrame'>\n",
      "RangeIndex: 10395071 entries, 0 to 10395070\n",
      "Data columns (total 6 columns):\n",
      " #   Column             Dtype \n",
      "---  ------             ----- \n",
      " 0   nconst             object\n",
      " 1   primaryName        object\n",
      " 2   birthYear          object\n",
      " 3   deathYear          object\n",
      " 4   primaryProfession  object\n",
      " 5   knownForTitles     object\n",
      "dtypes: object(6)\n",
      "memory usage: 475.8+ MB\n"
     ]
    }
   ],
   "source": [
    "df_Name_Basics.info()"
   ]
  },
  {
   "cell_type": "code",
   "execution_count": 7,
   "metadata": {},
   "outputs": [],
   "source": [
    "df_Name_Basics[\"knownForTitle\"] = df_Name_Basics[\"knownForTitles\"].str.split(\",\")\n",
    "df_Name_Basics_Exploded = df_Name_Basics.explode(\"knownForTitle\")"
   ]
  },
  {
   "cell_type": "code",
   "execution_count": 9,
   "metadata": {},
   "outputs": [
    {
     "name": "stdout",
     "output_type": "stream",
     "text": [
      "<class 'pandas.core.frame.DataFrame'>\n",
      "Int64Index: 18194928 entries, 0 to 10395070\n",
      "Data columns (total 7 columns):\n",
      " #   Column             Dtype \n",
      "---  ------             ----- \n",
      " 0   nconst             object\n",
      " 1   primaryName        object\n",
      " 2   birthYear          object\n",
      " 3   deathYear          object\n",
      " 4   primaryProfession  object\n",
      " 5   knownForTitles     object\n",
      " 6   knownForTitle      object\n",
      "dtypes: object(7)\n",
      "memory usage: 1.1+ GB\n"
     ]
    }
   ],
   "source": [
    "df_Name_Basics_Exploded.info()"
   ]
  },
  {
   "cell_type": "code",
   "execution_count": 10,
   "metadata": {},
   "outputs": [
    {
     "data": {
      "text/html": [
       "<div>\n",
       "<style scoped>\n",
       "    .dataframe tbody tr th:only-of-type {\n",
       "        vertical-align: middle;\n",
       "    }\n",
       "\n",
       "    .dataframe tbody tr th {\n",
       "        vertical-align: top;\n",
       "    }\n",
       "\n",
       "    .dataframe thead th {\n",
       "        text-align: right;\n",
       "    }\n",
       "</style>\n",
       "<table border=\"1\" class=\"dataframe\">\n",
       "  <thead>\n",
       "    <tr style=\"text-align: right;\">\n",
       "      <th></th>\n",
       "      <th>nconst</th>\n",
       "      <th>primaryName</th>\n",
       "      <th>birthYear</th>\n",
       "      <th>deathYear</th>\n",
       "      <th>primaryProfession</th>\n",
       "      <th>knownForTitles</th>\n",
       "      <th>knownForTitle</th>\n",
       "    </tr>\n",
       "  </thead>\n",
       "  <tbody>\n",
       "    <tr>\n",
       "      <th>0</th>\n",
       "      <td>nm0000001</td>\n",
       "      <td>Fred Astaire</td>\n",
       "      <td>1899</td>\n",
       "      <td>1987</td>\n",
       "      <td>soundtrack,actor,miscellaneous</td>\n",
       "      <td>tt0050419,tt0053137,tt0031983,tt0072308</td>\n",
       "      <td>tt0050419</td>\n",
       "    </tr>\n",
       "    <tr>\n",
       "      <th>0</th>\n",
       "      <td>nm0000001</td>\n",
       "      <td>Fred Astaire</td>\n",
       "      <td>1899</td>\n",
       "      <td>1987</td>\n",
       "      <td>soundtrack,actor,miscellaneous</td>\n",
       "      <td>tt0050419,tt0053137,tt0031983,tt0072308</td>\n",
       "      <td>tt0053137</td>\n",
       "    </tr>\n",
       "    <tr>\n",
       "      <th>0</th>\n",
       "      <td>nm0000001</td>\n",
       "      <td>Fred Astaire</td>\n",
       "      <td>1899</td>\n",
       "      <td>1987</td>\n",
       "      <td>soundtrack,actor,miscellaneous</td>\n",
       "      <td>tt0050419,tt0053137,tt0031983,tt0072308</td>\n",
       "      <td>tt0031983</td>\n",
       "    </tr>\n",
       "    <tr>\n",
       "      <th>0</th>\n",
       "      <td>nm0000001</td>\n",
       "      <td>Fred Astaire</td>\n",
       "      <td>1899</td>\n",
       "      <td>1987</td>\n",
       "      <td>soundtrack,actor,miscellaneous</td>\n",
       "      <td>tt0050419,tt0053137,tt0031983,tt0072308</td>\n",
       "      <td>tt0072308</td>\n",
       "    </tr>\n",
       "    <tr>\n",
       "      <th>1</th>\n",
       "      <td>nm0000002</td>\n",
       "      <td>Lauren Bacall</td>\n",
       "      <td>1924</td>\n",
       "      <td>2014</td>\n",
       "      <td>actress,soundtrack</td>\n",
       "      <td>tt0038355,tt0071877,tt0037382,tt0117057</td>\n",
       "      <td>tt0038355</td>\n",
       "    </tr>\n",
       "  </tbody>\n",
       "</table>\n",
       "</div>"
      ],
      "text/plain": [
       "      nconst    primaryName birthYear deathYear               primaryProfession                           knownForTitles knownForTitle\n",
       "0  nm0000001   Fred Astaire      1899      1987  soundtrack,actor,miscellaneous  tt0050419,tt0053137,tt0031983,tt0072308     tt0050419\n",
       "0  nm0000001   Fred Astaire      1899      1987  soundtrack,actor,miscellaneous  tt0050419,tt0053137,tt0031983,tt0072308     tt0053137\n",
       "0  nm0000001   Fred Astaire      1899      1987  soundtrack,actor,miscellaneous  tt0050419,tt0053137,tt0031983,tt0072308     tt0031983\n",
       "0  nm0000001   Fred Astaire      1899      1987  soundtrack,actor,miscellaneous  tt0050419,tt0053137,tt0031983,tt0072308     tt0072308\n",
       "1  nm0000002  Lauren Bacall      1924      2014              actress,soundtrack  tt0038355,tt0071877,tt0037382,tt0117057     tt0038355"
      ]
     },
     "execution_count": 10,
     "metadata": {},
     "output_type": "execute_result"
    }
   ],
   "source": [
    "df_Name_Basics_Exploded.head()"
   ]
  },
  {
   "cell_type": "code",
   "execution_count": null,
   "metadata": {},
   "outputs": [],
   "source": [
    "df_Name_Basics[df_Name_Basics[\"primaryName\"].str.contains(\"Tom Cruise\")]"
   ]
  },
  {
   "cell_type": "code",
   "execution_count": null,
   "metadata": {},
   "outputs": [],
   "source": [
    "df_Title_Crew_Director = df_Title_Crew[[\"tconst\",\"directors\"]].drop_duplicates().replace(r'\\N',\"0\", regex=False).fillna(\"0\")\n",
    "df_Title_Crew_Director = df_Title_Crew_Director[~df_Title_Crew_Director['directors'].isin(['0'])]\n",
    "df_Title_Crew_Director[\"director\"] = df_Title_Crew_Director[\"directors\"].str.split(\",\")\n",
    "df_Title_Crew_Director = df_Title_Crew_Director.explode(\"director\")\n",
    "# df_Title_Crew_Exploded_a = "
   ]
  },
  {
   "cell_type": "code",
   "execution_count": null,
   "metadata": {},
   "outputs": [],
   "source": [
    "df_Title_Crew_Writer = df_Title_Crew[[\"tconst\",\"writers\"]].drop_duplicates().replace(r'\\N',\"0\", regex=False).fillna(\"0\")\n",
    "df_Title_Crew_Writer = df_Title_Crew_Writer[~df_Title_Crew_Writer['writers'].isin(['0'])]\n",
    "df_Title_Crew_Writer[\"writer\"] = df_Title_Crew_Writer[\"writers\"].str.split(\",\")\n",
    "df_Title_Crew_Writer = df_Title_Crew_Writer.explode(\"writer\")"
   ]
  },
  {
   "cell_type": "code",
   "execution_count": null,
   "metadata": {
    "scrolled": false
   },
   "outputs": [],
   "source": [
    "df_Title_Crew_Writer.head(1)"
   ]
  },
  {
   "cell_type": "code",
   "execution_count": null,
   "metadata": {},
   "outputs": [],
   "source": [
    "df_Title_Episods.head(100)"
   ]
  },
  {
   "cell_type": "code",
   "execution_count": null,
   "metadata": {},
   "outputs": [],
   "source": [
    "df_Title_Episods[df_Title_Episods[\"tconst\"]==\"tt0077869\"]\n",
    "# df_Title_Episods[df_Title_Episods['primaryTitle'].str.contains('Lord of the Rings')]"
   ]
  },
  {
   "cell_type": "code",
   "execution_count": null,
   "metadata": {},
   "outputs": [],
   "source": [
    "df_Title_Basics['primaryTitle'].fillna(\"0\", inplace=True)\n",
    "df_Title_Basics[df_Title_Basics['primaryTitle'].str.contains('Lord of the Rings')]"
   ]
  },
  {
   "cell_type": "code",
   "execution_count": null,
   "metadata": {},
   "outputs": [],
   "source": [
    "df_Title_Princ.head()"
   ]
  },
  {
   "cell_type": "code",
   "execution_count": null,
   "metadata": {},
   "outputs": [],
   "source": [
    "df_Title_Ratings.head()"
   ]
  },
  {
   "cell_type": "code",
   "execution_count": null,
   "metadata": {},
   "outputs": [],
   "source": []
  }
 ],
 "metadata": {
  "kernelspec": {
   "display_name": "learn-env",
   "language": "python",
   "name": "learn-env"
  },
  "language_info": {
   "codemirror_mode": {
    "name": "ipython",
    "version": 3
   },
   "file_extension": ".py",
   "mimetype": "text/x-python",
   "name": "python",
   "nbconvert_exporter": "python",
   "pygments_lexer": "ipython3",
   "version": "3.8.3"
  }
 },
 "nbformat": 4,
 "nbformat_minor": 4
}
