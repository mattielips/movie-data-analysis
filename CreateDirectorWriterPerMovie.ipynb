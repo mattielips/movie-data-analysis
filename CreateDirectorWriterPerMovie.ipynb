{
 "cells": [
  {
   "cell_type": "code",
   "execution_count": 1,
   "metadata": {},
   "outputs": [],
   "source": [
    "import numpy as np #linear algebra\n",
    "import pandas as pd #data processing \n",
    "pd.set_option('display.max_rows', None)\n",
    "pd.set_option('display.max_columns', None)  \n",
    "pd.set_option('display.expand_frame_repr', False)\n",
    "pd.set_option('max_colwidth', None)\n",
    "\n",
    "# Importing into dataframe\n",
    "df_name_basics = pd.read_csv(\"./Prj_Data/DownLoadedData_Imdb/name.basics (1).tsv.gz\", delimiter='\\t', encoding='ANSI')\n",
    "df_Title_Crew = pd.read_csv(\"./Prj_Data/DownLoadedData_Imdb/title.crew (1).tsv.gz\", delimiter='\\t', encoding='ANSI')\n",
    "\n"
   ]
  },
  {
   "cell_type": "code",
   "execution_count": 2,
   "metadata": {},
   "outputs": [],
   "source": [
    "df_Title_Crew_small = df_Title_Crew.drop_duplicates()"
   ]
  },
  {
   "cell_type": "code",
   "execution_count": 3,
   "metadata": {},
   "outputs": [],
   "source": [
    "df_DirectorWriterPerMovie = df_IMDB_MovieCatalog.merge(df_Title_Crew_small, on=\"tconst\", how=\"left\")"
   ]
  },
  {
   "cell_type": "code",
   "execution_count": 4,
   "metadata": {},
   "outputs": [],
   "source": [
    "df_DirectorWriterPerMovie = df_DirectorWriterPerMovie[[\"tconst\",\"directors\", \"writers\"]]"
   ]
  },
  {
   "cell_type": "code",
   "execution_count": 5,
   "metadata": {},
   "outputs": [],
   "source": [
    "df_DirectorsPerMovie = df_DirectorWriterPerMovie[[\"tconst\",\"directors\"]]\n",
    "df_WritersPerMovie = df_DirectorWriterPerMovie[[\"tconst\",\"writers\"]]\n",
    "\n",
    "df_DirectorsPerMovie[\"Splitdirectors\"] = df_DirectorsPerMovie[\"directors\"].str.split(\",\")\n",
    "\n",
    "df_WritersPerMovie[\"Splitwriters\"] = df_WritersPerMovie[\"writers\"].str.split(\",\")\n",
    "\n",
    "df_DirectorsPerMovie = df_DirectorsPerMovie.explode(\"Splitdirectors\").drop_duplicates()\n",
    "df_WritersPerMovie = df_WritersPerMovie.explode(\"Splitwriters\").drop_duplicates()\n",
    "df_DirectorsPerMovie = df_DirectorsPerMovie.fillna(\"0\")\n",
    "df_WritersPerMovie = df_WritersPerMovie.fillna(\"0\")"
   ]
  },
  {
   "cell_type": "code",
   "execution_count": 6,
   "metadata": {
    "collapsed": true
   },
   "outputs": [
    {
     "name": "stdout",
     "output_type": "stream",
     "text": [
      "<class 'pandas.core.frame.DataFrame'>\n",
      "Int64Index: 36199 entries, 0 to 31059\n",
      "Data columns (total 3 columns):\n",
      " #   Column          Non-Null Count  Dtype \n",
      "---  ------          --------------  ----- \n",
      " 0   tconst          36199 non-null  object\n",
      " 1   directors       36199 non-null  object\n",
      " 2   Splitdirectors  36199 non-null  object\n",
      "dtypes: object(3)\n",
      "memory usage: 1.1+ MB\n"
     ]
    }
   ],
   "source": [
    "df_DirectorsPerMovie.info()"
   ]
  },
  {
   "cell_type": "code",
   "execution_count": 11,
   "metadata": {
    "collapsed": true
   },
   "outputs": [
    {
     "name": "stdout",
     "output_type": "stream",
     "text": [
      "<class 'pandas.core.frame.DataFrame'>\n",
      "RangeIndex: 10395071 entries, 0 to 10395070\n",
      "Data columns (total 6 columns):\n",
      " #   Column             Dtype \n",
      "---  ------             ----- \n",
      " 0   nconst             object\n",
      " 1   primaryName        object\n",
      " 2   birthYear          object\n",
      " 3   deathYear          object\n",
      " 4   primaryProfession  object\n",
      " 5   knownForTitles     object\n",
      "dtypes: object(6)\n",
      "memory usage: 475.8+ MB\n"
     ]
    }
   ],
   "source": [
    "df_name_basics.info()"
   ]
  },
  {
   "cell_type": "code",
   "execution_count": 12,
   "metadata": {
    "collapsed": true
   },
   "outputs": [
    {
     "name": "stderr",
     "output_type": "stream",
     "text": [
      "<ipython-input-12-bf32f2da5fca>:2: SettingWithCopyWarning: \n",
      "A value is trying to be set on a copy of a slice from a DataFrame.\n",
      "Try using .loc[row_indexer,col_indexer] = value instead\n",
      "\n",
      "See the caveats in the documentation: https://pandas.pydata.org/pandas-docs/stable/user_guide/indexing.html#returning-a-view-versus-a-copy\n",
      "  df_name_basics_ForDirs[\"nameyear\"] = df_name_basics_ForDirs[\"primaryName\"] + df_name_basics_ForDirs[\"birthYear\"]\n"
     ]
    }
   ],
   "source": [
    "df_name_basics_ForDirs = df_name_basics[[\"nconst\", \"primaryName\",\"birthYear\"]]\n",
    "df_name_basics_ForDirs[\"nameyear\"] = df_name_basics_ForDirs[\"primaryName\"] + df_name_basics_ForDirs[\"birthYear\"]\n",
    "df_DirectorsPerMovieWithtConst = df_DirectorsPerMovie.merge(df_name_basics_ForDirs,\n",
    "                                                            left_on=\"Splitdirectors\", right_on=\"nconst\", how=\"left\")"
   ]
  },
  {
   "cell_type": "code",
   "execution_count": 15,
   "metadata": {},
   "outputs": [],
   "source": [
    "df_DirectorsPerMovieWithtConst = df_DirectorsPerMovieWithtConst.fillna(\"0\")"
   ]
  },
  {
   "cell_type": "code",
   "execution_count": 16,
   "metadata": {},
   "outputs": [],
   "source": [
    "df_DirectorsPerMovieWithtConst.to_excel(\"df_DirectorsPerMovie.xlsx\")"
   ]
  },
  {
   "cell_type": "code",
   "execution_count": null,
   "metadata": {},
   "outputs": [],
   "source": []
  },
  {
   "cell_type": "code",
   "execution_count": null,
   "metadata": {},
   "outputs": [],
   "source": [
    "#__________________________________Creat Writers Tables ____________________________________________________"
   ]
  },
  {
   "cell_type": "code",
   "execution_count": null,
   "metadata": {},
   "outputs": [],
   "source": [
    "df_WritersPerMovie.info()"
   ]
  },
  {
   "cell_type": "code",
   "execution_count": 17,
   "metadata": {},
   "outputs": [],
   "source": [
    "df_name_basics_ForDirs = df_name_basics[[\"nconst\", \"primaryName\",\"birthYear\"]]\n",
    "df_WritersPerMovie[\"nameyear\"] = df_name_basics_ForDirs[\"primaryName\"] + df_name_basics_ForDirs[\"birthYear\"]\n",
    "df_WritersPerMovieWithtConst = df_WritersPerMovie.merge(df_name_basics_ForDirs,left_on=\"Splitwriters\", right_on=\"nconst\", how=\"left\")"
   ]
  },
  {
   "cell_type": "code",
   "execution_count": 20,
   "metadata": {
    "collapsed": true
   },
   "outputs": [
    {
     "name": "stdout",
     "output_type": "stream",
     "text": [
      "<class 'pandas.core.frame.DataFrame'>\n",
      "Int64Index: 60138 entries, 0 to 60137\n",
      "Data columns (total 7 columns):\n",
      " #   Column        Non-Null Count  Dtype \n",
      "---  ------        --------------  ----- \n",
      " 0   tconst        60138 non-null  object\n",
      " 1   writers       60138 non-null  object\n",
      " 2   Splitwriters  60138 non-null  object\n",
      " 3   nameyear      60138 non-null  object\n",
      " 4   nconst        60138 non-null  object\n",
      " 5   primaryName   60138 non-null  object\n",
      " 6   birthYear     60138 non-null  object\n",
      "dtypes: object(7)\n",
      "memory usage: 3.7+ MB\n"
     ]
    }
   ],
   "source": [
    "df_WritersPerMovieWithtConst.info()"
   ]
  },
  {
   "cell_type": "code",
   "execution_count": 18,
   "metadata": {},
   "outputs": [],
   "source": [
    "df_WritersPerMovieWithtConst = df_WritersPerMovieWithtConst.fillna(\"0\")"
   ]
  },
  {
   "cell_type": "code",
   "execution_count": 19,
   "metadata": {},
   "outputs": [],
   "source": [
    "df_WritersPerMovieWithtConst.to_excel(\"df_WritersPerMovie.xlsx\")"
   ]
  },
  {
   "cell_type": "code",
   "execution_count": null,
   "metadata": {},
   "outputs": [],
   "source": [
    "#________________________________________________________________for searching"
   ]
  },
  {
   "cell_type": "code",
   "execution_count": null,
   "metadata": {},
   "outputs": [],
   "source": [
    "df_Title_Episods[df_Title_Episods[\"tconst\"]==\"tt0077869\"]\n",
    "# df_Title_Episods[df_Title_Episods['primaryTitle'].str.contains('Lord of the Rings')]"
   ]
  },
  {
   "cell_type": "code",
   "execution_count": null,
   "metadata": {},
   "outputs": [],
   "source": [
    "df_Title_Basics['primaryTitle'].fillna(\"0\", inplace=True)\n",
    "df_Title_Basics[df_Title_Basics['primaryTitle'].str.contains('Lord of the Rings')]"
   ]
  },
  {
   "cell_type": "code",
   "execution_count": null,
   "metadata": {},
   "outputs": [],
   "source": [
    "df_Title_Princ.head()"
   ]
  },
  {
   "cell_type": "code",
   "execution_count": null,
   "metadata": {},
   "outputs": [],
   "source": [
    "df_Title_Ratings.head()"
   ]
  },
  {
   "cell_type": "code",
   "execution_count": null,
   "metadata": {},
   "outputs": [],
   "source": []
  }
 ],
 "metadata": {
  "kernelspec": {
   "display_name": "learn-env",
   "language": "python",
   "name": "learn-env"
  },
  "language_info": {
   "codemirror_mode": {
    "name": "ipython",
    "version": 3
   },
   "file_extension": ".py",
   "mimetype": "text/x-python",
   "name": "python",
   "nbconvert_exporter": "python",
   "pygments_lexer": "ipython3",
   "version": "3.8.3"
  }
 },
 "nbformat": 4,
 "nbformat_minor": 4
}
