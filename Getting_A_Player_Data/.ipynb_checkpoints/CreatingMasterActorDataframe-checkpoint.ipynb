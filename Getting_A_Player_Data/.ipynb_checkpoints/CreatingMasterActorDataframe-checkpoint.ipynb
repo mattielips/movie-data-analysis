{
 "cells": [
  {
   "cell_type": "code",
   "execution_count": 112,
   "metadata": {},
   "outputs": [],
   "source": [
    "import numpy as np #linear algebra\n",
    "import pandas as pd #data processing \n",
    "pd.set_option('display.max_rows', None)\n",
    "pd.set_option('display.max_columns', None)  \n",
    "pd.set_option('display.expand_frame_repr', False)\n",
    "pd.set_option('max_colwidth', None)\n",
    "\n",
    "# Importing into dataframe\n",
    "# df_Title_Basics = pd.read_csv(\"./Prj_Data/DownLoadedData_Imdb/title.basics (1).tsv.gz\", delimiter='\\t', encoding='ANSI')\n",
    "# df_Name_Basics = pd.read_csv(\"./Prj_Data/DownLoadedData_Imdb/name.basics (1).tsv.gz\", delimiter='\\t', encoding='ANSI')\n",
    "\n",
    "# df_Generes_With_tconst = pd.read_excel(\"df_Generes_With_tconst.xlsx\")\n",
    "df_IMDB_MovieCatalog = pd.read_excel(\"df_IMDB_MovieCatalog.xlsx\")\n",
    "df_starsplayers_knownForMovie = pd.read_excel ('./Prj_Data/ImdbScrapingData/TheNumbers/output/df_starsplayers_knownForMovies.xlsx', sheet_name='Export')\n",
    "df_starsplayers = pd.read_excel ('./Prj_Data/ImdbScrapingData/TheNumbers/input/PeopleMetaData.xlsx', sheet_name='Export')\n",
    "# df_Principles = pd.read_csv(\"./Prj_Data/DownLoadedData_Imdb/title.principals (1).tsv.gz\", delimiter='\\t', encoding='ANSI')\n"
   ]
  },
  {
   "cell_type": "code",
   "execution_count": null,
   "metadata": {},
   "outputs": [],
   "source": [
    "#_________________________________Inserting nconst and tconst into Numbers Meatadata actor tables________________________"
   ]
  },
  {
   "cell_type": "code",
   "execution_count": null,
   "metadata": {},
   "outputs": [],
   "source": [
    "#1. Start by Narrowing the Basics and Principles tables down by only getting data that can be linked to our \n",
    "#main movies tconts/ tabls\n",
    "df_IMDB_MovieCatalog_Short = df_IMDB_MovieCatalog[[\"tconst\",\"titleyear\"]]"
   ]
  },
  {
   "cell_type": "code",
   "execution_count": null,
   "metadata": {},
   "outputs": [],
   "source": [
    "ActorswithMoviesWeCareAbout = df_IMDB_MovieCatalog_Short.merge(df_Principles, on=\"tconst\", how=\"inner\").merge(df_Name_Basics, on=\"nconst\",how=\"inner\")\n"
   ]
  },
  {
   "cell_type": "code",
   "execution_count": null,
   "metadata": {},
   "outputs": [],
   "source": [
    "#2. Now that you have reduced the number of possible linking rows for our Star Players Table, link on name_IMBD\n",
    "#  Remember this first requires you to make sure the names in IMDB (Robert Downey, JR vs Robert Downey J.R link up\n",
    "# via updating the People metadata table manually cross referencing via eye and cut and paste)\n"
   ]
  },
  {
   "cell_type": "code",
   "execution_count": null,
   "metadata": {},
   "outputs": [],
   "source": [
    "#get star actors connected to nconst\n",
    "df_starsplayers_WithMixedNconst = df_starsplayers.merge(ActorswithMoviesWeCareAbout,left_on=\"Name_IMDB\", right_on=\"primaryName\", how=\"outer\", indicator=\"left\")\n",
    "df_starsplayers_WithMixedNconst = df_starsplayers_WithMixedNconst.drop_duplicates()\n"
   ]
  },
  {
   "cell_type": "code",
   "execution_count": null,
   "metadata": {},
   "outputs": [],
   "source": [
    "#------SAVE----Used to create cross reference for names in IMDB to names in Numbers (see to facilitate the above step)\n",
    "# df_starsplayers_MixedNconst = df_starsplayers.merge(ActorswithMoviesWeCareAbout,left_on=\"Name_IMDB\", right_on=\"primaryName\", how=\"outer\", indicator=\"outer\")\n",
    "# df_starsplayers_MixedNconst = df_starsplayers_MixedNconst.drop_duplicates()\n",
    "# #get star actors connected to nconst"
   ]
  },
  {
   "cell_type": "code",
   "execution_count": null,
   "metadata": {},
   "outputs": [],
   "source": [
    "# Make sure not missing any important people when inserting nconst\n",
    "# df_starsplayers_MixedNconst_Null_nconst = df_starsplayers_MixedNconst[df_starsplayers_MixedNconst['nconst'].isnull()]\n",
    "df_starsplayers_MixedNconst[df_starsplayers_MixedNconst['nconst'].isnull()].sort_values(by=\"Name\")"
   ]
  },
  {
   "cell_type": "code",
   "execution_count": null,
   "metadata": {},
   "outputs": [],
   "source": [
    "#DF 1 NCONST ONLY\n",
    "df_StarActors_With_nconst = df_starsplayers_WithMixedNconst[['Rank','Name_IMDB', 'Name', 'Domestic Box Office', 'Movies', 'Average', 'Link', 'Contribution', 'BirthdayClean', 'nameyear', 'nconst']]\n",
    "df_StarActors_With_nconst = df_StarActors_With_nconst.drop_duplicates()\n",
    "df_StarActors_With_nconst = df_StarActors_With_nconst.dropna(subset=[\"Name\"])"
   ]
  },
  {
   "cell_type": "code",
   "execution_count": null,
   "metadata": {},
   "outputs": [],
   "source": [
    "df_StarActors_With_nconst.to_excel(\"df_StarActors_With_nconst.xlsx\")"
   ]
  },
  {
   "cell_type": "code",
   "execution_count": null,
   "metadata": {},
   "outputs": [],
   "source": [
    "#DF 2 NCONST AND TCONST\n",
    "df_StarActors_With_nconst_tconst = df_starsplayers_WithMixedNconst[['Rank', 'Name_IMDB', 'Name', 'Domestic Box Office', 'Movies', 'Average',\n",
    "       'Link', 'Contribution', 'BirthdayClean', 'nameyear', 'nconst', 'tconst']]\n",
    "df_StarActors_With_nconst_tconst = df_StarActors_With_nconst_tconst.drop_duplicates()\n",
    "df_StarActors_With_nconst_tconst = df_StarActors_With_nconst_tconst.dropna(subset=[\"Name\"])"
   ]
  },
  {
   "cell_type": "code",
   "execution_count": null,
   "metadata": {},
   "outputs": [],
   "source": [
    "df_StarActors_With_nconst_tconst.to_excel(\"df_StarActors_With_nconst_tconst.xlsx\")"
   ]
  },
  {
   "cell_type": "code",
   "execution_count": null,
   "metadata": {},
   "outputs": [],
   "source": []
  },
  {
   "cell_type": "code",
   "execution_count": null,
   "metadata": {},
   "outputs": [],
   "source": [
    "#________________________CODE FOR CHECKING THE ABOVE FOR ERRORS,ETC"
   ]
  },
  {
   "cell_type": "code",
   "execution_count": null,
   "metadata": {},
   "outputs": [],
   "source": [
    "df_StarActors_With_nconst[[\"Name\",\"Contribution\",\"nconst\"]].sort_values(by=\"Name\").groupby([\"Name\", \"Contribution\"]).count()"
   ]
  },
  {
   "cell_type": "code",
   "execution_count": null,
   "metadata": {},
   "outputs": [],
   "source": [
    "# df_StarActors_With_nconst_tconst[[\"Name\",\"Contribution\",\"nconst\",\"tconst\"]].sort_values(by=\"Name\").groupby([\"Name\", \"Contribution\"]).count()\n",
    "\n",
    "df_StarActors_With_nconst_tconst[[\"Name\",\"Contribution\",\"tconst\", \"Movies\"]].sort_values(by=\"Name\").groupby([\"Name\", \"Contribution\"]).agg({'tconst':'count','Movies':'max'})\n"
   ]
  },
  {
   "cell_type": "code",
   "execution_count": null,
   "metadata": {},
   "outputs": [],
   "source": [
    "#___________________________________END________________________"
   ]
  },
  {
   "cell_type": "code",
   "execution_count": null,
   "metadata": {},
   "outputs": [],
   "source": []
  },
  {
   "cell_type": "code",
   "execution_count": null,
   "metadata": {},
   "outputs": [],
   "source": [
    "#__________________________________insert tconstinto KnownforMoviesTable_________________________________________"
   ]
  },
  {
   "cell_type": "code",
   "execution_count": 129,
   "metadata": {},
   "outputs": [],
   "source": [
    "df_starsplayers_knownForMovie[\"IMDB_XREF\"] = df_starsplayers_knownForMovie[\"IMDB_XREF\"].fillna(\"0\")\n",
    "df_starsplayers_knownForMovie[\"ReleaseYear\"] = df_starsplayers_knownForMovie[\"ReleaseYear\"].astype(str)\n",
    "\n",
    "df_starsplayers_knownForMovie[\"ReleaseYear\"] = df_starsplayers_knownForMovie[\"ReleaseYear\"].apply(lambda x: str(x)[:-2])\n",
    "\n",
    "df_starsplayers_knownForMovie[\"title_linktoIMDB\"] = df_starsplayers_knownForMovie[\"IMDB_XREF\"].str.title()\n",
    "\n",
    "df_starsplayers_knownForMovie[\"titleyear_titlelinktoIMDB\"] = df_starsplayers_knownForMovie[\"title_linktoIMDB\"] + df_starsplayers_knownForMovie[\"ReleaseYear\"]"
   ]
  },
  {
   "cell_type": "code",
   "execution_count": 131,
   "metadata": {
    "scrolled": true
   },
   "outputs": [],
   "source": [
    "df_IMDB_MovieCatalog[\"primaryTitle\"] = df_IMDB_MovieCatalog[\"primaryTitle\"].str.title()\n",
    "df_IMDB_MovieCatalog[\"titleyear1\"] = df_IMDB_MovieCatalog[\"primaryTitle\"] + df_IMDB_MovieCatalog[\"startYear_str\"].astype(str)\n",
    "\n",
    "# df_IMDB_MovieCatalog[\"titleyear\"] = df_IMDB_MovieCatalog.apply(lambda row : row[\"primaryTitle\"] + str(row[\"startYear_str\"]))"
   ]
  },
  {
   "cell_type": "code",
   "execution_count": 133,
   "metadata": {},
   "outputs": [],
   "source": [
    "df_IMDB_MovieCatalog_Short = df_IMDB_MovieCatalog[[ \"primaryTitle\",\"titleyear1\",\"tconst\"]]"
   ]
  },
  {
   "cell_type": "code",
   "execution_count": 135,
   "metadata": {},
   "outputs": [],
   "source": [
    "df_KnownForMerged = df_starsplayers_knownForMovie.merge(df_IMDB_MovieCatalog_Short, left_on=\"titleyear_titlelinktoIMDB\" , right_on=\"titleyear1\", how=\"left\")"
   ]
  },
  {
   "cell_type": "code",
   "execution_count": 136,
   "metadata": {},
   "outputs": [],
   "source": [
    "df_KnownForMerged.to_excel(\"df_StarActors_KnownForWithTconst.xlsx\")"
   ]
  },
  {
   "cell_type": "code",
   "execution_count": null,
   "metadata": {},
   "outputs": [],
   "source": []
  },
  {
   "cell_type": "code",
   "execution_count": 77,
   "metadata": {},
   "outputs": [],
   "source": [
    "#_______________________________USED TO UPDATE TITLE MANUALLY in Star Play DF Titltes KNOWN FOR(500) DAYS OF SUMMER vs 500 Days of Summer \n",
    "df_KnownForMerged_nulls = df_KnownForMerged[[\"title_linktoIMDB\",\"titleyear1\",\"tconst\"]][df_KnownForMerged[\"tconst\"].isnull()]\n",
    "df_KnownForMerged_nulls = df_KnownForMerged_nulls.drop_duplicates()"
   ]
  },
  {
   "cell_type": "code",
   "execution_count": 31,
   "metadata": {
    "collapsed": true
   },
   "outputs": [
    {
     "data": {
      "text/html": [
       "<div>\n",
       "<style scoped>\n",
       "    .dataframe tbody tr th:only-of-type {\n",
       "        vertical-align: middle;\n",
       "    }\n",
       "\n",
       "    .dataframe tbody tr th {\n",
       "        vertical-align: top;\n",
       "    }\n",
       "\n",
       "    .dataframe thead th {\n",
       "        text-align: right;\n",
       "    }\n",
       "</style>\n",
       "<table border=\"1\" class=\"dataframe\">\n",
       "  <thead>\n",
       "    <tr style=\"text-align: right;\">\n",
       "      <th></th>\n",
       "      <th>titleyear</th>\n",
       "      <th>tconst</th>\n",
       "    </tr>\n",
       "  </thead>\n",
       "  <tbody>\n",
       "    <tr>\n",
       "      <th>100</th>\n",
       "      <td>12 Years A Slave2013</td>\n",
       "      <td>tt2024544</td>\n",
       "    </tr>\n",
       "  </tbody>\n",
       "</table>\n",
       "</div>"
      ],
      "text/plain": [
       "                titleyear     tconst\n",
       "100  12 Years A Slave2013  tt2024544"
      ]
     },
     "execution_count": 31,
     "metadata": {},
     "output_type": "execute_result"
    }
   ],
   "source": [
    "# code for checking for errors\n",
    "df_IMDB_MovieCatalog[[\"titleyear1\",\"tconst\"]][df_IMDB_MovieCatalog[\"titleyear\"].str.contains('12 Years A Slave')]"
   ]
  },
  {
   "cell_type": "code",
   "execution_count": null,
   "metadata": {},
   "outputs": [],
   "source": [
    "#___________________________________END________________________"
   ]
  },
  {
   "cell_type": "code",
   "execution_count": null,
   "metadata": {},
   "outputs": [],
   "source": []
  },
  {
   "cell_type": "code",
   "execution_count": null,
   "metadata": {},
   "outputs": [],
   "source": [
    "#________________________Remove Dups FROM Star Players Table... just asssume/Uses Primary Contributions_________________________________________"
   ]
  },
  {
   "cell_type": "code",
   "execution_count": null,
   "metadata": {},
   "outputs": [],
   "source": [
    "df_Stars_no_dups = df_starsplayers.sort_values(by=[\"Name\", \"Contribution\"])\n",
    "df_Stars_no_dups1 = df_Stars_no_dups.drop_duplicates(subset=\"Name\", keep=\"first\")"
   ]
  },
  {
   "cell_type": "code",
   "execution_count": null,
   "metadata": {},
   "outputs": [],
   "source": [
    "df_Stars_no_dups1.to_excel(\"df_StarActors_NoDups.xlsx\")"
   ]
  }
 ],
 "metadata": {
  "kernelspec": {
   "display_name": "learn-env",
   "language": "python",
   "name": "learn-env"
  },
  "language_info": {
   "codemirror_mode": {
    "name": "ipython",
    "version": 3
   },
   "file_extension": ".py",
   "mimetype": "text/x-python",
   "name": "python",
   "nbconvert_exporter": "python",
   "pygments_lexer": "ipython3",
   "version": "3.8.3"
  }
 },
 "nbformat": 4,
 "nbformat_minor": 4
}
